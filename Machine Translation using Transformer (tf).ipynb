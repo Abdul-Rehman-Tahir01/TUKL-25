{
 "cells": [
  {
   "cell_type": "code",
   "execution_count": 3,
   "metadata": {
    "_cell_guid": "b1076dfc-b9ad-4769-8c92-a6c4dae69d19",
    "_uuid": "8f2839f25d086af736a60e9eeb907d3b93b6e0e5",
    "execution": {
     "iopub.execute_input": "2025-07-14T04:21:45.277617Z",
     "iopub.status.busy": "2025-07-14T04:21:45.277423Z",
     "iopub.status.idle": "2025-07-14T04:21:45.282113Z",
     "shell.execute_reply": "2025-07-14T04:21:45.281320Z",
     "shell.execute_reply.started": "2025-07-14T04:21:45.277601Z"
    },
    "trusted": true
   },
   "outputs": [],
   "source": [
    "# Importing Libraries\n",
    "import tensorflow as tf\n",
    "import tensorflow_datasets as tfds\n",
    "import numpy as np\n",
    "import matplotlib.pyplot as plt  \n",
    "\n",
    "import nltk\n",
    "from nltk.translate.bleu_score import sentence_bleu, SmoothingFunction\n",
    "from nltk.translate.meteor_score import meteor_score\n",
    "from nltk.tokenize import word_tokenize"
   ]
  },
  {
   "cell_type": "code",
   "execution_count": 4,
   "metadata": {
    "execution": {
     "iopub.execute_input": "2025-07-14T04:21:45.283064Z",
     "iopub.status.busy": "2025-07-14T04:21:45.282903Z",
     "iopub.status.idle": "2025-07-14T04:21:45.452250Z",
     "shell.execute_reply": "2025-07-14T04:21:45.451483Z",
     "shell.execute_reply.started": "2025-07-14T04:21:45.283050Z"
    },
    "trusted": true
   },
   "outputs": [
    {
     "name": "stdout",
     "output_type": "stream",
     "text": [
      "Train size: 25000\n",
      "Validation size: 3000\n",
      "(<tf.Tensor: shape=(), dtype=string, numpy=b'An der B 211 befindet sich in Loyermoor der so genannte \\xe2\\x80\\x9eGeest-Abbruch\\xe2\\x80\\x9c, der eine H\\xc3\\xb6hendifferenz von gut 30 Meter \\xc3\\xbcberbr\\xc3\\xbcckt.'>, <tf.Tensor: shape=(), dtype=string, numpy=b'Here the largest town of the district is located: Nordenham , lying opposite to Bremerhaven at the Weser mouth.'>)\n"
     ]
    }
   ],
   "source": [
    "# Load dataset\n",
    "ds, info = tfds.load(\n",
    "    'wmt14_translate/de-en', \n",
    "    split=['train', 'validation'], \n",
    "    as_supervised=True, \n",
    "    with_info=True\n",
    ")\n",
    "train_examples, val_examples = ds\n",
    "train_examples = train_examples.take(25000)\n",
    "print(\"Train size:\", len(train_examples))\n",
    "print(\"Validation size:\", len(val_examples))   \n",
    "print(train_examples.take(1).get_single_element())"
   ]
  },
  {
   "cell_type": "code",
   "execution_count": 5,
   "metadata": {
    "execution": {
     "iopub.execute_input": "2025-07-14T04:33:57.182216Z",
     "iopub.status.busy": "2025-07-14T04:33:57.181661Z",
     "iopub.status.idle": "2025-07-14T04:36:50.391708Z",
     "shell.execute_reply": "2025-07-14T04:36:50.390871Z",
     "shell.execute_reply.started": "2025-07-14T04:33:57.182191Z"
    },
    "trusted": true
   },
   "outputs": [],
   "source": [
    "# Tokenization and preprocessing\n",
    "tokenizer_en = tfds.deprecated.text.SubwordTextEncoder.build_from_corpus(\n",
    "    (en.numpy() for _, en in train_examples), target_vocab_size=2**13)\n",
    "tokenizer_de = tfds.deprecated.text.SubwordTextEncoder.build_from_corpus(\n",
    "    (de.numpy() for de, _ in train_examples), target_vocab_size=2**13)\n",
    "\n",
    "VOCAB_SIZE_EN = tokenizer_en.vocab_size + 2\n",
    "VOCAB_SIZE_DE = tokenizer_de.vocab_size + 2\n",
    "START_TOKEN, END_TOKEN = [VOCAB_SIZE_DE - 2], [VOCAB_SIZE_DE - 1]"
   ]
  },
  {
   "cell_type": "code",
   "execution_count": 6,
   "metadata": {
    "execution": {
     "iopub.execute_input": "2025-07-14T04:37:39.726628Z",
     "iopub.status.busy": "2025-07-14T04:37:39.725798Z",
     "iopub.status.idle": "2025-07-14T04:37:39.831947Z",
     "shell.execute_reply": "2025-07-14T04:37:39.831073Z",
     "shell.execute_reply.started": "2025-07-14T04:37:39.726591Z"
    },
    "trusted": true
   },
   "outputs": [],
   "source": [
    "def encode(de, en):\n",
    "    de = START_TOKEN + tokenizer_de.encode(de.numpy()) + END_TOKEN\n",
    "    en = tokenizer_en.encode(en.numpy()) + [tokenizer_en.vocab_size + 1]\n",
    "    return de, en\n",
    "\n",
    "def tf_encode(de, en):\n",
    "    de, en = tf.py_function(encode, [de, en], [tf.int64, tf.int64])\n",
    "    de.set_shape([None])\n",
    "    en.set_shape([None])\n",
    "    return de, en\n",
    "\n",
    "train_dataset = train_examples.map(tf_encode)\n",
    "train_dataset = train_dataset.filter(lambda x, y: tf.logical_and(tf.size(x) <= 40, tf.size(y) <= 40))\n",
    "train_dataset = train_dataset.padded_batch(64, padded_shapes=([None], [None]))"
   ]
  },
  {
   "cell_type": "code",
   "execution_count": 7,
   "metadata": {
    "execution": {
     "iopub.execute_input": "2025-07-14T04:37:40.953674Z",
     "iopub.status.busy": "2025-07-14T04:37:40.953073Z",
     "iopub.status.idle": "2025-07-14T04:37:40.963167Z",
     "shell.execute_reply": "2025-07-14T04:37:40.962597Z",
     "shell.execute_reply.started": "2025-07-14T04:37:40.953649Z"
    },
    "trusted": true
   },
   "outputs": [],
   "source": [
    "# Positional Encoding\n",
    "def get_angles(pos, i, d_model):\n",
    "    angle_rates = 1 / np.power(10000, (2 * (i//2)) / np.float32(d_model))\n",
    "    return pos * angle_rates\n",
    "\n",
    "def positional_encoding(position, d_model):\n",
    "    angle_rads = get_angles(np.arange(position)[:, np.newaxis], np.arange(d_model)[np.newaxis, :], d_model)\n",
    "    angle_rads[:, 0::2] = np.sin(angle_rads[:, 0::2])\n",
    "    angle_rads[:, 1::2] = np.cos(angle_rads[:, 1::2])\n",
    "    pos_encoding = angle_rads[np.newaxis, ...]\n",
    "    return tf.cast(pos_encoding, dtype=tf.float32)\n",
    "\n",
    "# Attention blocks\n",
    "def scaled_dot_product_attention(q, k, v, mask):\n",
    "    matmul_qk = tf.matmul(q, k, transpose_b=True)\n",
    "    dk = tf.cast(tf.shape(k)[-1], tf.float32)\n",
    "    scaled_attention_logits = matmul_qk / tf.math.sqrt(dk)\n",
    "    if mask is not None:\n",
    "        scaled_attention_logits += (mask * -1e9)\n",
    "    attention_weights = tf.nn.softmax(scaled_attention_logits, axis=-1)\n",
    "    output = tf.matmul(attention_weights, v)\n",
    "    return output\n",
    "\n",
    "def split_heads(x, num_heads):\n",
    "    batch_size = tf.shape(x)[0]\n",
    "    seq_len = tf.shape(x)[1]\n",
    "    depth = x.shape[2] // num_heads\n",
    "    x = tf.reshape(x, (batch_size, seq_len, num_heads, depth))\n",
    "    return tf.transpose(x, perm=[0, 2, 1, 3])\n",
    "\n",
    "def multi_head_attention(q, k, v, mask, num_heads, dense_q, dense_k, dense_v, dense_out):\n",
    "    d_model = q.shape[-1]\n",
    "    wq = dense_q(q)\n",
    "    wk = dense_k(k)\n",
    "    wv = dense_v(v)\n",
    "    q_split = split_heads(wq, num_heads)\n",
    "    k_split = split_heads(wk, num_heads)\n",
    "    v_split = split_heads(wv, num_heads)\n",
    "    scaled_attention = scaled_dot_product_attention(q_split, k_split, v_split, mask)\n",
    "    scaled_attention = tf.transpose(scaled_attention, perm=[0, 2, 1, 3])\n",
    "    concat_attention = tf.reshape(scaled_attention, (tf.shape(q)[0], -1, d_model))\n",
    "    return dense_out(concat_attention)"
   ]
  },
  {
   "cell_type": "code",
   "execution_count": 8,
   "metadata": {
    "execution": {
     "iopub.execute_input": "2025-07-14T04:37:42.928094Z",
     "iopub.status.busy": "2025-07-14T04:37:42.927317Z",
     "iopub.status.idle": "2025-07-14T04:37:43.056374Z",
     "shell.execute_reply": "2025-07-14T04:37:43.055594Z",
     "shell.execute_reply.started": "2025-07-14T04:37:42.928067Z"
    },
    "trusted": true
   },
   "outputs": [],
   "source": [
    "# Transformer hyperparameters\n",
    "num_heads = 4\n",
    "d_model = 128\n",
    "dff = 512\n",
    "\n",
    "# Shared layers\n",
    "embedding_de = tf.keras.layers.Embedding(VOCAB_SIZE_DE, d_model)\n",
    "embedding_en = tf.keras.layers.Embedding(VOCAB_SIZE_EN, d_model)\n",
    "pos_encoding = positional_encoding(1000, d_model)\n",
    "\n",
    "# Encoder/decoder attention layers\n",
    "dense_q = tf.keras.layers.Dense(d_model)\n",
    "dense_k = tf.keras.layers.Dense(d_model)\n",
    "dense_v = tf.keras.layers.Dense(d_model)\n",
    "dense_out = tf.keras.layers.Dense(d_model)\n",
    "\n",
    "# Second attention block in decoder\n",
    "dense_q2 = tf.keras.layers.Dense(d_model)\n",
    "dense_k2 = tf.keras.layers.Dense(d_model)\n",
    "dense_v2 = tf.keras.layers.Dense(d_model)\n",
    "dense_out2 = tf.keras.layers.Dense(d_model)\n",
    "\n",
    "# Final output layer\n",
    "final_dense = tf.keras.layers.Dense(VOCAB_SIZE_EN)"
   ]
  },
  {
   "cell_type": "markdown",
   "metadata": {},
   "source": [
    "## <b>Transformer Architecture</b>"
   ]
  },
  {
   "cell_type": "code",
   "execution_count": 9,
   "metadata": {
    "execution": {
     "iopub.execute_input": "2025-07-14T04:37:44.838815Z",
     "iopub.status.busy": "2025-07-14T04:37:44.838217Z",
     "iopub.status.idle": "2025-07-14T04:37:44.853760Z",
     "shell.execute_reply": "2025-07-14T04:37:44.853058Z",
     "shell.execute_reply.started": "2025-07-14T04:37:44.838792Z"
    },
    "trusted": true
   },
   "outputs": [],
   "source": [
    "# Define LayerNormalization layers outside the transformer function\n",
    "ln_enc1 = tf.keras.layers.LayerNormalization(epsilon=1e-6)  # Encoder after self-attention\n",
    "ln_enc2 = tf.keras.layers.LayerNormalization(epsilon=1e-6)  # Encoder after FFN\n",
    "ln_dec1 = tf.keras.layers.LayerNormalization(epsilon=1e-6)  # Decoder after self-attention\n",
    "ln_dec2 = tf.keras.layers.LayerNormalization(epsilon=1e-6)  # Decoder after encoder-decoder attention\n",
    "ln_dec3 = tf.keras.layers.LayerNormalization(epsilon=1e-6)  # Decoder after FFN\n",
    "\n",
    "# Feed-forward networks\n",
    "ffn_enc = tf.keras.Sequential([tf.keras.layers.Dense(dff, activation='relu'), tf.keras.layers.Dense(d_model)])\n",
    "ffn_dec = tf.keras.Sequential([tf.keras.layers.Dense(dff, activation='relu'), tf.keras.layers.Dense(d_model)])\n",
    "\n",
    "def transformer(inp, tar):\n",
    "    inp_padding_mask = tf.cast(tf.math.equal(inp, 0), tf.float32)[:, tf.newaxis, tf.newaxis, :]\n",
    "    look_ahead_mask = 1 - tf.linalg.band_part(tf.ones((tf.shape(tar)[1], tf.shape(tar)[1])), -1, 0)\n",
    "    tar_padding_mask = tf.cast(tf.math.equal(tar, 0), tf.float32)[:, tf.newaxis, tf.newaxis, :]\n",
    "    combined_mask = tf.maximum(look_ahead_mask, tar_padding_mask)\n",
    "\n",
    "    inp_embed = embedding_de(inp) + pos_encoding[:, :tf.shape(inp)[1], :]\n",
    "    tar_embed = embedding_en(tar) + pos_encoding[:, :tf.shape(tar)[1], :]\n",
    "\n",
    "    enc_out = multi_head_attention(inp_embed, inp_embed, inp_embed, inp_padding_mask, num_heads, dense_q, dense_k, dense_v, dense_out)\n",
    "    enc_out = ln_enc1(inp_embed + enc_out)\n",
    "    enc_out = ln_enc2(enc_out + ffn_enc(enc_out))\n",
    "\n",
    "    dec_out = multi_head_attention(tar_embed, tar_embed, tar_embed, combined_mask, num_heads, dense_q, dense_k, dense_v, dense_out)\n",
    "    dec_out = ln_dec1(tar_embed + dec_out)\n",
    "    dec_out2 = multi_head_attention(dec_out, enc_out, enc_out, inp_padding_mask, num_heads, dense_q2, dense_k2, dense_v2, dense_out2)\n",
    "    dec_out2 = ln_dec2(dec_out + dec_out2)\n",
    "    dec_out = ln_dec3(dec_out2 + ffn_dec(dec_out2))\n",
    "\n",
    "    return final_dense(dec_out)"
   ]
  },
  {
   "cell_type": "code",
   "execution_count": 10,
   "metadata": {
    "execution": {
     "iopub.execute_input": "2025-07-14T04:37:46.754852Z",
     "iopub.status.busy": "2025-07-14T04:37:46.754570Z",
     "iopub.status.idle": "2025-07-14T04:37:46.774496Z",
     "shell.execute_reply": "2025-07-14T04:37:46.773913Z",
     "shell.execute_reply.started": "2025-07-14T04:37:46.754833Z"
    },
    "trusted": true
   },
   "outputs": [],
   "source": [
    "# Loss and optimizer\n",
    "loss_object = tf.keras.losses.SparseCategoricalCrossentropy(from_logits=True, reduction='none')\n",
    "\n",
    "def loss_function(real, pred):\n",
    "    mask = tf.math.logical_not(tf.math.equal(real, 0))\n",
    "    loss_ = loss_object(real, pred)\n",
    "    mask = tf.cast(mask, dtype=loss_.dtype)\n",
    "    return tf.reduce_sum(loss_ * mask) / tf.reduce_sum(mask)\n",
    "\n",
    "optimizer = tf.keras.optimizers.Adam()"
   ]
  },
  {
   "cell_type": "code",
   "execution_count": 11,
   "metadata": {
    "execution": {
     "iopub.execute_input": "2025-07-14T04:37:48.099599Z",
     "iopub.status.busy": "2025-07-14T04:37:48.098725Z",
     "iopub.status.idle": "2025-07-14T04:37:48.104284Z",
     "shell.execute_reply": "2025-07-14T04:37:48.103492Z",
     "shell.execute_reply.started": "2025-07-14T04:37:48.099565Z"
    },
    "trusted": true
   },
   "outputs": [],
   "source": [
    "# Training Step\n",
    "@tf.function\n",
    "def train_step(inp, tar):\n",
    "    tar_inp = tar[:, :-1]\n",
    "    tar_real = tar[:, 1:]\n",
    "\n",
    "    with tf.GradientTape() as tape:\n",
    "        predictions = transformer(inp, tar_inp)\n",
    "        loss = loss_function(tar_real, predictions)\n",
    "\n",
    "    variables = tape.watched_variables()\n",
    "    gradients = tape.gradient(loss, variables)\n",
    "    optimizer.apply_gradients(zip(gradients, variables))\n",
    "\n",
    "    return loss"
   ]
  },
  {
   "cell_type": "code",
   "execution_count": 12,
   "metadata": {
    "execution": {
     "iopub.execute_input": "2025-07-14T04:37:50.102232Z",
     "iopub.status.busy": "2025-07-14T04:37:50.101966Z",
     "iopub.status.idle": "2025-07-14T04:46:17.293292Z",
     "shell.execute_reply": "2025-07-14T04:46:17.292600Z",
     "shell.execute_reply.started": "2025-07-14T04:37:50.102212Z"
    },
    "trusted": true
   },
   "outputs": [
    {
     "name": "stdout",
     "output_type": "stream",
     "text": [
      "Epoch 1, Batch 0, Loss 9.0216\n",
      "Epoch 1, Batch 100, Loss 6.6664\n",
      "Epoch 1, Batch 200, Loss 6.1742\n",
      "Epoch 1 Loss: 6.6885\n",
      "Epoch 2, Batch 0, Loss 5.9418\n",
      "Epoch 2, Batch 100, Loss 5.6129\n",
      "Epoch 2, Batch 200, Loss 5.6629\n",
      "Epoch 2 Loss: 5.6838\n",
      "Epoch 3, Batch 0, Loss 5.3919\n",
      "Epoch 3, Batch 100, Loss 5.1004\n",
      "Epoch 3, Batch 200, Loss 5.1998\n",
      "Epoch 3 Loss: 5.2325\n",
      "Epoch 4, Batch 0, Loss 4.9894\n",
      "Epoch 4, Batch 100, Loss 4.6686\n",
      "Epoch 4, Batch 200, Loss 4.8857\n",
      "Epoch 4 Loss: 4.8361\n",
      "Epoch 5, Batch 0, Loss 4.5951\n",
      "Epoch 5, Batch 100, Loss 4.2774\n",
      "Epoch 5, Batch 200, Loss 4.5210\n",
      "Epoch 5 Loss: 4.4671\n",
      "Epoch 6, Batch 0, Loss 4.2726\n",
      "Epoch 6, Batch 100, Loss 3.9244\n",
      "Epoch 6, Batch 200, Loss 4.2173\n",
      "Epoch 6 Loss: 4.1407\n",
      "Epoch 7, Batch 0, Loss 3.9577\n",
      "Epoch 7, Batch 100, Loss 3.6502\n",
      "Epoch 7, Batch 200, Loss 3.8900\n",
      "Epoch 7 Loss: 3.8365\n",
      "Epoch 8, Batch 0, Loss 3.6717\n",
      "Epoch 8, Batch 100, Loss 3.4745\n",
      "Epoch 8, Batch 200, Loss 3.5537\n",
      "Epoch 8 Loss: 3.5373\n",
      "Epoch 9, Batch 0, Loss 3.4355\n",
      "Epoch 9, Batch 100, Loss 3.2163\n",
      "Epoch 9, Batch 200, Loss 3.3200\n",
      "Epoch 9 Loss: 3.2658\n",
      "Epoch 10, Batch 0, Loss 3.2243\n",
      "Epoch 10, Batch 100, Loss 2.9504\n",
      "Epoch 10, Batch 200, Loss 3.0411\n",
      "Epoch 10 Loss: 3.0122\n",
      "Epoch 11, Batch 0, Loss 2.9778\n",
      "Epoch 11, Batch 100, Loss 2.7432\n",
      "Epoch 11, Batch 200, Loss 2.7725\n",
      "Epoch 11 Loss: 2.7596\n",
      "Epoch 12, Batch 0, Loss 2.6978\n",
      "Epoch 12, Batch 100, Loss 2.5295\n",
      "Epoch 12, Batch 200, Loss 2.5784\n",
      "Epoch 12 Loss: 2.5223\n",
      "Epoch 13, Batch 0, Loss 2.4922\n",
      "Epoch 13, Batch 100, Loss 2.2502\n",
      "Epoch 13, Batch 200, Loss 2.4238\n",
      "Epoch 13 Loss: 2.3022\n",
      "Epoch 14, Batch 0, Loss 2.2924\n",
      "Epoch 14, Batch 100, Loss 2.0259\n",
      "Epoch 14, Batch 200, Loss 2.2033\n",
      "Epoch 14 Loss: 2.1015\n",
      "Epoch 15, Batch 0, Loss 2.1301\n",
      "Epoch 15, Batch 100, Loss 1.7919\n",
      "Epoch 15, Batch 200, Loss 2.0090\n",
      "Epoch 15 Loss: 1.9118\n"
     ]
    }
   ],
   "source": [
    "# Training Loop\n",
    "batch_losses = []  # Store loss for each batch\n",
    "epoch_avg_losses = []\n",
    "\n",
    "for epoch in range(15):\n",
    "    epoch_loss = 0\n",
    "    for (batch, (inp, tar)) in enumerate(train_dataset):\n",
    "        batch_loss = train_step(inp, tar)\n",
    "        batch_losses.append(batch_loss)\n",
    "\n",
    "        epoch_loss += batch_loss\n",
    "        if batch % 100 == 0:\n",
    "            print(f\"Epoch {epoch + 1}, Batch {batch}, Loss {batch_loss:.4f}\")\n",
    "\n",
    "    epoch_avg_losses.append(epoch_loss / (batch + 1))\n",
    "    print(f\"Epoch {epoch + 1} Loss: {epoch_loss / (batch + 1):.4f}\")"
   ]
  },
  {
   "cell_type": "code",
   "execution_count": 13,
   "metadata": {
    "execution": {
     "iopub.execute_input": "2025-07-14T04:49:50.167879Z",
     "iopub.status.busy": "2025-07-14T04:49:50.167204Z",
     "iopub.status.idle": "2025-07-14T04:49:50.531824Z",
     "shell.execute_reply": "2025-07-14T04:49:50.530939Z",
     "shell.execute_reply.started": "2025-07-14T04:49:50.167857Z"
    },
    "trusted": true
   },
   "outputs": [
    {
     "data": {
      "image/png": "[encoded data removed]",
      "text/plain": [
       "<Figure size 1000x600 with 1 Axes>"
      ]
     },
     "metadata": {},
     "output_type": "display_data"
    }
   ],
   "source": [
    "# Plotting the loss\n",
    "plt.figure(figsize=(10, 6))\n",
    "plt.plot(range(len(epoch_avg_losses)), epoch_avg_losses, label='Epoch Average Losses', linewidth=2)\n",
    "plt.title('Training Loss')  \n",
    "plt.xlabel('Epoch')\n",
    "plt.ylabel('Loss')\n",
    "plt.legend()\n",
    "plt.grid(True)\n",
    "plt.show()"
   ]
  },
  {
   "cell_type": "markdown",
   "metadata": {},
   "source": [
    "<hr>"
   ]
  },
  {
   "cell_type": "markdown",
   "metadata": {},
   "source": [
    "## <b>Calculating Scores</b>"
   ]
  },
  {
   "cell_type": "code",
   "execution_count": 14,
   "metadata": {
    "execution": {
     "iopub.execute_input": "2025-07-14T04:49:53.853387Z",
     "iopub.status.busy": "2025-07-14T04:49:53.852811Z",
     "iopub.status.idle": "2025-07-14T04:49:53.859721Z",
     "shell.execute_reply": "2025-07-14T04:49:53.858885Z",
     "shell.execute_reply.started": "2025-07-14T04:49:53.853363Z"
    },
    "trusted": true
   },
   "outputs": [],
   "source": [
    "# Define special tokens for the target (English)\n",
    "START_TOKEN_EN = VOCAB_SIZE_EN - 2  # Consistent with input convention\n",
    "END_TOKEN_EN = VOCAB_SIZE_EN - 1    # Matches training end token\n",
    "\n",
    "# Inference function to generate translation for a single German sentence\n",
    "def generate_translation(transformer, de, max_length=40):\n",
    "    de_str = de.numpy().decode('utf-8')\n",
    "    tokens_de = [START_TOKEN[0]] + tokenizer_de.encode(de_str) + [END_TOKEN[0]]  # Use integers, not lists\n",
    "    tokens_de = tf.convert_to_tensor(tokens_de, dtype=tf.int64)\n",
    "    tokens_de = tf.expand_dims(tokens_de, 0)\n",
    "\n",
    "    # Initialize target sequence with start token\n",
    "    tar = tf.convert_to_tensor([START_TOKEN_EN], dtype=tf.int64)\n",
    "    tar = tf.expand_dims(tar, 0)\n",
    "\n",
    "    output_sequence = []\n",
    "    \n",
    "    # Generate tokens step-by-step\n",
    "    for _ in range(max_length):\n",
    "        predictions = transformer(tokens_de, tar)\n",
    "        last_pred = predictions[0, -1, :]  # Prediction for the last position\n",
    "        next_token = tf.argmax(last_pred).numpy()  # Convert to Python integer\n",
    "        \n",
    "        if next_token == END_TOKEN_EN:\n",
    "            break\n",
    "        \n",
    "        output_sequence.append(next_token)\n",
    "        tar = tf.concat([tar, tf.constant([[next_token]], dtype=tf.int64)], axis=1)\n",
    "\n",
    "    # Decode the generated sequence to text\n",
    "    generated_en = tokenizer_en.decode(output_sequence)\n",
    "    return generated_en"
   ]
  },
  {
   "cell_type": "code",
   "execution_count": 15,
   "metadata": {
    "execution": {
     "iopub.execute_input": "2025-07-14T04:49:55.786658Z",
     "iopub.status.busy": "2025-07-14T04:49:55.786394Z",
     "iopub.status.idle": "2025-07-14T05:59:30.854963Z",
     "shell.execute_reply": "2025-07-14T05:59:30.854210Z",
     "shell.execute_reply.started": "2025-07-14T04:49:55.786640Z"
    },
    "trusted": true
   },
   "outputs": [
    {
     "name": "stdout",
     "output_type": "stream",
     "text": [
      "Generating translations and calculating scores...\n",
      "Processed 0 examples\n",
      "Processed 100 examples\n",
      "Processed 200 examples\n",
      "Processed 300 examples\n",
      "Processed 400 examples\n",
      "Processed 500 examples\n",
      "Processed 600 examples\n",
      "Processed 700 examples\n",
      "Processed 800 examples\n",
      "Processed 900 examples\n",
      "Processed 1000 examples\n",
      "Processed 1100 examples\n",
      "Processed 1200 examples\n",
      "Processed 1300 examples\n",
      "Processed 1400 examples\n",
      "Processed 2200 examples\n",
      "Processed 2300 examples\n",
      "Processed 2400 examples\n",
      "Processed 2500 examples\n",
      "Processed 2600 examples\n",
      "Processed 2700 examples\n",
      "Processed 2800 examples\n",
      "Processed 2900 examples\n",
      "\n",
      "Evaluation Results:\n",
      "Average BLEU Score: 0.0176\n",
      "Average METEOR Score: 0.1262\n"
     ]
    }
   ],
   "source": [
    "# Evaluation on the validation set\n",
    "bleu_scores = []\n",
    "meteor_scores = []\n",
    "smoothie = SmoothingFunction().method1  # For smoothing BLEU scores\n",
    "\n",
    "print(\"Generating translations and calculating scores...\")\n",
    "for idx, (de, en) in enumerate(val_examples):\n",
    "    # Generate translation\n",
    "    generated_en = generate_translation(transformer, de)\n",
    "    \n",
    "    # Get reference translation\n",
    "    ref = en.numpy().decode('utf-8')\n",
    "    \n",
    "    # Tokenize reference and hypothesis\n",
    "    ref_tokens = word_tokenize(ref)\n",
    "    hyp_tokens = word_tokenize(generated_en)\n",
    "    \n",
    "    # METEOR score\n",
    "    meteor = meteor_score([ref_tokens], hyp_tokens)\n",
    "    meteor_scores.append(meteor)\n",
    "    \n",
    "    # BLEU score\n",
    "    bleu = sentence_bleu([ref_tokens], hyp_tokens, smoothing_function=smoothie)\n",
    "    bleu_scores.append(bleu)\n",
    "    \n",
    "    if idx % 100 == 0:\n",
    "        print(f\"Processed {idx} examples\")\n",
    "\n",
    "# Calculate average scores\n",
    "avg_bleu = sum(bleu_scores) / len(bleu_scores)\n",
    "avg_meteor = sum(meteor_scores) / len(meteor_scores)\n",
    "\n",
    "print(f\"\\nEvaluation Results:\")\n",
    "print(f\"Average BLEU Score: {avg_bleu:.4f}\")\n",
    "print(f\"Average METEOR Score: {avg_meteor:.4f}\")"
   ]
  },
  {
   "cell_type": "code",
   "execution_count": 16,
   "metadata": {
    "execution": {
     "iopub.execute_input": "2025-07-14T06:01:27.524582Z",
     "iopub.status.busy": "2025-07-14T06:01:27.523939Z",
     "iopub.status.idle": "2025-07-14T06:01:27.977470Z",
     "shell.execute_reply": "2025-07-14T06:01:27.976745Z",
     "shell.execute_reply.started": "2025-07-14T06:01:27.524557Z"
    },
    "trusted": true
   },
   "outputs": [
    {
     "data": {
      "image/png": "[encoded data removed]",
      "text/plain": [
       "<Figure size 1200x600 with 2 Axes>"
      ]
     },
     "metadata": {},
     "output_type": "display_data"
    }
   ],
   "source": [
    "fig, axs = plt.subplots(1, 2, figsize=(12, 6))\n",
    "\n",
    "axs[0].hist(bleu_scores, bins=20, color='blue', alpha=0.7)\n",
    "axs[0].set_title('BLEU Score Distribution')\n",
    "axs[0].set_xlabel('BLEU Score')\n",
    "axs[0].set_ylabel('Frequency')\n",
    "axs[0].legend(['BLEU Scores'])\n",
    "axs[0].grid(True)\n",
    "\n",
    "axs[1].hist(meteor_scores, bins=20, color='green', alpha=0.7)\n",
    "axs[1].set_title('METEOR Score Distribution')\n",
    "axs[1].set_xlabel('METEOR Score')\n",
    "axs[1].set_ylabel('Frequency')\n",
    "axs[1].legend(['METEOR Scores'])\n",
    "axs[1].grid(True)\n",
    "\n",
    "plt.tight_layout()\n",
    "plt.show()"
   ]
  },
  {
   "cell_type": "markdown",
   "metadata": {},
   "source": [
    "<hr>"
   ]
  },
  {
   "cell_type": "markdown",
   "metadata": {},
   "source": [
    "## <b>Prediction</b>"
   ]
  },
  {
   "cell_type": "code",
   "execution_count": 17,
   "metadata": {
    "execution": {
     "iopub.execute_input": "2025-07-14T06:01:31.357510Z",
     "iopub.status.busy": "2025-07-14T06:01:31.356913Z",
     "iopub.status.idle": "2025-07-14T06:01:32.524629Z",
     "shell.execute_reply": "2025-07-14T06:01:32.523699Z",
     "shell.execute_reply.started": "2025-07-14T06:01:31.357490Z"
    },
    "trusted": true
   },
   "outputs": [
    {
     "name": "stdout",
     "output_type": "stream",
     "text": [
      "\n",
      "Sample Prediction:\n",
      "Input German: Dies führt dazu, dass ein Spieler wie ich, die Stirn bieten muss und sein Bestes geben will.\n",
      "Predicted English: it is that as a radio and the rest of the bank will be desired.\n",
      "Reference English: Which is what makes a player like me want to face up and give my best.\n"
     ]
    }
   ],
   "source": [
    "# Making prediction using sample sentence from val dataset\n",
    "print(\"\\nSample Prediction:\")\n",
    "sample_de, sample_en = next(iter(val_examples.take(1)))\n",
    "generated_en = generate_translation(transformer, sample_de)\n",
    "reference_en = sample_en.numpy().decode('utf-8')\n",
    "print(f\"Input German: {sample_de.numpy().decode('utf-8')}\")\n",
    "print(f\"Predicted English: {generated_en}\")\n",
    "print(f\"Reference English: {reference_en}\")"
   ]
  },
  {
   "cell_type": "code",
   "execution_count": 18,
   "metadata": {
    "execution": {
     "iopub.execute_input": "2025-07-14T06:02:42.000759Z",
     "iopub.status.busy": "2025-07-14T06:02:42.000060Z",
     "iopub.status.idle": "2025-07-14T06:02:42.496689Z",
     "shell.execute_reply": "2025-07-14T06:02:42.495897Z",
     "shell.execute_reply.started": "2025-07-14T06:02:42.000730Z"
    },
    "trusted": true
   },
   "outputs": [
    {
     "name": "stdout",
     "output_type": "stream",
     "text": [
      "Input German: Ein Beispielsatz zum Testen.\n",
      "Predicted English: allows to use to buy port.\n"
     ]
    }
   ],
   "source": [
    "# Making prediction using custom example\n",
    "custom_de = tf.constant(\"Ein Beispielsatz zum Testen.\", dtype=tf.string)  # Eng: An example sentence for testing\n",
    "generated_en = generate_translation(transformer, custom_de)\n",
    "print(f\"Input German: {custom_de.numpy().decode('utf-8')}\")\n",
    "print(f\"Predicted English: {generated_en}\")"
   ]
  },
  {
   "cell_type": "markdown",
   "metadata": {},
   "source": [
    "-> As shown by the scores which are very low, the translation is disaster. No where even close. This can be due to the reason that the number of encoders and decoders are only 1."
   ]
  },
  {
   "cell_type": "markdown",
   "metadata": {},
   "source": [
    "<hr>"
   ]
  }
 ],
 "metadata": {
  "kaggle": {
   "accelerator": "gpu",
   "dataSources": [],
   "dockerImageVersionId": 31090,
   "isGpuEnabled": true,
   "isInternetEnabled": true,
   "language": "python",
   "sourceType": "notebook"
  },
  "kernelspec": {
   "display_name": "Python 3",
   "language": "python",
   "name": "python3"
  },
  "language_info": {
   "codemirror_mode": {
    "name": "ipython",
    "version": 3
   },
   "file_extension": ".py",
   "mimetype": "text/x-python",
   "name": "python",
   "nbconvert_exporter": "python",
   "pygments_lexer": "ipython3",
   "version": "3.12.3"
  }
 },
 "nbformat": 4,
 "nbformat_minor": 4
}
