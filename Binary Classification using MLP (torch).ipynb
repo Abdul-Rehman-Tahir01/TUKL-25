{
 "cells": [
  {
   "cell_type": "code",
   "execution_count": 3,
   "id": "01e5d76c",
   "metadata": {},
   "outputs": [],
   "source": [
    "# Importing Libaries\n",
    "import pandas as pd\n",
    "import numpy as np\n",
    "import matplotlib.pyplot as plt\n",
    "from sklearn.model_selection import train_test_split\n",
    "from sklearn.preprocessing import StandardScaler\n",
    "\n",
    "import torch"
   ]
  },
  {
   "cell_type": "code",
   "execution_count": 4,
   "id": "920c8702",
   "metadata": {},
   "outputs": [
    {
     "data": {
      "text/plain": [
       "(1025, 14)"
      ]
     },
     "execution_count": 4,
     "metadata": {},
     "output_type": "execute_result"
    }
   ],
   "source": [
    "df = pd.read_csv('HeartDisease.csv')\n",
    "df.shape"
   ]
  },
  {
   "cell_type": "code",
   "execution_count": 5,
   "id": "3dd1ac2d",
   "metadata": {},
   "outputs": [
    {
     "data": {
      "text/html": [
       "<div>\n",
       "<style scoped>\n",
       "    .dataframe tbody tr th:only-of-type {\n",
       "        vertical-align: middle;\n",
       "    }\n",
       "\n",
       "    .dataframe tbody tr th {\n",
       "        vertical-align: top;\n",
       "    }\n",
       "\n",
       "    .dataframe thead th {\n",
       "        text-align: right;\n",
       "    }\n",
       "</style>\n",
       "<table border=\"1\" class=\"dataframe\">\n",
       "  <thead>\n",
       "    <tr style=\"text-align: right;\">\n",
       "      <th></th>\n",
       "      <th>age</th>\n",
       "      <th>sex</th>\n",
       "      <th>cp</th>\n",
       "      <th>trestbps</th>\n",
       "      <th>chol</th>\n",
       "      <th>fbs</th>\n",
       "      <th>restecg</th>\n",
       "      <th>thalach</th>\n",
       "      <th>exang</th>\n",
       "      <th>oldpeak</th>\n",
       "      <th>slope</th>\n",
       "      <th>ca</th>\n",
       "      <th>thal</th>\n",
       "      <th>target</th>\n",
       "    </tr>\n",
       "  </thead>\n",
       "  <tbody>\n",
       "    <tr>\n",
       "      <th>0</th>\n",
       "      <td>52</td>\n",
       "      <td>1</td>\n",
       "      <td>0</td>\n",
       "      <td>125</td>\n",
       "      <td>212</td>\n",
       "      <td>0</td>\n",
       "      <td>1</td>\n",
       "      <td>168</td>\n",
       "      <td>0</td>\n",
       "      <td>1.0</td>\n",
       "      <td>2</td>\n",
       "      <td>2</td>\n",
       "      <td>3</td>\n",
       "      <td>0</td>\n",
       "    </tr>\n",
       "    <tr>\n",
       "      <th>1</th>\n",
       "      <td>53</td>\n",
       "      <td>1</td>\n",
       "      <td>0</td>\n",
       "      <td>140</td>\n",
       "      <td>203</td>\n",
       "      <td>1</td>\n",
       "      <td>0</td>\n",
       "      <td>155</td>\n",
       "      <td>1</td>\n",
       "      <td>3.1</td>\n",
       "      <td>0</td>\n",
       "      <td>0</td>\n",
       "      <td>3</td>\n",
       "      <td>0</td>\n",
       "    </tr>\n",
       "    <tr>\n",
       "      <th>2</th>\n",
       "      <td>70</td>\n",
       "      <td>1</td>\n",
       "      <td>0</td>\n",
       "      <td>145</td>\n",
       "      <td>174</td>\n",
       "      <td>0</td>\n",
       "      <td>1</td>\n",
       "      <td>125</td>\n",
       "      <td>1</td>\n",
       "      <td>2.6</td>\n",
       "      <td>0</td>\n",
       "      <td>0</td>\n",
       "      <td>3</td>\n",
       "      <td>0</td>\n",
       "    </tr>\n",
       "    <tr>\n",
       "      <th>3</th>\n",
       "      <td>61</td>\n",
       "      <td>1</td>\n",
       "      <td>0</td>\n",
       "      <td>148</td>\n",
       "      <td>203</td>\n",
       "      <td>0</td>\n",
       "      <td>1</td>\n",
       "      <td>161</td>\n",
       "      <td>0</td>\n",
       "      <td>0.0</td>\n",
       "      <td>2</td>\n",
       "      <td>1</td>\n",
       "      <td>3</td>\n",
       "      <td>0</td>\n",
       "    </tr>\n",
       "    <tr>\n",
       "      <th>4</th>\n",
       "      <td>62</td>\n",
       "      <td>0</td>\n",
       "      <td>0</td>\n",
       "      <td>138</td>\n",
       "      <td>294</td>\n",
       "      <td>1</td>\n",
       "      <td>1</td>\n",
       "      <td>106</td>\n",
       "      <td>0</td>\n",
       "      <td>1.9</td>\n",
       "      <td>1</td>\n",
       "      <td>3</td>\n",
       "      <td>2</td>\n",
       "      <td>0</td>\n",
       "    </tr>\n",
       "    <tr>\n",
       "      <th>...</th>\n",
       "      <td>...</td>\n",
       "      <td>...</td>\n",
       "      <td>...</td>\n",
       "      <td>...</td>\n",
       "      <td>...</td>\n",
       "      <td>...</td>\n",
       "      <td>...</td>\n",
       "      <td>...</td>\n",
       "      <td>...</td>\n",
       "      <td>...</td>\n",
       "      <td>...</td>\n",
       "      <td>...</td>\n",
       "      <td>...</td>\n",
       "      <td>...</td>\n",
       "    </tr>\n",
       "    <tr>\n",
       "      <th>1020</th>\n",
       "      <td>59</td>\n",
       "      <td>1</td>\n",
       "      <td>1</td>\n",
       "      <td>140</td>\n",
       "      <td>221</td>\n",
       "      <td>0</td>\n",
       "      <td>1</td>\n",
       "      <td>164</td>\n",
       "      <td>1</td>\n",
       "      <td>0.0</td>\n",
       "      <td>2</td>\n",
       "      <td>0</td>\n",
       "      <td>2</td>\n",
       "      <td>1</td>\n",
       "    </tr>\n",
       "    <tr>\n",
       "      <th>1021</th>\n",
       "      <td>60</td>\n",
       "      <td>1</td>\n",
       "      <td>0</td>\n",
       "      <td>125</td>\n",
       "      <td>258</td>\n",
       "      <td>0</td>\n",
       "      <td>0</td>\n",
       "      <td>141</td>\n",
       "      <td>1</td>\n",
       "      <td>2.8</td>\n",
       "      <td>1</td>\n",
       "      <td>1</td>\n",
       "      <td>3</td>\n",
       "      <td>0</td>\n",
       "    </tr>\n",
       "    <tr>\n",
       "      <th>1022</th>\n",
       "      <td>47</td>\n",
       "      <td>1</td>\n",
       "      <td>0</td>\n",
       "      <td>110</td>\n",
       "      <td>275</td>\n",
       "      <td>0</td>\n",
       "      <td>0</td>\n",
       "      <td>118</td>\n",
       "      <td>1</td>\n",
       "      <td>1.0</td>\n",
       "      <td>1</td>\n",
       "      <td>1</td>\n",
       "      <td>2</td>\n",
       "      <td>0</td>\n",
       "    </tr>\n",
       "    <tr>\n",
       "      <th>1023</th>\n",
       "      <td>50</td>\n",
       "      <td>0</td>\n",
       "      <td>0</td>\n",
       "      <td>110</td>\n",
       "      <td>254</td>\n",
       "      <td>0</td>\n",
       "      <td>0</td>\n",
       "      <td>159</td>\n",
       "      <td>0</td>\n",
       "      <td>0.0</td>\n",
       "      <td>2</td>\n",
       "      <td>0</td>\n",
       "      <td>2</td>\n",
       "      <td>1</td>\n",
       "    </tr>\n",
       "    <tr>\n",
       "      <th>1024</th>\n",
       "      <td>54</td>\n",
       "      <td>1</td>\n",
       "      <td>0</td>\n",
       "      <td>120</td>\n",
       "      <td>188</td>\n",
       "      <td>0</td>\n",
       "      <td>1</td>\n",
       "      <td>113</td>\n",
       "      <td>0</td>\n",
       "      <td>1.4</td>\n",
       "      <td>1</td>\n",
       "      <td>1</td>\n",
       "      <td>3</td>\n",
       "      <td>0</td>\n",
       "    </tr>\n",
       "  </tbody>\n",
       "</table>\n",
       "<p>1025 rows × 14 columns</p>\n",
       "</div>"
      ],
      "text/plain": [
       "      age  sex  cp  trestbps  chol  fbs  restecg  thalach  exang  oldpeak  \\\n",
       "0      52    1   0       125   212    0        1      168      0      1.0   \n",
       "1      53    1   0       140   203    1        0      155      1      3.1   \n",
       "2      70    1   0       145   174    0        1      125      1      2.6   \n",
       "3      61    1   0       148   203    0        1      161      0      0.0   \n",
       "4      62    0   0       138   294    1        1      106      0      1.9   \n",
       "...   ...  ...  ..       ...   ...  ...      ...      ...    ...      ...   \n",
       "1020   59    1   1       140   221    0        1      164      1      0.0   \n",
       "1021   60    1   0       125   258    0        0      141      1      2.8   \n",
       "1022   47    1   0       110   275    0        0      118      1      1.0   \n",
       "1023   50    0   0       110   254    0        0      159      0      0.0   \n",
       "1024   54    1   0       120   188    0        1      113      0      1.4   \n",
       "\n",
       "      slope  ca  thal  target  \n",
       "0         2   2     3       0  \n",
       "1         0   0     3       0  \n",
       "2         0   0     3       0  \n",
       "3         2   1     3       0  \n",
       "4         1   3     2       0  \n",
       "...     ...  ..   ...     ...  \n",
       "1020      2   0     2       1  \n",
       "1021      1   1     3       0  \n",
       "1022      1   1     2       0  \n",
       "1023      2   0     2       1  \n",
       "1024      1   1     3       0  \n",
       "\n",
       "[1025 rows x 14 columns]"
      ]
     },
     "execution_count": 5,
     "metadata": {},
     "output_type": "execute_result"
    }
   ],
   "source": [
    "df"
   ]
  },
  {
   "cell_type": "code",
   "execution_count": 6,
   "id": "bc0dc1cc",
   "metadata": {},
   "outputs": [
    {
     "data": {
      "text/plain": [
       "age         0\n",
       "sex         0\n",
       "cp          0\n",
       "trestbps    0\n",
       "chol        0\n",
       "fbs         0\n",
       "restecg     0\n",
       "thalach     0\n",
       "exang       0\n",
       "oldpeak     0\n",
       "slope       0\n",
       "ca          0\n",
       "thal        0\n",
       "target      0\n",
       "dtype: int64"
      ]
     },
     "execution_count": 6,
     "metadata": {},
     "output_type": "execute_result"
    }
   ],
   "source": [
    "df.isnull().sum()"
   ]
  },
  {
   "cell_type": "code",
   "execution_count": 7,
   "id": "653ff509",
   "metadata": {},
   "outputs": [
    {
     "name": "stdout",
     "output_type": "stream",
     "text": [
      "<class 'pandas.core.frame.DataFrame'>\n",
      "RangeIndex: 1025 entries, 0 to 1024\n",
      "Data columns (total 14 columns):\n",
      " #   Column    Non-Null Count  Dtype  \n",
      "---  ------    --------------  -----  \n",
      " 0   age       1025 non-null   int64  \n",
      " 1   sex       1025 non-null   int64  \n",
      " 2   cp        1025 non-null   int64  \n",
      " 3   trestbps  1025 non-null   int64  \n",
      " 4   chol      1025 non-null   int64  \n",
      " 5   fbs       1025 non-null   int64  \n",
      " 6   restecg   1025 non-null   int64  \n",
      " 7   thalach   1025 non-null   int64  \n",
      " 8   exang     1025 non-null   int64  \n",
      " 9   oldpeak   1025 non-null   float64\n",
      " 10  slope     1025 non-null   int64  \n",
      " 11  ca        1025 non-null   int64  \n",
      " 12  thal      1025 non-null   int64  \n",
      " 13  target    1025 non-null   int64  \n",
      "dtypes: float64(1), int64(13)\n",
      "memory usage: 112.2 KB\n"
     ]
    }
   ],
   "source": [
    "df.info()"
   ]
  },
  {
   "cell_type": "code",
   "execution_count": 8,
   "id": "3c030a3f",
   "metadata": {},
   "outputs": [
    {
     "data": {
      "text/plain": [
       "target\n",
       "1    526\n",
       "0    499\n",
       "Name: count, dtype: int64"
      ]
     },
     "execution_count": 8,
     "metadata": {},
     "output_type": "execute_result"
    }
   ],
   "source": [
    "target_count = df['target'].value_counts()\n",
    "target_count"
   ]
  },
  {
   "cell_type": "code",
   "execution_count": 9,
   "id": "8c97d5a8",
   "metadata": {},
   "outputs": [
    {
     "data": {
      "image/png": "[encoded data removed]",
      "text/plain": [
       "<Figure size 800x600 with 1 Axes>"
      ]
     },
     "metadata": {},
     "output_type": "display_data"
    }
   ],
   "source": [
    "plt.figure(figsize=(8, 6))\n",
    "\n",
    "plt.pie(target_count, labels=target_count.index, autopct='%1.1f%%', startangle=90)\n",
    "plt.title('Distribution of Heart Disease Target Variable')\n",
    "plt.show()"
   ]
  },
  {
   "cell_type": "markdown",
   "id": "0d133874",
   "metadata": {},
   "source": [
    "<hr>"
   ]
  },
  {
   "cell_type": "code",
   "execution_count": 10,
   "id": "199c837c",
   "metadata": {},
   "outputs": [
    {
     "name": "stdout",
     "output_type": "stream",
     "text": [
      "Shape of X: (1025, 13)\n",
      "Shape of Y: (1025,)\n"
     ]
    }
   ],
   "source": [
    "# Splitting the dataset into training and testing sets\n",
    "X = df.drop('target', axis=1)\n",
    "Y = df['target']\n",
    "\n",
    "print(\"Shape of X:\", X.shape)\n",
    "print(\"Shape of Y:\", Y.shape)"
   ]
  },
  {
   "cell_type": "code",
   "execution_count": 11,
   "id": "dbc95ffe",
   "metadata": {},
   "outputs": [],
   "source": [
    "# Normalizing the data/features\n",
    "scaler = StandardScaler()\n",
    "X_scaled = scaler.fit_transform(X)"
   ]
  },
  {
   "cell_type": "code",
   "execution_count": 12,
   "id": "3edaa442",
   "metadata": {},
   "outputs": [
    {
     "data": {
      "text/html": [
       "<div>\n",
       "<style scoped>\n",
       "    .dataframe tbody tr th:only-of-type {\n",
       "        vertical-align: middle;\n",
       "    }\n",
       "\n",
       "    .dataframe tbody tr th {\n",
       "        vertical-align: top;\n",
       "    }\n",
       "\n",
       "    .dataframe thead th {\n",
       "        text-align: right;\n",
       "    }\n",
       "</style>\n",
       "<table border=\"1\" class=\"dataframe\">\n",
       "  <thead>\n",
       "    <tr style=\"text-align: right;\">\n",
       "      <th></th>\n",
       "      <th>age</th>\n",
       "      <th>sex</th>\n",
       "      <th>cp</th>\n",
       "      <th>trestbps</th>\n",
       "      <th>chol</th>\n",
       "      <th>fbs</th>\n",
       "      <th>restecg</th>\n",
       "      <th>thalach</th>\n",
       "      <th>exang</th>\n",
       "      <th>oldpeak</th>\n",
       "      <th>slope</th>\n",
       "      <th>ca</th>\n",
       "      <th>thal</th>\n",
       "    </tr>\n",
       "  </thead>\n",
       "  <tbody>\n",
       "    <tr>\n",
       "      <th>count</th>\n",
       "      <td>1025.000</td>\n",
       "      <td>1025.000</td>\n",
       "      <td>1025.000</td>\n",
       "      <td>1025.000</td>\n",
       "      <td>1025.000</td>\n",
       "      <td>1025.000</td>\n",
       "      <td>1025.000</td>\n",
       "      <td>1025.000</td>\n",
       "      <td>1025.000</td>\n",
       "      <td>1025.000</td>\n",
       "      <td>1025.000</td>\n",
       "      <td>1025.000</td>\n",
       "      <td>1025.000</td>\n",
       "    </tr>\n",
       "    <tr>\n",
       "      <th>mean</th>\n",
       "      <td>-0.000</td>\n",
       "      <td>0.000</td>\n",
       "      <td>0.000</td>\n",
       "      <td>-0.000</td>\n",
       "      <td>-0.000</td>\n",
       "      <td>-0.000</td>\n",
       "      <td>-0.000</td>\n",
       "      <td>-0.000</td>\n",
       "      <td>-0.000</td>\n",
       "      <td>-0.000</td>\n",
       "      <td>0.000</td>\n",
       "      <td>0.000</td>\n",
       "      <td>0.000</td>\n",
       "    </tr>\n",
       "    <tr>\n",
       "      <th>std</th>\n",
       "      <td>1.000</td>\n",
       "      <td>1.000</td>\n",
       "      <td>1.000</td>\n",
       "      <td>1.000</td>\n",
       "      <td>1.000</td>\n",
       "      <td>1.000</td>\n",
       "      <td>1.000</td>\n",
       "      <td>1.000</td>\n",
       "      <td>1.000</td>\n",
       "      <td>1.000</td>\n",
       "      <td>1.000</td>\n",
       "      <td>1.000</td>\n",
       "      <td>1.000</td>\n",
       "    </tr>\n",
       "    <tr>\n",
       "      <th>min</th>\n",
       "      <td>-2.805</td>\n",
       "      <td>-1.512</td>\n",
       "      <td>-0.916</td>\n",
       "      <td>-2.148</td>\n",
       "      <td>-2.327</td>\n",
       "      <td>-0.419</td>\n",
       "      <td>-1.004</td>\n",
       "      <td>-3.397</td>\n",
       "      <td>-0.712</td>\n",
       "      <td>-0.912</td>\n",
       "      <td>-2.244</td>\n",
       "      <td>-0.732</td>\n",
       "      <td>-3.746</td>\n",
       "    </tr>\n",
       "    <tr>\n",
       "      <th>25%</th>\n",
       "      <td>-0.710</td>\n",
       "      <td>-1.512</td>\n",
       "      <td>-0.916</td>\n",
       "      <td>-0.663</td>\n",
       "      <td>-0.679</td>\n",
       "      <td>-0.419</td>\n",
       "      <td>-1.004</td>\n",
       "      <td>-0.744</td>\n",
       "      <td>-0.712</td>\n",
       "      <td>-0.912</td>\n",
       "      <td>-0.624</td>\n",
       "      <td>-0.732</td>\n",
       "      <td>-0.522</td>\n",
       "    </tr>\n",
       "    <tr>\n",
       "      <th>50%</th>\n",
       "      <td>0.173</td>\n",
       "      <td>0.662</td>\n",
       "      <td>0.056</td>\n",
       "      <td>-0.092</td>\n",
       "      <td>-0.116</td>\n",
       "      <td>-0.419</td>\n",
       "      <td>0.891</td>\n",
       "      <td>0.126</td>\n",
       "      <td>-0.712</td>\n",
       "      <td>-0.231</td>\n",
       "      <td>-0.624</td>\n",
       "      <td>-0.732</td>\n",
       "      <td>-0.522</td>\n",
       "    </tr>\n",
       "    <tr>\n",
       "      <th>75%</th>\n",
       "      <td>0.724</td>\n",
       "      <td>0.662</td>\n",
       "      <td>1.028</td>\n",
       "      <td>0.479</td>\n",
       "      <td>0.562</td>\n",
       "      <td>-0.419</td>\n",
       "      <td>0.891</td>\n",
       "      <td>0.734</td>\n",
       "      <td>1.404</td>\n",
       "      <td>0.620</td>\n",
       "      <td>0.995</td>\n",
       "      <td>0.239</td>\n",
       "      <td>1.090</td>\n",
       "    </tr>\n",
       "    <tr>\n",
       "      <th>max</th>\n",
       "      <td>2.489</td>\n",
       "      <td>0.662</td>\n",
       "      <td>1.999</td>\n",
       "      <td>3.906</td>\n",
       "      <td>6.167</td>\n",
       "      <td>2.387</td>\n",
       "      <td>2.787</td>\n",
       "      <td>2.300</td>\n",
       "      <td>1.404</td>\n",
       "      <td>4.367</td>\n",
       "      <td>0.995</td>\n",
       "      <td>3.150</td>\n",
       "      <td>1.090</td>\n",
       "    </tr>\n",
       "  </tbody>\n",
       "</table>\n",
       "</div>"
      ],
      "text/plain": [
       "            age       sex        cp  trestbps      chol       fbs   restecg  \\\n",
       "count  1025.000  1025.000  1025.000  1025.000  1025.000  1025.000  1025.000   \n",
       "mean     -0.000     0.000     0.000    -0.000    -0.000    -0.000    -0.000   \n",
       "std       1.000     1.000     1.000     1.000     1.000     1.000     1.000   \n",
       "min      -2.805    -1.512    -0.916    -2.148    -2.327    -0.419    -1.004   \n",
       "25%      -0.710    -1.512    -0.916    -0.663    -0.679    -0.419    -1.004   \n",
       "50%       0.173     0.662     0.056    -0.092    -0.116    -0.419     0.891   \n",
       "75%       0.724     0.662     1.028     0.479     0.562    -0.419     0.891   \n",
       "max       2.489     0.662     1.999     3.906     6.167     2.387     2.787   \n",
       "\n",
       "        thalach     exang   oldpeak     slope        ca      thal  \n",
       "count  1025.000  1025.000  1025.000  1025.000  1025.000  1025.000  \n",
       "mean     -0.000    -0.000    -0.000     0.000     0.000     0.000  \n",
       "std       1.000     1.000     1.000     1.000     1.000     1.000  \n",
       "min      -3.397    -0.712    -0.912    -2.244    -0.732    -3.746  \n",
       "25%      -0.744    -0.712    -0.912    -0.624    -0.732    -0.522  \n",
       "50%       0.126    -0.712    -0.231    -0.624    -0.732    -0.522  \n",
       "75%       0.734     1.404     0.620     0.995     0.239     1.090  \n",
       "max       2.300     1.404     4.367     0.995     3.150     1.090  "
      ]
     },
     "execution_count": 12,
     "metadata": {},
     "output_type": "execute_result"
    }
   ],
   "source": [
    "X_scaled_df = pd.DataFrame(X_scaled, columns=X.columns)\n",
    "X_scaled_df.describe().round(3)"
   ]
  },
  {
   "cell_type": "code",
   "execution_count": 13,
   "id": "d96e042e",
   "metadata": {},
   "outputs": [],
   "source": [
    "# Splitting the dataset into training and validation sets\n",
    "X_train, X_val, Y_train, Y_val = train_test_split(X_scaled, Y, test_size=0.3, random_state=42)"
   ]
  },
  {
   "cell_type": "code",
   "execution_count": 14,
   "id": "605638e3",
   "metadata": {},
   "outputs": [
    {
     "name": "stdout",
     "output_type": "stream",
     "text": [
      "Training set shape: (717, 13) (717,)\n",
      "Validation set shape: (308, 13) (308,)\n"
     ]
    }
   ],
   "source": [
    "print(\"Training set shape:\", X_train.shape, Y_train.shape)\n",
    "print(\"Validation set shape:\", X_val.shape, Y_val.shape)"
   ]
  },
  {
   "cell_type": "markdown",
   "id": "9646d013",
   "metadata": {},
   "source": [
    "<hr>"
   ]
  },
  {
   "cell_type": "markdown",
   "id": "44df217f",
   "metadata": {},
   "source": [
    "<h2><b>Building the MLP</b></h2>"
   ]
  },
  {
   "cell_type": "code",
   "execution_count": 15,
   "id": "294f93e4",
   "metadata": {},
   "outputs": [],
   "source": [
    "# Converting data to PyTorch tensors\n",
    "X_train_tensor = torch.tensor(X_train, dtype=torch.float32)\n",
    "Y_train_tensor = torch.tensor(Y_train.values, dtype=torch.float32).unsqueeze(1)\n",
    "\n",
    "X_val_tensor = torch.tensor(X_val, dtype=torch.float32)\n",
    "Y_val_tensor = torch.tensor(Y_val.values, dtype=torch.float32).unsqueeze(1)"
   ]
  },
  {
   "cell_type": "code",
   "execution_count": 16,
   "id": "5dc498fa",
   "metadata": {},
   "outputs": [],
   "source": [
    "# Dataset\n",
    "train_dataset = torch.utils.data.TensorDataset(X_train_tensor, Y_train_tensor)\n",
    "val_dataset = torch.utils.data.TensorDataset(X_val_tensor, Y_val_tensor)\n",
    "\n",
    "# Data Loader\n",
    "train_loader = torch.utils.data.DataLoader(train_dataset, batch_size=32, shuffle=True)\n",
    "val_loader = torch.utils.data.DataLoader(val_dataset, batch_size=32)"
   ]
  },
  {
   "cell_type": "code",
   "execution_count": 19,
   "id": "e91a9b65",
   "metadata": {},
   "outputs": [
    {
     "name": "stdout",
     "output_type": "stream",
     "text": [
      "Sequential(\n",
      "  (0): Linear(in_features=13, out_features=16, bias=True)\n",
      "  (1): ReLU()\n",
      "  (2): Dropout(p=0.2, inplace=False)\n",
      "  (3): Linear(in_features=16, out_features=8, bias=True)\n",
      "  (4): ReLU()\n",
      "  (5): Dropout(p=0.2, inplace=False)\n",
      "  (6): Linear(in_features=8, out_features=1, bias=True)\n",
      "  (7): Sigmoid()\n",
      ")\n"
     ]
    }
   ],
   "source": [
    "# Defining the Model\n",
    "\n",
    "model = torch.nn.Sequential(\n",
    "    torch.nn.Linear(13, 16),\n",
    "    torch.nn.ReLU(),\n",
    "    torch.nn.Dropout(0.2),\n",
    "\n",
    "    torch.nn.Linear(16, 8),\n",
    "    torch.nn.ReLU(),\n",
    "    torch.nn.Dropout(0.2),\n",
    "\n",
    "    torch.nn.Linear(8, 1),\n",
    "    torch.nn.Sigmoid()\n",
    ")\n",
    "\n",
    "print(model)"
   ]
  },
  {
   "cell_type": "code",
   "execution_count": 20,
   "id": "d7d196ff",
   "metadata": {},
   "outputs": [],
   "source": [
    "criterion = torch.nn.BCELoss()  # Binary Cross Entroy Loss \n",
    "optimizer = torch.optim.Adam(model.parameters(), lr=0.001)"
   ]
  },
  {
   "cell_type": "code",
   "execution_count": null,
   "id": "a2834c00",
   "metadata": {},
   "outputs": [
    {
     "name": "stdout",
     "output_type": "stream",
     "text": [
      "Epoch [1/250] Train Loss: 0.6928, Acc: 0.5077 | Val Loss: 0.6800, Acc: 0.5942\n",
      "Epoch [25/250] Train Loss: 0.3248, Acc: 0.8675 | Val Loss: 0.3576, Acc: 0.8214\n",
      "Epoch [50/250] Train Loss: 0.2934, Acc: 0.8982 | Val Loss: 0.3414, Acc: 0.8506\n",
      "Epoch [75/250] Train Loss: 0.2452, Acc: 0.9010 | Val Loss: 0.3062, Acc: 0.8571\n",
      "Epoch [100/250] Train Loss: 0.2280, Acc: 0.9177 | Val Loss: 0.2768, Acc: 0.8669\n",
      "Epoch [125/250] Train Loss: 0.1980, Acc: 0.9247 | Val Loss: 0.2448, Acc: 0.8734\n",
      "Epoch [150/250] Train Loss: 0.1982, Acc: 0.9191 | Val Loss: 0.2190, Acc: 0.9026\n",
      "Epoch [175/250] Train Loss: 0.1607, Acc: 0.9456 | Val Loss: 0.2066, Acc: 0.9188\n",
      "Epoch [200/250] Train Loss: 0.1896, Acc: 0.9289 | Val Loss: 0.2022, Acc: 0.9253\n",
      "Epoch [225/250] Train Loss: 0.1534, Acc: 0.9470 | Val Loss: 0.1839, Acc: 0.9318\n",
      "Epoch [250/250] Train Loss: 0.1662, Acc: 0.9456 | Val Loss: 0.1700, Acc: 0.9383\n"
     ]
    }
   ],
   "source": [
    "# Training the model\n",
    "num_epochs = 250\n",
    "train_acc_list = []\n",
    "val_acc_list = []\n",
    "train_loss_list = []\n",
    "val_loss_list = []\n",
    "\n",
    "for epoch in range(num_epochs):\n",
    "    model.train()\n",
    "    running_loss = 0.0\n",
    "    correct = 0\n",
    "\n",
    "    for inputs, labels in train_loader: \n",
    "        optimizer.zero_grad()\n",
    "        outputs = model(inputs)\n",
    "        loss = criterion(outputs, labels)\n",
    "        loss.backward()\n",
    "        optimizer.step()\n",
    "\n",
    "        running_loss += loss.item() * inputs.size(0)\n",
    "        predicted = (outputs > 0.5).float()\n",
    "        correct += (predicted == labels).sum().item()\n",
    "\n",
    "    train_loss = running_loss / len(train_loader.dataset)\n",
    "    train_acc = correct / len(train_loader.dataset)\n",
    "\n",
    "    model.eval()\n",
    "    val_loss = 0.0\n",
    "    val_correct = 0\n",
    "\n",
    "    with torch.no_grad():\n",
    "        for inputs, labels in val_loader:\n",
    "            outputs = model(inputs)\n",
    "            loss = criterion(outputs, labels)\n",
    "            \n",
    "            val_loss += loss.item() * inputs.size(0)\n",
    "            predicted = (outputs > 0.5).float()\n",
    "            val_correct += (predicted == labels).sum().item()\n",
    "\n",
    "        val_loss = val_loss / len(val_loader.dataset)\n",
    "        val_acc = val_correct / len(val_loader.dataset)\n",
    "\n",
    "        train_loss_list.append(train_loss)\n",
    "        val_loss_list.append(val_loss)\n",
    "        train_acc_list.append(train_acc)\n",
    "        val_acc_list.append(val_acc)\n",
    "\n",
    "        if (epoch+1) % 25 == 0 or epoch == 0:\n",
    "            print(f'Epoch [{epoch+1}/{num_epochs}] Train Loss: {train_loss:.4f}, Acc: {train_acc:.4f} | Val Loss: {val_loss:.4f}, Acc: {val_acc:.4f}')"
   ]
  },
  {
   "cell_type": "code",
   "execution_count": 23,
   "id": "0b66d594",
   "metadata": {},
   "outputs": [
    {
     "data": {
      "image/png": "[encoded data removed]",
      "text/plain": [
       "<Figure size 1200x500 with 2 Axes>"
      ]
     },
     "metadata": {},
     "output_type": "display_data"
    }
   ],
   "source": [
    "fig, axs = plt.subplots(1, 2, figsize=(12, 5))\n",
    "\n",
    "# Accuracy\n",
    "axs[0].plot(train_acc_list, label='Train Accuracy')\n",
    "axs[0].plot(val_acc_list, label='Val Accuracy')\n",
    "axs[0].set_title('Accuracy')\n",
    "axs[0].set_xlabel('Epoch')\n",
    "axs[0].set_ylabel('Accuracy')\n",
    "axs[0].legend()\n",
    "axs[0].grid(True)\n",
    "\n",
    "# Loss\n",
    "axs[1].plot(train_loss_list, label='Train Loss')\n",
    "axs[1].plot(val_loss_list, label='Val Loss')\n",
    "axs[1].set_title('Loss')\n",
    "axs[1].set_xlabel('Epoch')\n",
    "axs[1].set_ylabel('Loss')\n",
    "axs[1].legend()\n",
    "axs[1].grid(True)\n",
    "\n",
    "plt.tight_layout()\n",
    "plt.show()"
   ]
  },
  {
   "cell_type": "markdown",
   "id": "4d5989c4",
   "metadata": {},
   "source": [
    "<hr>"
   ]
  },
  {
   "cell_type": "markdown",
   "id": "fa32c7f9",
   "metadata": {},
   "source": [
    "## <b>Sample Prediction</b>"
   ]
  },
  {
   "cell_type": "code",
   "execution_count": 35,
   "id": "59879e33",
   "metadata": {},
   "outputs": [
    {
     "name": "stdout",
     "output_type": "stream",
     "text": [
      "tensor([[[0.7791]]])\n"
     ]
    },
    {
     "name": "stderr",
     "output_type": "stream",
     "text": [
      "c:\\Users\\Abdul Rehman Tahir\\AppData\\Local\\Programs\\Python\\Python312\\Lib\\site-packages\\sklearn\\base.py:493: UserWarning: X does not have valid feature names, but StandardScaler was fitted with feature names\n",
      "  warnings.warn(\n"
     ]
    }
   ],
   "source": [
    "sample = np.array([[52,1,0,128,204,1,1,196,1,1,0.5,0,0]])  # Example input\n",
    "sample_normalized = scaler.transform(sample)  \n",
    "\n",
    "sample_tensor = torch.tensor(sample_normalized, dtype=torch.float32).unsqueeze(0)\n",
    "\n",
    "# Running the model and making the prediction\n",
    "model.eval()\n",
    "with torch.no_grad():\n",
    "    prediction = model(sample_tensor)\n",
    "\n",
    "print(prediction)"
   ]
  },
  {
   "cell_type": "code",
   "execution_count": 36,
   "id": "92c6a6b6",
   "metadata": {},
   "outputs": [
    {
     "name": "stdout",
     "output_type": "stream",
     "text": [
      "Have Heart Disease\n"
     ]
    }
   ],
   "source": [
    "if(prediction.item() > 0.5):\n",
    "    print(\"Have Heart Disease\")\n",
    "else:\n",
    "    print(\"No Heart Disease\")"
   ]
  },
  {
   "cell_type": "markdown",
   "id": "22d7c267",
   "metadata": {},
   "source": [
    "<hr>"
   ]
  },
  {
   "cell_type": "code",
   "execution_count": 43,
   "id": "af2b9039",
   "metadata": {},
   "outputs": [
    {
     "name": "stdout",
     "output_type": "stream",
     "text": [
      "[[ 0.50352033  0.66150409  0.05593123 ...  0.99543334 -0.73197147\n",
      "  -0.52212231]\n",
      " [ 0.39324077  0.66150409 -0.91575542 ... -0.6241209   2.17981673\n",
      "   1.08985168]\n",
      " [-1.15067305 -1.51170646  1.02761788 ... -0.6241209   0.23862459\n",
      "  -0.52212231]\n",
      " ...\n",
      " [-0.37871614  0.66150409 -0.91575542 ...  0.99543334 -0.73197147\n",
      "   1.08985168]\n",
      " [-1.26095261  0.66150409 -0.91575542 ...  0.99543334 -0.73197147\n",
      "   1.08985168]\n",
      " [-0.26843658  0.66150409 -0.91575542 ...  0.99543334  0.23862459\n",
      "  -0.52212231]]\n"
     ]
    },
    {
     "data": {
      "text/plain": [
       "numpy.ndarray"
      ]
     },
     "execution_count": 43,
     "metadata": {},
     "output_type": "execute_result"
    }
   ],
   "source": [
    "print(X_train)\n",
    "type(X_train)\n"
   ]
  },
  {
   "cell_type": "code",
   "execution_count": 44,
   "id": "c63efa53",
   "metadata": {},
   "outputs": [
    {
     "name": "stdout",
     "output_type": "stream",
     "text": [
      "tensor([[ 0.5035,  0.6615,  0.0559,  ...,  0.9954, -0.7320, -0.5221],\n",
      "        [ 0.3932,  0.6615, -0.9158,  ..., -0.6241,  2.1798,  1.0899],\n",
      "        [-1.1507, -1.5117,  1.0276,  ..., -0.6241,  0.2386, -0.5221],\n",
      "        ...,\n",
      "        [-0.3787,  0.6615, -0.9158,  ...,  0.9954, -0.7320,  1.0899],\n",
      "        [-1.2610,  0.6615, -0.9158,  ...,  0.9954, -0.7320,  1.0899],\n",
      "        [-0.2684,  0.6615, -0.9158,  ...,  0.9954,  0.2386, -0.5221]])\n"
     ]
    },
    {
     "data": {
      "text/plain": [
       "torch.Tensor"
      ]
     },
     "execution_count": 44,
     "metadata": {},
     "output_type": "execute_result"
    }
   ],
   "source": [
    "print(X_train_tensor)\n",
    "type(X_train_tensor)"
   ]
  },
  {
   "cell_type": "markdown",
   "id": "fec16498",
   "metadata": {},
   "source": [
    "This shows that the tensor is just another data type. To feed data in the torch model, we first have to convert the numpy array into tensor."
   ]
  },
  {
   "cell_type": "code",
   "execution_count": 48,
   "id": "8bbbc932",
   "metadata": {},
   "outputs": [
    {
     "name": "stdout",
     "output_type": "stream",
     "text": [
      "<torch.utils.data.dataset.TensorDataset object at 0x00000121E770F8C0>\n"
     ]
    },
    {
     "data": {
      "text/plain": [
       "torch.utils.data.dataset.TensorDataset"
      ]
     },
     "execution_count": 48,
     "metadata": {},
     "output_type": "execute_result"
    }
   ],
   "source": [
    "print(train_dataset)\n",
    "type(train_dataset)"
   ]
  },
  {
   "cell_type": "code",
   "execution_count": 49,
   "id": "46e67231",
   "metadata": {},
   "outputs": [
    {
     "name": "stdout",
     "output_type": "stream",
     "text": [
      "<torch.utils.data.dataloader.DataLoader object at 0x00000121E77E2B40>\n"
     ]
    },
    {
     "data": {
      "text/plain": [
       "torch.utils.data.dataloader.DataLoader"
      ]
     },
     "execution_count": 49,
     "metadata": {},
     "output_type": "execute_result"
    }
   ],
   "source": [
    "print(train_loader)\n",
    "type(train_loader)"
   ]
  }
 ],
 "metadata": {
  "kernelspec": {
   "display_name": "Python 3",
   "language": "python",
   "name": "python3"
  },
  "language_info": {
   "codemirror_mode": {
    "name": "ipython",
    "version": 3
   },
   "file_extension": ".py",
   "mimetype": "text/x-python",
   "name": "python",
   "nbconvert_exporter": "python",
   "pygments_lexer": "ipython3",
   "version": "3.12.3"
  }
 },
 "nbformat": 4,
 "nbformat_minor": 5
}
