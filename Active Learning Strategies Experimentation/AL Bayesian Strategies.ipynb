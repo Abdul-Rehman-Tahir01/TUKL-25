{
 "cells": [
  {
   "cell_type": "markdown",
   "metadata": {},
   "source": [
    "## Imports"
   ]
  },
  {
   "cell_type": "code",
   "execution_count": null,
   "metadata": {
    "execution": {
     "iopub.execute_input": "2025-07-29T09:18:18.935214Z",
     "iopub.status.busy": "2025-07-29T09:18:18.934900Z",
     "iopub.status.idle": "2025-07-29T09:18:18.942770Z",
     "shell.execute_reply": "2025-07-29T09:18:18.942105Z",
     "shell.execute_reply.started": "2025-07-29T09:18:18.935193Z"
    },
    "trusted": true
   },
   "outputs": [
    {
     "data": {
      "text/plain": [
       "<torch._C.Generator at 0x7890fa2de510>"
      ]
     },
     "execution_count": 16,
     "metadata": {},
     "output_type": "execute_result"
    }
   ],
   "source": [
    "import numpy as np\n",
    "from sklearn.model_selection import train_test_split\n",
    "import torch\n",
    "import torch.nn as nn\n",
    "import torch.nn.functional as F\n",
    "from torch.utils.data import Dataset, DataLoader\n",
    "from collections import OrderedDict\n",
    "from tqdm import tqdm\n",
    "import matplotlib.pyplot as plt\n",
    "\n",
    "device = torch.device(\"cuda\" if torch.cuda.is_available() else \"cpu\")\n",
    "np.random.seed(42)\n",
    "torch.manual_seed(42)"
   ]
  },
  {
   "cell_type": "markdown",
   "metadata": {},
   "source": [
    "<hr>"
   ]
  },
  {
   "cell_type": "markdown",
   "metadata": {},
   "source": [
    "## Loading Files"
   ]
  },
  {
   "cell_type": "code",
   "execution_count": 17,
   "metadata": {
    "execution": {
     "iopub.execute_input": "2025-07-29T09:18:21.734071Z",
     "iopub.status.busy": "2025-07-29T09:18:21.733483Z",
     "iopub.status.idle": "2025-07-29T09:18:21.754181Z",
     "shell.execute_reply": "2025-07-29T09:18:21.753424Z",
     "shell.execute_reply.started": "2025-07-29T09:18:21.734049Z"
    },
    "trusted": true
   },
   "outputs": [
    {
     "name": "stdout",
     "output_type": "stream",
     "text": [
      "(20000, 6, 28) (20000,)\n"
     ]
    }
   ],
   "source": [
    "X = np.load('/kaggle/input/active-learning-subset/tar_image_subset.npy')\n",
    "y = np.load('/kaggle/input/active-learning-subset/label_target_subset.npy')\n",
    "\n",
    "print(X.shape, y.shape)"
   ]
  },
  {
   "cell_type": "code",
   "execution_count": 18,
   "metadata": {
    "execution": {
     "iopub.execute_input": "2025-07-29T09:18:22.529369Z",
     "iopub.status.busy": "2025-07-29T09:18:22.529097Z",
     "iopub.status.idle": "2025-07-29T09:18:22.553438Z",
     "shell.execute_reply": "2025-07-29T09:18:22.552677Z",
     "shell.execute_reply.started": "2025-07-29T09:18:22.529348Z"
    },
    "trusted": true
   },
   "outputs": [
    {
     "name": "stdout",
     "output_type": "stream",
     "text": [
      "(16000, 6, 28) (4000, 6, 28)\n"
     ]
    }
   ],
   "source": [
    "# Train/val split\n",
    "X_train, X_val, y_train, y_val = train_test_split(X, y, test_size=0.2, stratify=y, random_state=1)\n",
    "print(X_train.shape, X_val.shape)"
   ]
  },
  {
   "cell_type": "markdown",
   "metadata": {},
   "source": [
    "<hr>"
   ]
  },
  {
   "cell_type": "markdown",
   "metadata": {},
   "source": [
    "## Dataset Class"
   ]
  },
  {
   "cell_type": "code",
   "execution_count": 19,
   "metadata": {
    "execution": {
     "iopub.execute_input": "2025-07-29T09:18:23.895810Z",
     "iopub.status.busy": "2025-07-29T09:18:23.895542Z",
     "iopub.status.idle": "2025-07-29T09:18:23.900535Z",
     "shell.execute_reply": "2025-07-29T09:18:23.899674Z",
     "shell.execute_reply.started": "2025-07-29T09:18:23.895790Z"
    },
    "trusted": true
   },
   "outputs": [],
   "source": [
    "class SimpleDataset(Dataset):\n",
    "    def __init__(self, images, labels):\n",
    "        self.images = images.astype(np.float32)\n",
    "        self.labels = labels.astype(np.int64)\n",
    "\n",
    "    def __len__(self):\n",
    "        return len(self.images)\n",
    "\n",
    "    def __getitem__(self, idx):\n",
    "        x = torch.tensor(self.images[idx])  # shape: (6, 28)\n",
    "        y = torch.tensor(self.labels[idx])\n",
    "        return {\"x\": x, \"y\": y}"
   ]
  },
  {
   "cell_type": "code",
   "execution_count": 20,
   "metadata": {
    "execution": {
     "iopub.execute_input": "2025-07-29T09:18:24.309929Z",
     "iopub.status.busy": "2025-07-29T09:18:24.309370Z",
     "iopub.status.idle": "2025-07-29T09:18:24.314532Z",
     "shell.execute_reply": "2025-07-29T09:18:24.313808Z",
     "shell.execute_reply.started": "2025-07-29T09:18:24.309885Z"
    },
    "trusted": true
   },
   "outputs": [],
   "source": [
    "# For evaluation\n",
    "val_dataset = SimpleDataset(X_val, y_val)\n",
    "val_dataloader = DataLoader(val_dataset, batch_size=64, shuffle=False)"
   ]
  },
  {
   "cell_type": "markdown",
   "metadata": {},
   "source": [
    "<hr>"
   ]
  },
  {
   "cell_type": "markdown",
   "metadata": {},
   "source": [
    "## Model"
   ]
  },
  {
   "cell_type": "code",
   "execution_count": 21,
   "metadata": {
    "execution": {
     "iopub.execute_input": "2025-07-29T09:18:25.620841Z",
     "iopub.status.busy": "2025-07-29T09:18:25.620570Z",
     "iopub.status.idle": "2025-07-29T09:18:25.734530Z",
     "shell.execute_reply": "2025-07-29T09:18:25.733832Z",
     "shell.execute_reply.started": "2025-07-29T09:18:25.620821Z"
    },
    "trusted": true
   },
   "outputs": [],
   "source": [
    "################ CNN Backbone\n",
    "def conv_block(in_channels: int, out_channels: int, dropout_p=0.5) -> nn.Module:\n",
    "    return nn.Sequential(\n",
    "        nn.Conv1d(in_channels, out_channels, 5,padding='same'),\n",
    "        nn.BatchNorm1d(out_channels),\n",
    "        nn.ReLU(),\n",
    "        nn.Dropout(p=dropout_p)\n",
    "    )\n",
    " \n",
    " \n",
    "class cnn_dropout(nn.Module):\n",
    "    def __init__(self, dropout_p=0.5):\n",
    "        super().__init__()\n",
    "        self.conv1 = conv_block(6, 64, dropout_p)\n",
    "        self.conv2 = conv_block(64, 128, dropout_p)\n",
    "        self.conv3 = conv_block(128, 256, dropout_p)\n",
    "        self.conv4 = conv_block(256, 512, dropout_p)\n",
    "        self.conv5 = conv_block(512, 1024, dropout_p)\n",
    "        \n",
    "        self.global_pool = nn.AdaptiveAvgPool1d(1)\n",
    " \n",
    "    def forward(self, x):\n",
    "        x = self.conv1(x)\n",
    "        x = self.conv2(x)\n",
    "        x = self.conv3(x)\n",
    "        x = self.conv4(x)\n",
    "        x = self.conv5(x)\n",
    "        x = self.global_pool(x)\n",
    "        return x.view(x.size(0), -1)\n",
    " \n",
    " \n",
    "################ Fully connected network\n",
    "class FC_dropout(nn.Module):\n",
    "    def __init__(self,input_dim, dropout_p=0.5):\n",
    "        super().__init__()\n",
    "        self.dropout = nn.Dropout(p=dropout_p)\n",
    "        self.fco = nn.Linear(input_dim, 3)\n",
    "\n",
    "    def forward(self, x):\n",
    "        x = self.dropout(x)\n",
    "        return self.fco(x)"
   ]
  },
  {
   "cell_type": "code",
   "execution_count": 22,
   "metadata": {
    "execution": {
     "iopub.execute_input": "2025-07-29T09:18:27.500861Z",
     "iopub.status.busy": "2025-07-29T09:18:27.500062Z",
     "iopub.status.idle": "2025-07-29T09:18:27.564363Z",
     "shell.execute_reply": "2025-07-29T09:18:27.563624Z",
     "shell.execute_reply.started": "2025-07-29T09:18:27.500827Z"
    },
    "trusted": true
   },
   "outputs": [
    {
     "data": {
      "text/plain": [
       "<All keys matched successfully>"
      ]
     },
     "execution_count": 22,
     "metadata": {},
     "output_type": "execute_result"
    }
   ],
   "source": [
    "# Loading model weights\n",
    "backbone_state = torch.load('/kaggle/input/active-learning-subset/backboneSiteA2019.pth')\n",
    "fc_state = torch.load('/kaggle/input/active-learning-subset/fcSiteA2019.pth')\n",
    "\n",
    "backbone_state = OrderedDict((k.replace('module.', ''), v) for k, v in backbone_state.items())\n",
    "fc_state = OrderedDict((k.replace('module.', ''), v) for k, v in fc_state.items())\n",
    "\n",
    "# Initialize and load models\n",
    "backbone = cnn_dropout()\n",
    "backbone.to(device)\n",
    "\n",
    "fc = FC_dropout(1024)\n",
    "fc.to(device)\n",
    "\n",
    "backbone.load_state_dict(backbone_state)\n",
    "fc.load_state_dict(fc_state)"
   ]
  },
  {
   "cell_type": "code",
   "execution_count": 23,
   "metadata": {
    "execution": {
     "iopub.execute_input": "2025-07-29T09:18:28.227406Z",
     "iopub.status.busy": "2025-07-29T09:18:28.226590Z",
     "iopub.status.idle": "2025-07-29T09:18:28.231200Z",
     "shell.execute_reply": "2025-07-29T09:18:28.230446Z",
     "shell.execute_reply.started": "2025-07-29T09:18:28.227375Z"
    },
    "trusted": true
   },
   "outputs": [],
   "source": [
    "# Enable dropout at inference/prediction (MC dropout)\n",
    "def enable_dropout(model):\n",
    "    \"\"\"Enable dropout layers during test time.\"\"\"\n",
    "    for m in model.modules():\n",
    "        if isinstance(m, nn.Dropout):\n",
    "            m.train()  # Keep dropout in training mode"
   ]
  },
  {
   "cell_type": "markdown",
   "metadata": {},
   "source": [
    "<hr>"
   ]
  },
  {
   "cell_type": "markdown",
   "metadata": {},
   "source": [
    "## Evaluation Function"
   ]
  },
  {
   "cell_type": "code",
   "execution_count": 24,
   "metadata": {
    "execution": {
     "iopub.execute_input": "2025-07-29T09:18:29.999846Z",
     "iopub.status.busy": "2025-07-29T09:18:29.999274Z",
     "iopub.status.idle": "2025-07-29T09:18:30.005403Z",
     "shell.execute_reply": "2025-07-29T09:18:30.004563Z",
     "shell.execute_reply.started": "2025-07-29T09:18:29.999823Z"
    },
    "trusted": true
   },
   "outputs": [],
   "source": [
    "def eval_perf(dataloader, backbone, fc, device):\n",
    "    backbone.eval()\n",
    "    fc.eval()\n",
    "\n",
    "    pred=[]\n",
    "    gt=[]\n",
    "\n",
    "    with torch.no_grad():\n",
    "        for batch in dataloader:\n",
    "            xt, yt = batch[\"x\"].to(device), batch[\"y\"].to(device)\n",
    "\n",
    "            # Forward pass through backbone and FC head\n",
    "            features = backbone(xt)\n",
    "            outputs = fc(features)\n",
    "            \n",
    "            yt_pred = torch.argmax(outputs, dim=1)\n",
    "            pred.extend(yt_pred.cpu().numpy())\n",
    "            gt.extend(yt.cpu().numpy())\n",
    "\n",
    "    # Convert to numpy arrays\n",
    "    pred = np.array(pred)\n",
    "    gt = np.array(gt)\n",
    "\n",
    "    # Computing metrics\n",
    "    f1s = sklearn.metrics.f1_score(gt, pred, average=None)\n",
    "    acc = np.mean(pred == gt)\n",
    "    avg_f1 = f1s.mean()\n",
    "\n",
    "    # Set models back to train mode\n",
    "    backbone.train()\n",
    "    fc.train()\n",
    "\n",
    "    return f1s, acc, avg_f1"
   ]
  },
  {
   "cell_type": "markdown",
   "metadata": {},
   "source": [
    "<hr>"
   ]
  },
  {
   "cell_type": "markdown",
   "metadata": {},
   "source": [
    "## Query Sampler (Aquisition Functions)"
   ]
  },
  {
   "cell_type": "code",
   "execution_count": 40,
   "metadata": {
    "execution": {
     "iopub.execute_input": "2025-07-29T10:08:54.061732Z",
     "iopub.status.busy": "2025-07-29T10:08:54.061167Z",
     "iopub.status.idle": "2025-07-29T10:08:54.076056Z",
     "shell.execute_reply": "2025-07-29T10:08:54.075430Z",
     "shell.execute_reply.started": "2025-07-29T10:08:54.061710Z"
    },
    "trusted": true
   },
   "outputs": [],
   "source": [
    "# ============= Predictive Entropy ============= \n",
    "def predictive_entropy_sampling(X, model_backbone, model_fc, k, device, unlabeled_pool, sim=20):\n",
    "    model_backbone.eval()\n",
    "    model_fc.eval()\n",
    "    enable_dropout(model_backbone)\n",
    "    enable_dropout(model_fc)\n",
    "\n",
    "    indices = list(unlabeled_pool)\n",
    "    X_pool = X[indices]\n",
    "    mc_probs = []\n",
    "\n",
    "    with torch.no_grad():\n",
    "        for _ in tqdm(range(sim), desc='MC Dropout Simulations (PredEntropy)'):\n",
    "            logits = []\n",
    "            for i in range(0, len(X_pool), 32):\n",
    "                x_batch = torch.tensor(X_pool[i:i+32]).float().to(device)\n",
    "                feats = model_backbone(x_batch)\n",
    "                out = model_fc(feats)\n",
    "                logits.append(F.softmax(out, dim=1).cpu())\n",
    "            probs = torch.cat(logits, dim=0)\n",
    "            mc_probs.append(probs)\n",
    "\n",
    "    mc_probs = torch.stack(mc_probs)  # Shape: [T, N, C]\n",
    "    avg_probs = mc_probs.mean(dim=0)  # Shape: [N, C]\n",
    "    entropy = -torch.sum(avg_probs * torch.log(avg_probs + 1e-8), dim=1)\n",
    "\n",
    "    topk = torch.topk(entropy, k=k).indices\n",
    "    return [indices[i.item()] for i in topk]\n",
    "\n",
    "\n",
    "# ============= BALD (Bayesian AL by Disagreement) ============= \n",
    "def bald_sampling(X, model_backbone, model_fc, k, device, unlabeled_pool, sim=20):\n",
    "    model_backbone.eval()\n",
    "    model_fc.eval()\n",
    "    enable_dropout(model_backbone)\n",
    "    enable_dropout(model_fc)\n",
    "\n",
    "    indices = list(unlabeled_pool)\n",
    "    X_pool = X[indices]\n",
    "    mc_probs = []\n",
    "\n",
    "    with torch.no_grad():\n",
    "        for _ in tqdm(range(sim), desc=\"MC Dropout Simulations (BALD)\"):\n",
    "            logits = []\n",
    "            for i in range(0, len(X_pool), 32):\n",
    "                x_batch = torch.tensor(X_pool[i:i+32]).float().to(device)\n",
    "                feats = model_backbone(x_batch)\n",
    "                out = model_fc(feats)\n",
    "                probs = F.softmax(out, dim=1).cpu()\n",
    "                logits.append(probs)\n",
    "            mc_probs.append(torch.cat(logits, dim=0))\n",
    "\n",
    "    mc_probs = torch.stack(mc_probs)  # [T, N, C]\n",
    "    avg_probs = mc_probs.mean(dim=0)  # [N, C]\n",
    "\n",
    "    # Predictive Entropy\n",
    "    H = -torch.sum(avg_probs * torch.log(avg_probs + 1e-8), dim=1)  # [N]\n",
    "\n",
    "    # Expected Entropy\n",
    "    E_H = -torch.sum(mc_probs * torch.log(mc_probs + 1e-8), dim=2).mean(dim=0)  # [N]\n",
    "\n",
    "    # BALD = H - E_H\n",
    "    bald_score = H - E_H\n",
    "    topk = torch.topk(bald_score, k=k).indices\n",
    "    return [indices[i.item()] for i in topk]\n",
    "\n",
    "\n",
    "\n",
    "# ============= Variation Ratios ============= \n",
    "def variation_ratio_sampling(X, model_backbone, model_fc, k, device, unlabeled_pool, sim=20):\n",
    "    model_backbone.eval()\n",
    "    model_fc.eval()\n",
    "    enable_dropout(model_backbone)\n",
    "    enable_dropout(model_fc)\n",
    "\n",
    "    indices = list(unlabeled_pool)\n",
    "    X_pool = X[indices]\n",
    "    preds = []\n",
    "\n",
    "    with torch.no_grad():\n",
    "        for _ in tqdm(range(sim), desc=\"MC Dropout Simulations (VarRatio)\"):\n",
    "            logits = []\n",
    "            for i in range(0, len(X_pool), 32):\n",
    "                x_batch = torch.tensor(X_pool[i:i+32]).float().to(device)\n",
    "                feats = model_backbone(x_batch)\n",
    "                out = model_fc(feats)\n",
    "                pred = torch.argmax(out, dim=1).cpu()\n",
    "                logits.append(pred)\n",
    "            preds.append(torch.cat(logits, dim=0))\n",
    "\n",
    "    preds = torch.stack(preds)  # [T, N]\n",
    "    mode_preds = torch.mode(preds, dim=0)[0]  # [N]\n",
    "    agreement = (preds == mode_preds.unsqueeze(0)).sum(dim=0)  # [N]\n",
    "    variation_ratio = 1 - agreement.float() / sim\n",
    "\n",
    "    topk = torch.topk(variation_ratio, k=k).indices\n",
    "    return [indices[i.item()] for i in topk]"
   ]
  },
  {
   "cell_type": "code",
   "execution_count": 44,
   "metadata": {
    "execution": {
     "iopub.execute_input": "2025-07-29T10:13:20.460640Z",
     "iopub.status.busy": "2025-07-29T10:13:20.460134Z",
     "iopub.status.idle": "2025-07-29T10:13:20.467014Z",
     "shell.execute_reply": "2025-07-29T10:13:20.466183Z",
     "shell.execute_reply.started": "2025-07-29T10:13:20.460619Z"
    },
    "trusted": true
   },
   "outputs": [],
   "source": [
    "sampling_strategies = {\n",
    "    \"predictive_entropy\": predictive_entropy_sampling,\n",
    "    \"bald\": bald_sampling,\n",
    "    \"variation_ratio\": variation_ratio_sampling,\n",
    "}\n",
    "\n",
    "# Create separate pools and histories for each strategy\n",
    "strategy_pools = {}\n",
    "strategy_histories = {}\n",
    "\n",
    "for name in sampling_strategies:\n",
    "    strategy_pools[name] = {\n",
    "        \"labeled\": set(),\n",
    "        \"unlabeled\": set(range(len(X_train)))\n",
    "    }\n",
    "    \n",
    "    strategy_histories[name] = {\n",
    "        \"rounds\": [],\n",
    "        \"num_labeled\": [],\n",
    "        \"train_accuracy\": [],\n",
    "        \"val_accuracy\": [],\n",
    "        \"val_avg_f1\": [],\n",
    "        \"val_f1s\": []\n",
    "    }"
   ]
  },
  {
   "cell_type": "markdown",
   "metadata": {},
   "source": [
    "<hr>"
   ]
  },
  {
   "cell_type": "markdown",
   "metadata": {},
   "source": [
    "## Training Loop"
   ]
  },
  {
   "cell_type": "code",
   "execution_count": 45,
   "metadata": {
    "execution": {
     "iopub.execute_input": "2025-07-29T10:13:22.773747Z",
     "iopub.status.busy": "2025-07-29T10:13:22.773459Z",
     "iopub.status.idle": "2025-07-29T10:13:22.780829Z",
     "shell.execute_reply": "2025-07-29T10:13:22.779954Z",
     "shell.execute_reply.started": "2025-07-29T10:13:22.773724Z"
    },
    "trusted": true
   },
   "outputs": [],
   "source": [
    "def train(backbone, fc, train_loader, device, epochs=5):\n",
    "    backbone.train()\n",
    "    fc.train()\n",
    "\n",
    "    optimizer = torch.optim.Adam(list(backbone.parameters()) + list(fc.parameters()), lr=1e-3)\n",
    "    train_acc_history = []\n",
    "\n",
    "    for epoch in range(epochs):\n",
    "        total_loss = 0\n",
    "        correct = 0\n",
    "        total = 0\n",
    "        \n",
    "        for batch in train_loader:\n",
    "            xt = batch[\"x\"].to(device)\n",
    "            yt = batch[\"y\"].to(device)\n",
    "\n",
    "            optimizer.zero_grad()\n",
    "\n",
    "            features = backbone(xt)\n",
    "            outputs = fc(features)\n",
    "            loss = F.cross_entropy(outputs, yt)\n",
    "            loss.backward()\n",
    "            optimizer.step()\n",
    "\n",
    "            total_loss += loss.item()\n",
    "\n",
    "            # Accuracy calculation\n",
    "            preds = torch.argmax(outputs, dim=1)\n",
    "            correct += (preds == yt).sum().item()\n",
    "            total += yt.size(0)\n",
    "\n",
    "        acc = correct / total\n",
    "        train_acc_history.append(acc)\n",
    "            \n",
    "        if (epoch+1)%5 == 0:\n",
    "            print(f\"Epoch {epoch+1}/{epochs}, Loss: {total_loss / len(train_loader):.4f}, Train Acc: {acc*100:.2f}%\")\n",
    "\n",
    "    return train_acc_history"
   ]
  },
  {
   "cell_type": "markdown",
   "metadata": {},
   "source": [
    "<hr>"
   ]
  },
  {
   "cell_type": "markdown",
   "metadata": {},
   "source": [
    "## AL Pipeline Loop"
   ]
  },
  {
   "cell_type": "code",
   "execution_count": 46,
   "metadata": {
    "execution": {
     "iopub.execute_input": "2025-07-29T10:13:24.701081Z",
     "iopub.status.busy": "2025-07-29T10:13:24.700525Z",
     "iopub.status.idle": "2025-07-29T10:32:13.803538Z",
     "shell.execute_reply": "2025-07-29T10:32:13.802966Z",
     "shell.execute_reply.started": "2025-07-29T10:13:24.701058Z"
    },
    "trusted": true
   },
   "outputs": [
    {
     "name": "stdout",
     "output_type": "stream",
     "text": [
      "\n",
      "======================\n",
      " Running strategy: PREDICTIVE_ENTROPY \n",
      "======================\n",
      "Length of Labeled Pool: 0\n",
      "Length of Unlabeled Pool: 16000\n",
      "\n",
      "--- Round 1 [predictive_entropy] ---\n"
     ]
    },
    {
     "name": "stderr",
     "output_type": "stream",
     "text": [
      "MC Dropout Simulations (PredEntropy): 100%|██████████| 30/30 [00:30<00:00,  1.02s/it]\n"
     ]
    },
    {
     "name": "stdout",
     "output_type": "stream",
     "text": [
      "Length of Labeled Pool: 100\n",
      "Length of Unlabeled Pool: 15900\n",
      "Epoch 5/50, Loss: 0.9233, Train Acc: 61.00%\n",
      "Epoch 10/50, Loss: 0.6846, Train Acc: 72.00%\n",
      "Epoch 15/50, Loss: 0.5689, Train Acc: 73.00%\n",
      "Epoch 20/50, Loss: 0.3868, Train Acc: 86.00%\n",
      "Epoch 25/50, Loss: 0.3461, Train Acc: 88.00%\n",
      "Epoch 30/50, Loss: 0.3364, Train Acc: 88.00%\n",
      "Epoch 35/50, Loss: 0.3045, Train Acc: 86.00%\n",
      "Epoch 40/50, Loss: 0.6236, Train Acc: 83.00%\n",
      "Epoch 45/50, Loss: 0.2691, Train Acc: 88.00%\n",
      "Epoch 50/50, Loss: 0.3875, Train Acc: 84.00%\n",
      "Per-class F1 scores: [0.65321101 0.73091603 0.7148289 ]\n",
      "Overall Accuracy: 69.17%\n",
      "Average F1 Score: 0.6997\n",
      "\n",
      "--- Round 2 [predictive_entropy] ---\n"
     ]
    },
    {
     "name": "stderr",
     "output_type": "stream",
     "text": [
      "MC Dropout Simulations (PredEntropy): 100%|██████████| 30/30 [00:30<00:00,  1.01s/it]\n"
     ]
    },
    {
     "name": "stdout",
     "output_type": "stream",
     "text": [
      "Length of Labeled Pool: 200\n",
      "Length of Unlabeled Pool: 15800\n",
      "Epoch 5/50, Loss: 0.3739, Train Acc: 85.00%\n",
      "Epoch 10/50, Loss: 0.3537, Train Acc: 84.50%\n",
      "Epoch 15/50, Loss: 0.3488, Train Acc: 86.50%\n",
      "Epoch 20/50, Loss: 0.2342, Train Acc: 91.50%\n",
      "Epoch 25/50, Loss: 0.2255, Train Acc: 87.00%\n",
      "Epoch 30/50, Loss: 0.3228, Train Acc: 89.00%\n",
      "Epoch 35/50, Loss: 0.2706, Train Acc: 89.50%\n",
      "Epoch 40/50, Loss: 0.1779, Train Acc: 93.50%\n",
      "Epoch 45/50, Loss: 0.1780, Train Acc: 92.50%\n",
      "Epoch 50/50, Loss: 0.1873, Train Acc: 94.00%\n",
      "Per-class F1 scores: [0.77278497 0.85714286 0.71865745]\n",
      "Overall Accuracy: 76.30%\n",
      "Average F1 Score: 0.7829\n",
      "\n",
      "--- Round 3 [predictive_entropy] ---\n"
     ]
    },
    {
     "name": "stderr",
     "output_type": "stream",
     "text": [
      "MC Dropout Simulations (PredEntropy): 100%|██████████| 30/30 [00:30<00:00,  1.00s/it]\n"
     ]
    },
    {
     "name": "stdout",
     "output_type": "stream",
     "text": [
      "Length of Labeled Pool: 300\n",
      "Length of Unlabeled Pool: 15700\n",
      "Epoch 5/50, Loss: 0.5356, Train Acc: 81.00%\n",
      "Epoch 10/50, Loss: 0.4856, Train Acc: 81.00%\n",
      "Epoch 15/50, Loss: 0.5197, Train Acc: 82.67%\n",
      "Epoch 20/50, Loss: 0.4192, Train Acc: 82.00%\n",
      "Epoch 25/50, Loss: 0.2504, Train Acc: 92.67%\n",
      "Epoch 30/50, Loss: 0.2972, Train Acc: 88.67%\n",
      "Epoch 35/50, Loss: 0.4079, Train Acc: 84.33%\n",
      "Epoch 40/50, Loss: 0.2852, Train Acc: 89.67%\n",
      "Epoch 45/50, Loss: 0.3162, Train Acc: 88.33%\n",
      "Epoch 50/50, Loss: 0.2725, Train Acc: 89.00%\n",
      "Per-class F1 scores: [0.8223152  0.84103512 0.82088209]\n",
      "Overall Accuracy: 82.42%\n",
      "Average F1 Score: 0.8281\n",
      "\n",
      "--- Round 4 [predictive_entropy] ---\n"
     ]
    },
    {
     "name": "stderr",
     "output_type": "stream",
     "text": [
      "MC Dropout Simulations (PredEntropy): 100%|██████████| 30/30 [00:29<00:00,  1.01it/s]\n"
     ]
    },
    {
     "name": "stdout",
     "output_type": "stream",
     "text": [
      "Length of Labeled Pool: 400\n",
      "Length of Unlabeled Pool: 15600\n",
      "Epoch 5/50, Loss: 0.4852, Train Acc: 81.25%\n",
      "Epoch 10/50, Loss: 0.4748, Train Acc: 83.25%\n",
      "Epoch 15/50, Loss: 0.3523, Train Acc: 87.25%\n",
      "Epoch 20/50, Loss: 0.3117, Train Acc: 87.00%\n",
      "Epoch 25/50, Loss: 0.3324, Train Acc: 88.00%\n",
      "Epoch 30/50, Loss: 0.2763, Train Acc: 90.50%\n",
      "Epoch 35/50, Loss: 0.3023, Train Acc: 86.25%\n",
      "Epoch 40/50, Loss: 0.3255, Train Acc: 88.00%\n",
      "Epoch 45/50, Loss: 0.2344, Train Acc: 90.50%\n",
      "Epoch 50/50, Loss: 0.2360, Train Acc: 91.00%\n",
      "Per-class F1 scores: [0.84280199 0.84380952 0.8465704 ]\n",
      "Overall Accuracy: 84.45%\n",
      "Average F1 Score: 0.8444\n",
      "\n",
      "--- Round 5 [predictive_entropy] ---\n"
     ]
    },
    {
     "name": "stderr",
     "output_type": "stream",
     "text": [
      "MC Dropout Simulations (PredEntropy): 100%|██████████| 30/30 [00:29<00:00,  1.01it/s]\n"
     ]
    },
    {
     "name": "stdout",
     "output_type": "stream",
     "text": [
      "Length of Labeled Pool: 500\n",
      "Length of Unlabeled Pool: 15500\n",
      "Epoch 5/50, Loss: 0.3786, Train Acc: 84.40%\n",
      "Epoch 10/50, Loss: 0.4706, Train Acc: 82.20%\n",
      "Epoch 15/50, Loss: 0.3465, Train Acc: 85.00%\n",
      "Epoch 20/50, Loss: 0.3517, Train Acc: 85.60%\n",
      "Epoch 25/50, Loss: 0.3630, Train Acc: 85.20%\n",
      "Epoch 30/50, Loss: 0.3113, Train Acc: 88.60%\n",
      "Epoch 35/50, Loss: 0.2795, Train Acc: 89.20%\n",
      "Epoch 40/50, Loss: 0.3042, Train Acc: 89.20%\n",
      "Epoch 45/50, Loss: 0.2992, Train Acc: 89.40%\n",
      "Epoch 50/50, Loss: 0.2557, Train Acc: 90.80%\n",
      "Per-class F1 scores: [0.83658009 0.8498528  0.83409437]\n",
      "Overall Accuracy: 83.73%\n",
      "Average F1 Score: 0.8402\n",
      "\n",
      "--- Round 6 [predictive_entropy] ---\n"
     ]
    },
    {
     "name": "stderr",
     "output_type": "stream",
     "text": [
      "MC Dropout Simulations (PredEntropy): 100%|██████████| 30/30 [00:29<00:00,  1.02it/s]\n"
     ]
    },
    {
     "name": "stdout",
     "output_type": "stream",
     "text": [
      "Length of Labeled Pool: 600\n",
      "Length of Unlabeled Pool: 15400\n",
      "Epoch 5/50, Loss: 0.3331, Train Acc: 87.17%\n",
      "Epoch 10/50, Loss: 0.3540, Train Acc: 85.67%\n",
      "Epoch 15/50, Loss: 0.3534, Train Acc: 85.50%\n",
      "Epoch 20/50, Loss: 0.3188, Train Acc: 88.17%\n",
      "Epoch 25/50, Loss: 0.2780, Train Acc: 88.67%\n",
      "Epoch 30/50, Loss: 0.2740, Train Acc: 89.83%\n",
      "Epoch 35/50, Loss: 0.2841, Train Acc: 89.33%\n",
      "Epoch 40/50, Loss: 0.2651, Train Acc: 89.67%\n",
      "Epoch 45/50, Loss: 0.2633, Train Acc: 89.67%\n",
      "Epoch 50/50, Loss: 0.2922, Train Acc: 88.00%\n",
      "Per-class F1 scores: [0.8255934  0.86165274 0.79225468]\n",
      "Overall Accuracy: 81.77%\n",
      "Average F1 Score: 0.8265\n",
      "\n",
      "--- Round 7 [predictive_entropy] ---\n"
     ]
    },
    {
     "name": "stderr",
     "output_type": "stream",
     "text": [
      "MC Dropout Simulations (PredEntropy): 100%|██████████| 30/30 [00:29<00:00,  1.02it/s]\n"
     ]
    },
    {
     "name": "stdout",
     "output_type": "stream",
     "text": [
      "Length of Labeled Pool: 700\n",
      "Length of Unlabeled Pool: 15300\n",
      "Epoch 5/50, Loss: 0.4546, Train Acc: 82.29%\n",
      "Epoch 10/50, Loss: 0.3174, Train Acc: 87.86%\n",
      "Epoch 15/50, Loss: 0.3055, Train Acc: 87.57%\n",
      "Epoch 20/50, Loss: 0.3122, Train Acc: 88.29%\n",
      "Epoch 25/50, Loss: 0.2771, Train Acc: 88.57%\n",
      "Epoch 30/50, Loss: 0.3386, Train Acc: 86.86%\n",
      "Epoch 35/50, Loss: 0.2988, Train Acc: 88.71%\n",
      "Epoch 40/50, Loss: 0.2225, Train Acc: 91.14%\n",
      "Epoch 45/50, Loss: 0.2778, Train Acc: 89.86%\n",
      "Epoch 50/50, Loss: 0.3065, Train Acc: 87.29%\n",
      "Per-class F1 scores: [0.82907662 0.86319846 0.83436305]\n",
      "Overall Accuracy: 83.58%\n",
      "Average F1 Score: 0.8422\n",
      "\n",
      "--- Round 8 [predictive_entropy] ---\n"
     ]
    },
    {
     "name": "stderr",
     "output_type": "stream",
     "text": [
      "MC Dropout Simulations (PredEntropy): 100%|██████████| 30/30 [00:29<00:00,  1.03it/s]\n"
     ]
    },
    {
     "name": "stdout",
     "output_type": "stream",
     "text": [
      "Length of Labeled Pool: 800\n",
      "Length of Unlabeled Pool: 15200\n",
      "Epoch 5/50, Loss: 0.3003, Train Acc: 88.75%\n",
      "Epoch 10/50, Loss: 0.3434, Train Acc: 87.62%\n",
      "Epoch 15/50, Loss: 0.2970, Train Acc: 88.62%\n",
      "Epoch 20/50, Loss: 0.2705, Train Acc: 89.88%\n",
      "Epoch 25/50, Loss: 0.2828, Train Acc: 89.88%\n",
      "Epoch 30/50, Loss: 0.3098, Train Acc: 88.75%\n",
      "Epoch 35/50, Loss: 0.2699, Train Acc: 89.25%\n",
      "Epoch 40/50, Loss: 0.2973, Train Acc: 89.25%\n",
      "Epoch 45/50, Loss: 0.2933, Train Acc: 89.12%\n",
      "Epoch 50/50, Loss: 0.3675, Train Acc: 86.38%\n",
      "Per-class F1 scores: [0.83333333 0.87118977 0.82115086]\n",
      "Overall Accuracy: 83.33%\n",
      "Average F1 Score: 0.8419\n",
      "\n",
      "--- Round 9 [predictive_entropy] ---\n"
     ]
    },
    {
     "name": "stderr",
     "output_type": "stream",
     "text": [
      "MC Dropout Simulations (PredEntropy): 100%|██████████| 30/30 [00:28<00:00,  1.04it/s]\n"
     ]
    },
    {
     "name": "stdout",
     "output_type": "stream",
     "text": [
      "Length of Labeled Pool: 900\n",
      "Length of Unlabeled Pool: 15100\n",
      "Epoch 5/50, Loss: 0.3422, Train Acc: 88.00%\n",
      "Epoch 10/50, Loss: 0.3173, Train Acc: 87.56%\n",
      "Epoch 15/50, Loss: 0.3533, Train Acc: 88.33%\n",
      "Epoch 20/50, Loss: 0.3648, Train Acc: 87.11%\n",
      "Epoch 25/50, Loss: 0.3083, Train Acc: 86.78%\n",
      "Epoch 30/50, Loss: 0.3850, Train Acc: 88.44%\n",
      "Epoch 35/50, Loss: 0.3109, Train Acc: 88.44%\n",
      "Epoch 40/50, Loss: 0.2999, Train Acc: 87.78%\n",
      "Epoch 45/50, Loss: 0.2755, Train Acc: 89.44%\n",
      "Epoch 50/50, Loss: 0.2897, Train Acc: 88.00%\n",
      "Per-class F1 scores: [0.84351464 0.8713615  0.84477612]\n",
      "Overall Accuracy: 84.78%\n",
      "Average F1 Score: 0.8532\n",
      "\n",
      "--- Round 10 [predictive_entropy] ---\n"
     ]
    },
    {
     "name": "stderr",
     "output_type": "stream",
     "text": [
      "MC Dropout Simulations (PredEntropy): 100%|██████████| 30/30 [00:28<00:00,  1.04it/s]\n"
     ]
    },
    {
     "name": "stdout",
     "output_type": "stream",
     "text": [
      "Length of Labeled Pool: 1000\n",
      "Length of Unlabeled Pool: 15000\n",
      "Epoch 5/50, Loss: 0.3183, Train Acc: 87.60%\n",
      "Epoch 10/50, Loss: 0.3406, Train Acc: 87.20%\n",
      "Epoch 15/50, Loss: 0.3070, Train Acc: 88.90%\n",
      "Epoch 20/50, Loss: 0.3687, Train Acc: 87.00%\n",
      "Epoch 25/50, Loss: 0.3079, Train Acc: 88.20%\n",
      "Epoch 30/50, Loss: 0.3029, Train Acc: 88.10%\n",
      "Epoch 35/50, Loss: 0.2984, Train Acc: 89.70%\n",
      "Epoch 40/50, Loss: 0.2804, Train Acc: 89.50%\n",
      "Epoch 45/50, Loss: 0.2997, Train Acc: 87.70%\n",
      "Epoch 50/50, Loss: 0.2937, Train Acc: 88.40%\n",
      "Per-class F1 scores: [0.84974373 0.86660175 0.84078383]\n",
      "Overall Accuracy: 84.82%\n",
      "Average F1 Score: 0.8524\n",
      "\n",
      "======================\n",
      " Running strategy: BALD \n",
      "======================\n",
      "Length of Labeled Pool: 0\n",
      "Length of Unlabeled Pool: 16000\n",
      "\n",
      "--- Round 1 [bald] ---\n"
     ]
    },
    {
     "name": "stderr",
     "output_type": "stream",
     "text": [
      "MC Dropout Simulations (BALD): 100%|██████████| 30/30 [00:30<00:00,  1.02s/it]\n"
     ]
    },
    {
     "name": "stdout",
     "output_type": "stream",
     "text": [
      "Length of Labeled Pool: 100\n",
      "Length of Unlabeled Pool: 15900\n",
      "Epoch 5/50, Loss: 0.6996, Train Acc: 81.00%\n",
      "Epoch 10/50, Loss: 0.3422, Train Acc: 88.00%\n",
      "Epoch 15/50, Loss: 0.2122, Train Acc: 88.00%\n",
      "Epoch 20/50, Loss: 0.2092, Train Acc: 92.00%\n",
      "Epoch 25/50, Loss: 0.1198, Train Acc: 95.00%\n",
      "Epoch 30/50, Loss: 0.6668, Train Acc: 92.00%\n",
      "Epoch 35/50, Loss: 0.2901, Train Acc: 94.00%\n",
      "Epoch 40/50, Loss: 0.1312, Train Acc: 97.00%\n",
      "Epoch 45/50, Loss: 0.7270, Train Acc: 91.00%\n",
      "Epoch 50/50, Loss: 0.2541, Train Acc: 93.00%\n",
      "Per-class F1 scores: [0.77410618 0.79692012 0.76659529]\n",
      "Overall Accuracy: 77.40%\n",
      "Average F1 Score: 0.7792\n",
      "\n",
      "--- Round 2 [bald] ---\n"
     ]
    },
    {
     "name": "stderr",
     "output_type": "stream",
     "text": [
      "MC Dropout Simulations (BALD): 100%|██████████| 30/30 [00:30<00:00,  1.01s/it]\n"
     ]
    },
    {
     "name": "stdout",
     "output_type": "stream",
     "text": [
      "Length of Labeled Pool: 200\n",
      "Length of Unlabeled Pool: 15800\n",
      "Epoch 5/50, Loss: 0.2887, Train Acc: 90.50%\n",
      "Epoch 10/50, Loss: 0.2616, Train Acc: 90.50%\n",
      "Epoch 15/50, Loss: 0.2130, Train Acc: 95.00%\n",
      "Epoch 20/50, Loss: 0.1508, Train Acc: 94.50%\n",
      "Epoch 25/50, Loss: 0.1594, Train Acc: 94.00%\n",
      "Epoch 30/50, Loss: 0.1984, Train Acc: 93.00%\n",
      "Epoch 35/50, Loss: 0.2572, Train Acc: 91.00%\n",
      "Epoch 40/50, Loss: 0.2007, Train Acc: 96.50%\n",
      "Epoch 45/50, Loss: 0.0839, Train Acc: 97.00%\n",
      "Epoch 50/50, Loss: 0.0929, Train Acc: 97.50%\n",
      "Per-class F1 scores: [0.80116788 0.85209302 0.81828571]\n",
      "Overall Accuracy: 81.55%\n",
      "Average F1 Score: 0.8238\n",
      "\n",
      "--- Round 3 [bald] ---\n"
     ]
    },
    {
     "name": "stderr",
     "output_type": "stream",
     "text": [
      "MC Dropout Simulations (BALD): 100%|██████████| 30/30 [00:29<00:00,  1.00it/s]\n"
     ]
    },
    {
     "name": "stdout",
     "output_type": "stream",
     "text": [
      "Length of Labeled Pool: 300\n",
      "Length of Unlabeled Pool: 15700\n",
      "Epoch 5/50, Loss: 0.2906, Train Acc: 88.33%\n",
      "Epoch 10/50, Loss: 0.2496, Train Acc: 91.67%\n",
      "Epoch 15/50, Loss: 0.2240, Train Acc: 91.33%\n",
      "Epoch 20/50, Loss: 0.1813, Train Acc: 93.00%\n",
      "Epoch 25/50, Loss: 0.1576, Train Acc: 95.00%\n",
      "Epoch 30/50, Loss: 0.1309, Train Acc: 95.33%\n",
      "Epoch 35/50, Loss: 0.1970, Train Acc: 92.67%\n",
      "Epoch 40/50, Loss: 0.1990, Train Acc: 94.00%\n",
      "Epoch 45/50, Loss: 0.1714, Train Acc: 93.67%\n",
      "Epoch 50/50, Loss: 0.1554, Train Acc: 94.67%\n",
      "Per-class F1 scores: [0.83828017 0.86527514 0.83627656]\n",
      "Overall Accuracy: 84.10%\n",
      "Average F1 Score: 0.8466\n",
      "\n",
      "--- Round 4 [bald] ---\n"
     ]
    },
    {
     "name": "stderr",
     "output_type": "stream",
     "text": [
      "MC Dropout Simulations (BALD): 100%|██████████| 30/30 [00:29<00:00,  1.00it/s]\n"
     ]
    },
    {
     "name": "stdout",
     "output_type": "stream",
     "text": [
      "Length of Labeled Pool: 400\n",
      "Length of Unlabeled Pool: 15600\n",
      "Epoch 5/50, Loss: 0.3322, Train Acc: 87.75%\n",
      "Epoch 10/50, Loss: 0.2425, Train Acc: 92.00%\n",
      "Epoch 15/50, Loss: 0.2159, Train Acc: 92.25%\n",
      "Epoch 20/50, Loss: 0.1923, Train Acc: 92.75%\n",
      "Epoch 25/50, Loss: 0.1903, Train Acc: 92.25%\n",
      "Epoch 30/50, Loss: 0.1686, Train Acc: 93.75%\n",
      "Epoch 35/50, Loss: 0.1133, Train Acc: 96.50%\n",
      "Epoch 40/50, Loss: 0.1322, Train Acc: 94.50%\n",
      "Epoch 45/50, Loss: 0.2005, Train Acc: 92.75%\n",
      "Epoch 50/50, Loss: 0.1414, Train Acc: 94.25%\n",
      "Per-class F1 scores: [0.821572   0.86266925 0.83045977]\n",
      "Overall Accuracy: 83.08%\n",
      "Average F1 Score: 0.8382\n",
      "\n",
      "--- Round 5 [bald] ---\n"
     ]
    },
    {
     "name": "stderr",
     "output_type": "stream",
     "text": [
      "MC Dropout Simulations (BALD): 100%|██████████| 30/30 [00:29<00:00,  1.01it/s]\n"
     ]
    },
    {
     "name": "stdout",
     "output_type": "stream",
     "text": [
      "Length of Labeled Pool: 500\n",
      "Length of Unlabeled Pool: 15500\n",
      "Epoch 5/50, Loss: 0.3322, Train Acc: 88.20%\n",
      "Epoch 10/50, Loss: 0.2228, Train Acc: 91.40%\n",
      "Epoch 15/50, Loss: 0.2396, Train Acc: 93.80%\n",
      "Epoch 20/50, Loss: 0.2298, Train Acc: 90.00%\n",
      "Epoch 25/50, Loss: 0.1699, Train Acc: 94.00%\n",
      "Epoch 30/50, Loss: 0.2240, Train Acc: 90.80%\n",
      "Epoch 35/50, Loss: 0.1919, Train Acc: 92.40%\n",
      "Epoch 40/50, Loss: 0.1504, Train Acc: 94.60%\n",
      "Epoch 45/50, Loss: 0.1325, Train Acc: 94.40%\n",
      "Epoch 50/50, Loss: 0.2087, Train Acc: 93.40%\n",
      "Per-class F1 scores: [0.83834049 0.86635071 0.84521739]\n",
      "Overall Accuracy: 84.50%\n",
      "Average F1 Score: 0.8500\n",
      "\n",
      "--- Round 6 [bald] ---\n"
     ]
    },
    {
     "name": "stderr",
     "output_type": "stream",
     "text": [
      "MC Dropout Simulations (BALD): 100%|██████████| 30/30 [00:29<00:00,  1.02it/s]\n"
     ]
    },
    {
     "name": "stdout",
     "output_type": "stream",
     "text": [
      "Length of Labeled Pool: 600\n",
      "Length of Unlabeled Pool: 15400\n",
      "Epoch 5/50, Loss: 0.2352, Train Acc: 92.17%\n",
      "Epoch 10/50, Loss: 0.2295, Train Acc: 91.33%\n",
      "Epoch 15/50, Loss: 0.1696, Train Acc: 93.33%\n",
      "Epoch 20/50, Loss: 0.2149, Train Acc: 91.00%\n",
      "Epoch 25/50, Loss: 0.2150, Train Acc: 93.67%\n",
      "Epoch 30/50, Loss: 0.2002, Train Acc: 91.33%\n",
      "Epoch 35/50, Loss: 0.1999, Train Acc: 92.67%\n",
      "Epoch 40/50, Loss: 0.1621, Train Acc: 94.33%\n",
      "Epoch 45/50, Loss: 0.1690, Train Acc: 94.00%\n",
      "Epoch 50/50, Loss: 0.1376, Train Acc: 95.83%\n",
      "Per-class F1 scores: [0.85833102 0.8647619  0.86090338]\n",
      "Overall Accuracy: 86.02%\n",
      "Average F1 Score: 0.8613\n",
      "\n",
      "--- Round 7 [bald] ---\n"
     ]
    },
    {
     "name": "stderr",
     "output_type": "stream",
     "text": [
      "MC Dropout Simulations (BALD): 100%|██████████| 30/30 [00:29<00:00,  1.03it/s]\n"
     ]
    },
    {
     "name": "stdout",
     "output_type": "stream",
     "text": [
      "Length of Labeled Pool: 700\n",
      "Length of Unlabeled Pool: 15300\n",
      "Epoch 5/50, Loss: 0.2787, Train Acc: 90.14%\n",
      "Epoch 10/50, Loss: 0.2497, Train Acc: 91.29%\n",
      "Epoch 15/50, Loss: 0.2643, Train Acc: 90.29%\n",
      "Epoch 20/50, Loss: 0.1829, Train Acc: 93.43%\n",
      "Epoch 25/50, Loss: 0.2650, Train Acc: 90.43%\n",
      "Epoch 30/50, Loss: 0.1986, Train Acc: 93.57%\n",
      "Epoch 35/50, Loss: 0.1684, Train Acc: 94.43%\n",
      "Epoch 40/50, Loss: 0.1964, Train Acc: 93.57%\n",
      "Epoch 45/50, Loss: 0.1740, Train Acc: 93.71%\n",
      "Epoch 50/50, Loss: 0.1750, Train Acc: 93.86%\n",
      "Per-class F1 scores: [0.85595568 0.87488241 0.85061617]\n",
      "Overall Accuracy: 85.62%\n",
      "Average F1 Score: 0.8605\n",
      "\n",
      "--- Round 8 [bald] ---\n"
     ]
    },
    {
     "name": "stderr",
     "output_type": "stream",
     "text": [
      "MC Dropout Simulations (BALD): 100%|██████████| 30/30 [00:29<00:00,  1.03it/s]\n"
     ]
    },
    {
     "name": "stdout",
     "output_type": "stream",
     "text": [
      "Length of Labeled Pool: 800\n",
      "Length of Unlabeled Pool: 15200\n",
      "Epoch 5/50, Loss: 0.2582, Train Acc: 90.88%\n",
      "Epoch 10/50, Loss: 0.2153, Train Acc: 91.88%\n",
      "Epoch 15/50, Loss: 0.2123, Train Acc: 91.75%\n",
      "Epoch 20/50, Loss: 0.2202, Train Acc: 91.38%\n",
      "Epoch 25/50, Loss: 0.1908, Train Acc: 93.12%\n",
      "Epoch 30/50, Loss: 0.1862, Train Acc: 92.62%\n",
      "Epoch 35/50, Loss: 0.1774, Train Acc: 93.38%\n",
      "Epoch 40/50, Loss: 0.2000, Train Acc: 92.38%\n",
      "Epoch 45/50, Loss: 0.1945, Train Acc: 91.50%\n",
      "Epoch 50/50, Loss: 0.1640, Train Acc: 93.62%\n",
      "Per-class F1 scores: [0.87417943 0.88       0.86893643]\n",
      "Overall Accuracy: 87.28%\n",
      "Average F1 Score: 0.8744\n",
      "\n",
      "--- Round 9 [bald] ---\n"
     ]
    },
    {
     "name": "stderr",
     "output_type": "stream",
     "text": [
      "MC Dropout Simulations (BALD): 100%|██████████| 30/30 [00:28<00:00,  1.04it/s]\n"
     ]
    },
    {
     "name": "stdout",
     "output_type": "stream",
     "text": [
      "Length of Labeled Pool: 900\n",
      "Length of Unlabeled Pool: 15100\n",
      "Epoch 5/50, Loss: 0.2761, Train Acc: 91.11%\n",
      "Epoch 10/50, Loss: 0.2524, Train Acc: 91.56%\n",
      "Epoch 15/50, Loss: 0.2474, Train Acc: 91.67%\n",
      "Epoch 20/50, Loss: 0.2194, Train Acc: 91.67%\n",
      "Epoch 25/50, Loss: 0.2906, Train Acc: 89.33%\n",
      "Epoch 30/50, Loss: 0.2353, Train Acc: 91.22%\n",
      "Epoch 35/50, Loss: 0.1969, Train Acc: 93.00%\n",
      "Epoch 40/50, Loss: 0.1845, Train Acc: 93.44%\n",
      "Epoch 45/50, Loss: 0.1987, Train Acc: 93.11%\n",
      "Epoch 50/50, Loss: 0.2138, Train Acc: 92.89%\n",
      "Per-class F1 scores: [0.8728466  0.87572816 0.86568065]\n",
      "Overall Accuracy: 87.02%\n",
      "Average F1 Score: 0.8714\n",
      "\n",
      "--- Round 10 [bald] ---\n"
     ]
    },
    {
     "name": "stderr",
     "output_type": "stream",
     "text": [
      "MC Dropout Simulations (BALD): 100%|██████████| 30/30 [00:28<00:00,  1.05it/s]\n"
     ]
    },
    {
     "name": "stdout",
     "output_type": "stream",
     "text": [
      "Length of Labeled Pool: 1000\n",
      "Length of Unlabeled Pool: 15000\n",
      "Epoch 5/50, Loss: 0.2648, Train Acc: 89.90%\n",
      "Epoch 10/50, Loss: 0.2365, Train Acc: 90.90%\n",
      "Epoch 15/50, Loss: 0.2454, Train Acc: 91.30%\n",
      "Epoch 20/50, Loss: 0.2288, Train Acc: 91.70%\n",
      "Epoch 25/50, Loss: 0.1985, Train Acc: 92.00%\n",
      "Epoch 30/50, Loss: 0.2360, Train Acc: 91.60%\n",
      "Epoch 35/50, Loss: 0.2167, Train Acc: 91.90%\n",
      "Epoch 40/50, Loss: 0.2739, Train Acc: 90.10%\n",
      "Epoch 45/50, Loss: 0.1997, Train Acc: 92.50%\n",
      "Epoch 50/50, Loss: 0.2105, Train Acc: 91.70%\n",
      "Per-class F1 scores: [0.88239979 0.87881773 0.87072716]\n",
      "Overall Accuracy: 87.72%\n",
      "Average F1 Score: 0.8773\n",
      "\n",
      "======================\n",
      " Running strategy: VARIATION_RATIO \n",
      "======================\n",
      "Length of Labeled Pool: 0\n",
      "Length of Unlabeled Pool: 16000\n",
      "\n",
      "--- Round 1 [variation_ratio] ---\n"
     ]
    },
    {
     "name": "stderr",
     "output_type": "stream",
     "text": [
      "MC Dropout Simulations (VarRatio): 100%|██████████| 30/30 [00:30<00:00,  1.01s/it]\n"
     ]
    },
    {
     "name": "stdout",
     "output_type": "stream",
     "text": [
      "Length of Labeled Pool: 100\n",
      "Length of Unlabeled Pool: 15900\n",
      "Epoch 5/50, Loss: 0.9285, Train Acc: 69.00%\n",
      "Epoch 10/50, Loss: 0.4996, Train Acc: 73.00%\n",
      "Epoch 15/50, Loss: 0.4444, Train Acc: 83.00%\n",
      "Epoch 20/50, Loss: 0.3919, Train Acc: 93.00%\n",
      "Epoch 25/50, Loss: 0.3781, Train Acc: 90.00%\n",
      "Epoch 30/50, Loss: 0.3415, Train Acc: 92.00%\n",
      "Epoch 35/50, Loss: 0.1925, Train Acc: 93.00%\n",
      "Epoch 40/50, Loss: 0.2573, Train Acc: 92.00%\n",
      "Epoch 45/50, Loss: 0.5037, Train Acc: 94.00%\n",
      "Epoch 50/50, Loss: 0.2952, Train Acc: 91.00%\n",
      "Per-class F1 scores: [0.83678683 0.87863591 0.83333333]\n",
      "Overall Accuracy: 84.05%\n",
      "Average F1 Score: 0.8496\n",
      "\n",
      "--- Round 2 [variation_ratio] ---\n"
     ]
    },
    {
     "name": "stderr",
     "output_type": "stream",
     "text": [
      "MC Dropout Simulations (VarRatio): 100%|██████████| 30/30 [00:30<00:00,  1.01s/it]\n"
     ]
    },
    {
     "name": "stdout",
     "output_type": "stream",
     "text": [
      "Length of Labeled Pool: 200\n",
      "Length of Unlabeled Pool: 15800\n",
      "Epoch 5/50, Loss: 0.4253, Train Acc: 85.50%\n",
      "Epoch 10/50, Loss: 0.4051, Train Acc: 87.50%\n",
      "Epoch 15/50, Loss: 0.3632, Train Acc: 89.00%\n",
      "Epoch 20/50, Loss: 0.2933, Train Acc: 93.00%\n",
      "Epoch 25/50, Loss: 0.1550, Train Acc: 94.50%\n",
      "Epoch 30/50, Loss: 0.2006, Train Acc: 92.50%\n",
      "Epoch 35/50, Loss: 0.2021, Train Acc: 95.00%\n",
      "Epoch 40/50, Loss: 0.1795, Train Acc: 95.00%\n",
      "Epoch 45/50, Loss: 0.3135, Train Acc: 90.50%\n",
      "Epoch 50/50, Loss: 0.1409, Train Acc: 95.50%\n",
      "Per-class F1 scores: [0.88593877 0.87684729 0.87978142]\n",
      "Overall Accuracy: 88.22%\n",
      "Average F1 Score: 0.8809\n",
      "\n",
      "--- Round 3 [variation_ratio] ---\n"
     ]
    },
    {
     "name": "stderr",
     "output_type": "stream",
     "text": [
      "MC Dropout Simulations (VarRatio): 100%|██████████| 30/30 [00:30<00:00,  1.00s/it]\n"
     ]
    },
    {
     "name": "stdout",
     "output_type": "stream",
     "text": [
      "Length of Labeled Pool: 300\n",
      "Length of Unlabeled Pool: 15700\n",
      "Epoch 5/50, Loss: 0.4341, Train Acc: 84.67%\n",
      "Epoch 10/50, Loss: 0.3036, Train Acc: 90.00%\n",
      "Epoch 15/50, Loss: 0.2812, Train Acc: 87.67%\n",
      "Epoch 20/50, Loss: 0.1989, Train Acc: 94.00%\n",
      "Epoch 25/50, Loss: 0.2089, Train Acc: 92.67%\n",
      "Epoch 30/50, Loss: 0.2146, Train Acc: 91.00%\n",
      "Epoch 35/50, Loss: 0.2449, Train Acc: 93.00%\n",
      "Epoch 40/50, Loss: 0.1480, Train Acc: 93.33%\n",
      "Epoch 45/50, Loss: 0.2011, Train Acc: 95.67%\n",
      "Epoch 50/50, Loss: 0.1582, Train Acc: 92.67%\n",
      "Per-class F1 scores: [0.85135521 0.84137931 0.84885057]\n",
      "Overall Accuracy: 84.90%\n",
      "Average F1 Score: 0.8472\n",
      "\n",
      "--- Round 4 [variation_ratio] ---\n"
     ]
    },
    {
     "name": "stderr",
     "output_type": "stream",
     "text": [
      "MC Dropout Simulations (VarRatio): 100%|██████████| 30/30 [00:29<00:00,  1.00it/s]\n"
     ]
    },
    {
     "name": "stdout",
     "output_type": "stream",
     "text": [
      "Length of Labeled Pool: 400\n",
      "Length of Unlabeled Pool: 15600\n",
      "Epoch 5/50, Loss: 0.2199, Train Acc: 92.75%\n",
      "Epoch 10/50, Loss: 0.1798, Train Acc: 92.75%\n",
      "Epoch 15/50, Loss: 0.2080, Train Acc: 92.50%\n",
      "Epoch 20/50, Loss: 0.2534, Train Acc: 90.25%\n",
      "Epoch 25/50, Loss: 0.1621, Train Acc: 94.00%\n",
      "Epoch 30/50, Loss: 0.1606, Train Acc: 94.50%\n",
      "Epoch 35/50, Loss: 0.1969, Train Acc: 92.50%\n",
      "Epoch 40/50, Loss: 0.1213, Train Acc: 95.25%\n",
      "Epoch 45/50, Loss: 0.2038, Train Acc: 94.25%\n",
      "Epoch 50/50, Loss: 0.1065, Train Acc: 96.75%\n",
      "Per-class F1 scores: [0.87094972 0.8630137  0.86698058]\n",
      "Overall Accuracy: 86.83%\n",
      "Average F1 Score: 0.8670\n",
      "\n",
      "--- Round 5 [variation_ratio] ---\n"
     ]
    },
    {
     "name": "stderr",
     "output_type": "stream",
     "text": [
      "MC Dropout Simulations (VarRatio): 100%|██████████| 30/30 [00:29<00:00,  1.01it/s]\n"
     ]
    },
    {
     "name": "stdout",
     "output_type": "stream",
     "text": [
      "Length of Labeled Pool: 500\n",
      "Length of Unlabeled Pool: 15500\n",
      "Epoch 5/50, Loss: 0.3086, Train Acc: 88.80%\n",
      "Epoch 10/50, Loss: 0.2037, Train Acc: 92.20%\n",
      "Epoch 15/50, Loss: 0.2165, Train Acc: 92.00%\n",
      "Epoch 20/50, Loss: 0.1599, Train Acc: 94.40%\n",
      "Epoch 25/50, Loss: 0.1364, Train Acc: 95.40%\n",
      "Epoch 30/50, Loss: 0.1527, Train Acc: 93.00%\n",
      "Epoch 35/50, Loss: 0.1443, Train Acc: 94.40%\n",
      "Epoch 40/50, Loss: 0.1237, Train Acc: 94.80%\n",
      "Epoch 45/50, Loss: 0.1465, Train Acc: 95.60%\n",
      "Epoch 50/50, Loss: 0.1523, Train Acc: 93.80%\n",
      "Per-class F1 scores: [0.87655344 0.86939571 0.87026543]\n",
      "Overall Accuracy: 87.30%\n",
      "Average F1 Score: 0.8721\n",
      "\n",
      "--- Round 6 [variation_ratio] ---\n"
     ]
    },
    {
     "name": "stderr",
     "output_type": "stream",
     "text": [
      "MC Dropout Simulations (VarRatio): 100%|██████████| 30/30 [00:29<00:00,  1.00it/s]\n"
     ]
    },
    {
     "name": "stdout",
     "output_type": "stream",
     "text": [
      "Length of Labeled Pool: 600\n",
      "Length of Unlabeled Pool: 15400\n",
      "Epoch 5/50, Loss: 0.2519, Train Acc: 89.67%\n",
      "Epoch 10/50, Loss: 0.2398, Train Acc: 91.33%\n",
      "Epoch 15/50, Loss: 0.2150, Train Acc: 89.83%\n",
      "Epoch 20/50, Loss: 0.2211, Train Acc: 91.50%\n",
      "Epoch 25/50, Loss: 0.2043, Train Acc: 91.33%\n",
      "Epoch 30/50, Loss: 0.1570, Train Acc: 94.50%\n",
      "Epoch 35/50, Loss: 0.1899, Train Acc: 93.17%\n",
      "Epoch 40/50, Loss: 0.1816, Train Acc: 92.83%\n",
      "Epoch 45/50, Loss: 0.1629, Train Acc: 93.33%\n",
      "Epoch 50/50, Loss: 0.1349, Train Acc: 95.33%\n",
      "Per-class F1 scores: [0.88186356 0.87573964 0.8816568 ]\n",
      "Overall Accuracy: 88.10%\n",
      "Average F1 Score: 0.8798\n",
      "\n",
      "--- Round 7 [variation_ratio] ---\n"
     ]
    },
    {
     "name": "stderr",
     "output_type": "stream",
     "text": [
      "MC Dropout Simulations (VarRatio): 100%|██████████| 30/30 [00:29<00:00,  1.02it/s]\n"
     ]
    },
    {
     "name": "stdout",
     "output_type": "stream",
     "text": [
      "Length of Labeled Pool: 700\n",
      "Length of Unlabeled Pool: 15300\n",
      "Epoch 5/50, Loss: 0.2554, Train Acc: 90.43%\n",
      "Epoch 10/50, Loss: 0.2685, Train Acc: 90.43%\n",
      "Epoch 15/50, Loss: 0.1997, Train Acc: 91.71%\n",
      "Epoch 20/50, Loss: 0.2023, Train Acc: 91.14%\n",
      "Epoch 25/50, Loss: 0.2108, Train Acc: 90.71%\n",
      "Epoch 30/50, Loss: 0.2210, Train Acc: 93.14%\n",
      "Epoch 35/50, Loss: 0.2039, Train Acc: 92.43%\n",
      "Epoch 40/50, Loss: 0.1741, Train Acc: 93.00%\n",
      "Epoch 45/50, Loss: 0.1772, Train Acc: 94.00%\n",
      "Epoch 50/50, Loss: 0.1906, Train Acc: 93.00%\n",
      "Per-class F1 scores: [0.88438356 0.8756027  0.88198008]\n",
      "Overall Accuracy: 88.22%\n",
      "Average F1 Score: 0.8807\n",
      "\n",
      "--- Round 8 [variation_ratio] ---\n"
     ]
    },
    {
     "name": "stderr",
     "output_type": "stream",
     "text": [
      "MC Dropout Simulations (VarRatio): 100%|██████████| 30/30 [00:29<00:00,  1.03it/s]\n"
     ]
    },
    {
     "name": "stdout",
     "output_type": "stream",
     "text": [
      "Length of Labeled Pool: 800\n",
      "Length of Unlabeled Pool: 15200\n",
      "Epoch 5/50, Loss: 0.2508, Train Acc: 90.00%\n",
      "Epoch 10/50, Loss: 0.2088, Train Acc: 91.75%\n",
      "Epoch 15/50, Loss: 0.2041, Train Acc: 92.38%\n",
      "Epoch 20/50, Loss: 0.2239, Train Acc: 91.12%\n",
      "Epoch 25/50, Loss: 0.1806, Train Acc: 93.38%\n",
      "Epoch 30/50, Loss: 0.2090, Train Acc: 92.25%\n",
      "Epoch 35/50, Loss: 0.2096, Train Acc: 92.62%\n",
      "Epoch 40/50, Loss: 0.1582, Train Acc: 93.38%\n",
      "Epoch 45/50, Loss: 0.1854, Train Acc: 92.50%\n",
      "Epoch 50/50, Loss: 0.1645, Train Acc: 93.75%\n",
      "Per-class F1 scores: [0.87923497 0.8666036  0.87420043]\n",
      "Overall Accuracy: 87.55%\n",
      "Average F1 Score: 0.8733\n",
      "\n",
      "--- Round 9 [variation_ratio] ---\n"
     ]
    },
    {
     "name": "stderr",
     "output_type": "stream",
     "text": [
      "MC Dropout Simulations (VarRatio): 100%|██████████| 30/30 [00:29<00:00,  1.03it/s]\n"
     ]
    },
    {
     "name": "stdout",
     "output_type": "stream",
     "text": [
      "Length of Labeled Pool: 900\n",
      "Length of Unlabeled Pool: 15100\n",
      "Epoch 5/50, Loss: 0.3981, Train Acc: 89.56%\n",
      "Epoch 10/50, Loss: 0.2354, Train Acc: 91.11%\n",
      "Epoch 15/50, Loss: 0.2485, Train Acc: 90.00%\n",
      "Epoch 20/50, Loss: 0.3455, Train Acc: 89.89%\n",
      "Epoch 25/50, Loss: 0.2225, Train Acc: 91.44%\n",
      "Epoch 30/50, Loss: 0.3226, Train Acc: 91.33%\n",
      "Epoch 35/50, Loss: 0.2467, Train Acc: 90.67%\n",
      "Epoch 40/50, Loss: 0.1989, Train Acc: 93.33%\n",
      "Epoch 45/50, Loss: 0.2712, Train Acc: 91.33%\n",
      "Epoch 50/50, Loss: 0.2611, Train Acc: 92.22%\n",
      "Per-class F1 scores: [0.89218107 0.88803089 0.88641157]\n",
      "Overall Accuracy: 88.92%\n",
      "Average F1 Score: 0.8889\n",
      "\n",
      "--- Round 10 [variation_ratio] ---\n"
     ]
    },
    {
     "name": "stderr",
     "output_type": "stream",
     "text": [
      "MC Dropout Simulations (VarRatio): 100%|██████████| 30/30 [00:28<00:00,  1.04it/s]\n"
     ]
    },
    {
     "name": "stdout",
     "output_type": "stream",
     "text": [
      "Length of Labeled Pool: 1000\n",
      "Length of Unlabeled Pool: 15000\n",
      "Epoch 5/50, Loss: 0.3195, Train Acc: 88.10%\n",
      "Epoch 10/50, Loss: 0.2903, Train Acc: 89.20%\n",
      "Epoch 15/50, Loss: 0.2614, Train Acc: 89.00%\n",
      "Epoch 20/50, Loss: 0.2450, Train Acc: 89.90%\n",
      "Epoch 25/50, Loss: 0.2425, Train Acc: 92.10%\n",
      "Epoch 30/50, Loss: 0.2029, Train Acc: 91.40%\n",
      "Epoch 35/50, Loss: 0.2123, Train Acc: 92.50%\n",
      "Epoch 40/50, Loss: 0.1816, Train Acc: 93.80%\n",
      "Epoch 45/50, Loss: 0.1890, Train Acc: 93.30%\n",
      "Epoch 50/50, Loss: 0.2218, Train Acc: 91.10%\n",
      "Per-class F1 scores: [0.89168227 0.88845401 0.88298858]\n",
      "Overall Accuracy: 88.78%\n",
      "Average F1 Score: 0.8877\n"
     ]
    }
   ],
   "source": [
    "num_rounds = 10\n",
    "epochs = 50\n",
    "query_size = 100 \n",
    "sim = 30\n",
    "\n",
    "\n",
    "for name, query_func in sampling_strategies.items():\n",
    "    print(f\"\\n======================\")\n",
    "    print(f\" Running strategy: {name.upper()} \")\n",
    "    print(f\"======================\")    \n",
    "\n",
    "    labeled_pool = strategy_pools[name][\"labeled\"]\n",
    "    unlabeled_pool = strategy_pools[name][\"unlabeled\"]\n",
    "    print('Length of Labeled Pool:', len(labeled_pool))\n",
    "    print('Length of Unlabeled Pool:', len(unlabeled_pool))\n",
    "\n",
    "    history = strategy_histories[name]\n",
    "\n",
    "    for round_num in range(1, num_rounds + 1):\n",
    "        print(f\"\\n--- Round {round_num} [{name}] ---\")\n",
    "    \n",
    "        # Cold start: Re-initialize model at every round\n",
    "        # backbone = cnn_dropout().to(device)\n",
    "        # fc = FC_dropout(1024).to(device)\n",
    "        # backbone.load_state_dict(backbone_state)\n",
    "        # fc.load_state_dict(fc_state)\n",
    "        \n",
    "        # 1. Query k samples\n",
    "        queried_indices = query_func(\n",
    "            X=X_train,\n",
    "            model_backbone=backbone,\n",
    "            model_fc=fc,\n",
    "            k=query_size,\n",
    "            device=device,\n",
    "            unlabeled_pool=unlabeled_pool,\n",
    "            sim = sim\n",
    "        )\n",
    "    \n",
    "        # 2. Update pools\n",
    "        new_indices = set(queried_indices) - labeled_pool  # avoid duplication\n",
    "        labeled_pool.update(new_indices)\n",
    "        unlabeled_pool.difference_update(new_indices)\n",
    "        print('Length of Labeled Pool:', len(labeled_pool))\n",
    "        print('Length of Unlabeled Pool:', len(unlabeled_pool))\n",
    "        \n",
    "        # 3. Build train loader\n",
    "        train_dataset = SimpleDataset(X_train[list(labeled_pool)], y_train[list(labeled_pool)])\n",
    "        train_loader = DataLoader(train_dataset, batch_size=32, shuffle=True)\n",
    "    \n",
    "        # 4. Train + Evaluate\n",
    "        train_acc = train(backbone, fc, train_loader, device, epochs=epochs)\n",
    "        val_f1s, val_acc, val_avg_f1 = eval_perf(val_dataloader, backbone, fc, device)\n",
    "        \n",
    "        print(\"Per-class F1 scores:\", val_f1s)\n",
    "        print(f\"Overall Accuracy: {val_acc * 100:.2f}%\")\n",
    "        print(f\"Average F1 Score: {val_avg_f1:.4f}\")\n",
    "    \n",
    "        # 5. Update history\n",
    "        history[\"rounds\"].append(round_num)\n",
    "        history[\"num_labeled\"].append(len(labeled_pool))\n",
    "        history[\"train_accuracy\"].append(train_acc)\n",
    "        history[\"val_accuracy\"].append(val_acc)\n",
    "        history[\"val_avg_f1\"].append(val_avg_f1)\n",
    "        history[\"val_f1s\"].append(val_f1s.tolist())"
   ]
  },
  {
   "cell_type": "code",
   "execution_count": 49,
   "metadata": {
    "execution": {
     "iopub.execute_input": "2025-07-29T10:34:30.546564Z",
     "iopub.status.busy": "2025-07-29T10:34:30.545988Z",
     "iopub.status.idle": "2025-07-29T10:34:31.662459Z",
     "shell.execute_reply": "2025-07-29T10:34:31.661759Z",
     "shell.execute_reply.started": "2025-07-29T10:34:30.546541Z"
    },
    "trusted": true
   },
   "outputs": [
    {
     "data": {
      "image/png": "[encoded data removed]",
      "text/plain": [
       "<Figure size 2000x500 with 3 Axes>"
      ]
     },
     "metadata": {},
     "output_type": "display_data"
    },
    {
     "data": {
      "image/png": "[encoded data removed]",
      "text/plain": [
       "<Figure size 2000x500 with 3 Axes>"
      ]
     },
     "metadata": {},
     "output_type": "display_data"
    }
   ],
   "source": [
    "# Accuracy Plot: Train vs Val\n",
    "fig, axs = plt.subplots(1, 3, figsize=(20, 5), sharey=True)\n",
    "\n",
    "for i, (name, history) in enumerate(strategy_histories.items()):\n",
    "    val_accs = [a * 100 for a in history[\"val_accuracy\"]]\n",
    "    train_accs = [acc_list[-1] * 100 for acc_list in history[\"train_accuracy\"]]  # last epoch of each round\n",
    "\n",
    "    axs[i].plot(history[\"num_labeled\"], val_accs, marker=\"o\", label=\"Validation Accuracy\", color=\"blue\")\n",
    "    axs[i].plot(history[\"num_labeled\"], train_accs, marker=\"x\", linestyle=\"--\", label=\"Train Accuracy\", color=\"orange\")\n",
    "\n",
    "    axs[i].set_title(f\"{name.capitalize()} Sampling\")\n",
    "    axs[i].set_xlabel(\"Labeled Samples\")\n",
    "    axs[i].set_ylabel(\"Accuracy (%)\")\n",
    "    axs[i].legend()\n",
    "    axs[i].grid(True)\n",
    "\n",
    "plt.tight_layout()\n",
    "plt.suptitle(\"Active Learning Strategy Comparison (Train vs Validation Accuracy)\", fontsize=16, y=1.05)\n",
    "plt.show()\n",
    "\n",
    "\n",
    "# Average F1 Score Plot\n",
    "fig, axs = plt.subplots(1, 3, figsize=(20, 5), sharey=True)\n",
    "for i, (name, history) in enumerate(strategy_histories.items()):\n",
    "    axs[i].plot(history[\"num_labeled\"], [a * 100 for a in history[\"val_avg_f1\"]], marker=\"x\", color='green')\n",
    "    axs[i].set_title(f\"{name.capitalize()} Sampling\")\n",
    "    axs[i].set_xlabel(\"Labeled Samples\")\n",
    "    axs[i].set_ylabel(\"F1 Score (%)\")\n",
    "    axs[i].grid(True)\n",
    "\n",
    "plt.tight_layout()\n",
    "plt.suptitle(\"Active Learning Strategy Comparison (F1 Score)\", fontsize=16, y=1.05)\n",
    "plt.show()"
   ]
  },
  {
   "cell_type": "markdown",
   "metadata": {},
   "source": [
    "<hr>"
   ]
  }
 ],
 "metadata": {
  "kaggle": {
   "accelerator": "gpu",
   "dataSources": [
    {
     "datasetId": 7956648,
     "sourceId": 12597357,
     "sourceType": "datasetVersion"
    }
   ],
   "dockerImageVersionId": 31090,
   "isGpuEnabled": true,
   "isInternetEnabled": true,
   "language": "python",
   "sourceType": "notebook"
  },
  "kernelspec": {
   "display_name": "Python 3",
   "language": "python",
   "name": "python3"
  },
  "language_info": {
   "codemirror_mode": {
    "name": "ipython",
    "version": 3
   },
   "file_extension": ".py",
   "mimetype": "text/x-python",
   "name": "python",
   "nbconvert_exporter": "python",
   "pygments_lexer": "ipython3",
   "version": "3.11.13"
  }
 },
 "nbformat": 4,
 "nbformat_minor": 4
}
