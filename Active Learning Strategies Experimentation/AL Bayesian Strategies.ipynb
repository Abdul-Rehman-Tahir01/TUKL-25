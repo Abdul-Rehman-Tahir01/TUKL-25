{
 "cells": [
  {
   "cell_type": "markdown",
   "metadata": {},
   "source": [
    "## Imports"
   ]
  },
  {
   "cell_type": "code",
   "execution_count": null,
   "metadata": {
    "execution": {
     "iopub.execute_input": "2025-07-29T09:18:18.935214Z",
     "iopub.status.busy": "2025-07-29T09:18:18.934900Z",
     "iopub.status.idle": "2025-07-29T09:18:18.942770Z",
     "shell.execute_reply": "2025-07-29T09:18:18.942105Z",
     "shell.execute_reply.started": "2025-07-29T09:18:18.935193Z"
    },
    "trusted": true
   },
   "outputs": [
    {
     "data": {
      "text/plain": [
       "<torch._C.Generator at 0x7890fa2de510>"
      ]
     },
     "execution_count": 16,
     "metadata": {},
     "output_type": "execute_result"
    }
   ],
   "source": [
    "import numpy as np\n",
    "from sklearn.model_selection import train_test_split\n",
    "import torch\n",
    "import torch.nn as nn\n",
    "import torch.nn.functional as F\n",
    "from torch.utils.data import Dataset, DataLoader\n",
    "from collections import OrderedDict\n",
    "from tqdm import tqdm\n",
    "import matplotlib.pyplot as plt\n",
    "\n",
    "device = torch.device(\"cuda\" if torch.cuda.is_available() else \"cpu\")\n",
    "np.random.seed(42)\n",
    "torch.manual_seed(42)"
   ]
  },
  {
   "cell_type": "markdown",
   "metadata": {},
   "source": [
    "<hr>"
   ]
  },
  {
   "cell_type": "markdown",
   "metadata": {},
   "source": [
    "## Loading Files"
   ]
  },
  {
   "cell_type": "code",
   "execution_count": 17,
   "metadata": {
    "execution": {
     "iopub.execute_input": "2025-07-29T09:18:21.734071Z",
     "iopub.status.busy": "2025-07-29T09:18:21.733483Z",
     "iopub.status.idle": "2025-07-29T09:18:21.754181Z",
     "shell.execute_reply": "2025-07-29T09:18:21.753424Z",
     "shell.execute_reply.started": "2025-07-29T09:18:21.734049Z"
    },
    "trusted": true
   },
   "outputs": [
    {
     "name": "stdout",
     "output_type": "stream",
     "text": [
      "(20000, 6, 28) (20000,)\n"
     ]
    }
   ],
   "source": [
    "X = np.load('/kaggle/input/active-learning-subset/tar_image_subset.npy')\n",
    "y = np.load('/kaggle/input/active-learning-subset/label_target_subset.npy')\n",
    "\n",
    "print(X.shape, y.shape)"
   ]
  },
  {
   "cell_type": "code",
   "execution_count": 18,
   "metadata": {
    "execution": {
     "iopub.execute_input": "2025-07-29T09:18:22.529369Z",
     "iopub.status.busy": "2025-07-29T09:18:22.529097Z",
     "iopub.status.idle": "2025-07-29T09:18:22.553438Z",
     "shell.execute_reply": "2025-07-29T09:18:22.552677Z",
     "shell.execute_reply.started": "2025-07-29T09:18:22.529348Z"
    },
    "trusted": true
   },
   "outputs": [
    {
     "name": "stdout",
     "output_type": "stream",
     "text": [
      "(16000, 6, 28) (4000, 6, 28)\n"
     ]
    }
   ],
   "source": [
    "# Train/val split\n",
    "X_train, X_val, y_train, y_val = train_test_split(X, y, test_size=0.2, stratify=y, random_state=1)\n",
    "print(X_train.shape, X_val.shape)"
   ]
  },
  {
   "cell_type": "markdown",
   "metadata": {},
   "source": [
    "<hr>"
   ]
  },
  {
   "cell_type": "markdown",
   "metadata": {},
   "source": [
    "## Dataset Class"
   ]
  },
  {
   "cell_type": "code",
   "execution_count": 19,
   "metadata": {
    "execution": {
     "iopub.execute_input": "2025-07-29T09:18:23.895810Z",
     "iopub.status.busy": "2025-07-29T09:18:23.895542Z",
     "iopub.status.idle": "2025-07-29T09:18:23.900535Z",
     "shell.execute_reply": "2025-07-29T09:18:23.899674Z",
     "shell.execute_reply.started": "2025-07-29T09:18:23.895790Z"
    },
    "trusted": true
   },
   "outputs": [],
   "source": [
    "class SimpleDataset(Dataset):\n",
    "    def __init__(self, images, labels):\n",
    "        self.images = images.astype(np.float32)\n",
    "        self.labels = labels.astype(np.int64)\n",
    "\n",
    "    def __len__(self):\n",
    "        return len(self.images)\n",
    "\n",
    "    def __getitem__(self, idx):\n",
    "        x = torch.tensor(self.images[idx])  # shape: (6, 28)\n",
    "        y = torch.tensor(self.labels[idx])\n",
    "        return {\"x\": x, \"y\": y}"
   ]
  },
  {
   "cell_type": "code",
   "execution_count": 20,
   "metadata": {
    "execution": {
     "iopub.execute_input": "2025-07-29T09:18:24.309929Z",
     "iopub.status.busy": "2025-07-29T09:18:24.309370Z",
     "iopub.status.idle": "2025-07-29T09:18:24.314532Z",
     "shell.execute_reply": "2025-07-29T09:18:24.313808Z",
     "shell.execute_reply.started": "2025-07-29T09:18:24.309885Z"
    },
    "trusted": true
   },
   "outputs": [],
   "source": [
    "# For evaluation\n",
    "val_dataset = SimpleDataset(X_val, y_val)\n",
    "val_dataloader = DataLoader(val_dataset, batch_size=64, shuffle=False)"
   ]
  },
  {
   "cell_type": "markdown",
   "metadata": {},
   "source": [
    "<hr>"
   ]
  },
  {
   "cell_type": "markdown",
   "metadata": {},
   "source": [
    "## Model"
   ]
  },
  {
   "cell_type": "code",
   "execution_count": 21,
   "metadata": {
    "execution": {
     "iopub.execute_input": "2025-07-29T09:18:25.620841Z",
     "iopub.status.busy": "2025-07-29T09:18:25.620570Z",
     "iopub.status.idle": "2025-07-29T09:18:25.734530Z",
     "shell.execute_reply": "2025-07-29T09:18:25.733832Z",
     "shell.execute_reply.started": "2025-07-29T09:18:25.620821Z"
    },
    "trusted": true
   },
   "outputs": [],
   "source": [
    "################ CNN Backbone\n",
    "def conv_block(in_channels: int, out_channels: int, dropout_p=0.5) -> nn.Module:\n",
    "    return nn.Sequential(\n",
    "        nn.Conv1d(in_channels, out_channels, 5,padding='same'),\n",
    "        nn.BatchNorm1d(out_channels),\n",
    "        nn.ReLU(),\n",
    "        nn.Dropout(p=dropout_p)\n",
    "    )\n",
    " \n",
    " \n",
    "class cnn_dropout(nn.Module):\n",
    "    def __init__(self, dropout_p=0.5):\n",
    "        super().__init__()\n",
    "        self.conv1 = conv_block(6, 64, dropout_p)\n",
    "        self.conv2 = conv_block(64, 128, dropout_p)\n",
    "        self.conv3 = conv_block(128, 256, dropout_p)\n",
    "        self.conv4 = conv_block(256, 512, dropout_p)\n",
    "        self.conv5 = conv_block(512, 1024, dropout_p)\n",
    "        \n",
    "        self.global_pool = nn.AdaptiveAvgPool1d(1)\n",
    " \n",
    "    def forward(self, x):\n",
    "        x = self.conv1(x)\n",
    "        x = self.conv2(x)\n",
    "        x = self.conv3(x)\n",
    "        x = self.conv4(x)\n",
    "        x = self.conv5(x)\n",
    "        x = self.global_pool(x)\n",
    "        return x.view(x.size(0), -1)\n",
    " \n",
    " \n",
    "################ Fully connected network\n",
    "class FC_dropout(nn.Module):\n",
    "    def __init__(self,input_dim, dropout_p=0.5):\n",
    "        super().__init__()\n",
    "        self.dropout = nn.Dropout(p=dropout_p)\n",
    "        self.fco = nn.Linear(input_dim, 3)\n",
    "\n",
    "    def forward(self, x):\n",
    "        x = self.dropout(x)\n",
    "        return self.fco(x)"
   ]
  },
  {
   "cell_type": "code",
   "execution_count": 22,
   "metadata": {
    "execution": {
     "iopub.execute_input": "2025-07-29T09:18:27.500861Z",
     "iopub.status.busy": "2025-07-29T09:18:27.500062Z",
     "iopub.status.idle": "2025-07-29T09:18:27.564363Z",
     "shell.execute_reply": "2025-07-29T09:18:27.563624Z",
     "shell.execute_reply.started": "2025-07-29T09:18:27.500827Z"
    },
    "trusted": true
   },
   "outputs": [
    {
     "data": {
      "text/plain": [
       "<All keys matched successfully>"
      ]
     },
     "execution_count": 22,
     "metadata": {},
     "output_type": "execute_result"
    }
   ],
   "source": [
    "# Loading model weights\n",
    "backbone_state = torch.load('/kaggle/input/active-learning-subset/backboneSiteA2019.pth')\n",
    "fc_state = torch.load('/kaggle/input/active-learning-subset/fcSiteA2019.pth')\n",
    "\n",
    "backbone_state = OrderedDict((k.replace('module.', ''), v) for k, v in backbone_state.items())\n",
    "fc_state = OrderedDict((k.replace('module.', ''), v) for k, v in fc_state.items())\n",
    "\n",
    "# Initialize and load models\n",
    "backbone = cnn_dropout()\n",
    "backbone.to(device)\n",
    "\n",
    "fc = FC_dropout(1024)\n",
    "fc.to(device)\n",
    "\n",
    "backbone.load_state_dict(backbone_state)\n",
    "fc.load_state_dict(fc_state)"
   ]
  },
  {
   "cell_type": "code",
   "execution_count": 23,
   "metadata": {
    "execution": {
     "iopub.execute_input": "2025-07-29T09:18:28.227406Z",
     "iopub.status.busy": "2025-07-29T09:18:28.226590Z",
     "iopub.status.idle": "2025-07-29T09:18:28.231200Z",
     "shell.execute_reply": "2025-07-29T09:18:28.230446Z",
     "shell.execute_reply.started": "2025-07-29T09:18:28.227375Z"
    },
    "trusted": true
   },
   "outputs": [],
   "source": [
    "# Enable dropout at inference/prediction (MC dropout)\n",
    "def enable_dropout(model):\n",
    "    \"\"\"Enable dropout layers during test time.\"\"\"\n",
    "    for m in model.modules():\n",
    "        if isinstance(m, nn.Dropout):\n",
    "            m.train()  # Keep dropout in training mode"
   ]
  },
  {
   "cell_type": "markdown",
   "metadata": {},
   "source": [
    "<hr>"
   ]
  },
  {
   "cell_type": "markdown",
   "metadata": {},
   "source": [
    "## Evaluation Function"
   ]
  },
  {
   "cell_type": "code",
   "execution_count": 24,
   "metadata": {
    "execution": {
     "iopub.execute_input": "2025-07-29T09:18:29.999846Z",
     "iopub.status.busy": "2025-07-29T09:18:29.999274Z",
     "iopub.status.idle": "2025-07-29T09:18:30.005403Z",
     "shell.execute_reply": "2025-07-29T09:18:30.004563Z",
     "shell.execute_reply.started": "2025-07-29T09:18:29.999823Z"
    },
    "trusted": true
   },
   "outputs": [],
   "source": [
    "def eval_perf(dataloader, backbone, fc, device):\n",
    "    backbone.eval()\n",
    "    fc.eval()\n",
    "\n",
    "    pred=[]\n",
    "    gt=[]\n",
    "\n",
    "    with torch.no_grad():\n",
    "        for batch in dataloader:\n",
    "            xt, yt = batch[\"x\"].to(device), batch[\"y\"].to(device)\n",
    "\n",
    "            # Forward pass through backbone and FC head\n",
    "            features = backbone(xt)\n",
    "            outputs = fc(features)\n",
    "            \n",
    "            yt_pred = torch.argmax(outputs, dim=1)\n",
    "            pred.extend(yt_pred.cpu().numpy())\n",
    "            gt.extend(yt.cpu().numpy())\n",
    "\n",
    "    # Convert to numpy arrays\n",
    "    pred = np.array(pred)\n",
    "    gt = np.array(gt)\n",
    "\n",
    "    # Computing metrics\n",
    "    f1s = sklearn.metrics.f1_score(gt, pred, average=None)\n",
    "    acc = np.mean(pred == gt)\n",
    "    avg_f1 = f1s.mean()\n",
    "\n",
    "    # Set models back to train mode\n",
    "    backbone.train()\n",
    "    fc.train()\n",
    "\n",
    "    return f1s, acc, avg_f1"
   ]
  },
  {
   "cell_type": "markdown",
   "metadata": {},
   "source": [
    "<hr>"
   ]
  },
  {
   "cell_type": "markdown",
   "metadata": {},
   "source": [
    "## Query Sampler (Aquisition Functions)"
   ]
  },
  {
   "cell_type": "code",
   "execution_count": 25,
   "metadata": {
    "execution": {
     "iopub.execute_input": "2025-07-29T09:18:31.581109Z",
     "iopub.status.busy": "2025-07-29T09:18:31.580369Z",
     "iopub.status.idle": "2025-07-29T09:18:31.588095Z",
     "shell.execute_reply": "2025-07-29T09:18:31.587387Z",
     "shell.execute_reply.started": "2025-07-29T09:18:31.581083Z"
    },
    "trusted": true
   },
   "outputs": [],
   "source": [
    "# Initialize pools\n",
    "labeled_pool = set()\n",
    "unlabeled_pool = set(range(len(X_train)))  # {0, 1, ..., 15999}\n",
    "\n",
    "# ============= Predictive Entropy ============= \n",
    "def predictive_entropy_sampling(X, model_backbone, model_fc, k, device, unlabeled_pool, sim=20):\n",
    "    model_backbone.eval()\n",
    "    model_fc.eval()\n",
    "    enable_dropout(model_backbone)\n",
    "    enable_dropout(model_fc)\n",
    "\n",
    "    indices = list(unlabeled_pool)\n",
    "    X_pool = X[indices]\n",
    "    mc_probs = []\n",
    "\n",
    "    with torch.no_grad():\n",
    "        for _ in tqdm(range(sim), desc='MC Dropout Simulations (PE)'):\n",
    "            logits = []\n",
    "            for i in range(0, len(X_pool), 32):\n",
    "                x_batch = torch.tensor(X_pool[i:i+32]).float().to(device)\n",
    "                feats = model_backbone(x_batch)\n",
    "                out = model_fc(feats)\n",
    "                logits.append(F.softmax(out, dim=1).cpu())\n",
    "            probs = torch.cat(logits, dim=0)\n",
    "            mc_probs.append(probs)\n",
    "\n",
    "    mc_probs = torch.stack(mc_probs)  # Shape: [T, N, C]\n",
    "    avg_probs = mc_probs.mean(dim=0)  # Shape: [N, C]\n",
    "    entropy = -torch.sum(avg_probs * torch.log(avg_probs + 1e-8), dim=1)\n",
    "\n",
    "    topk = torch.topk(entropy, k=k).indices\n",
    "    return [indices[i.item()] for i in topk]"
   ]
  },
  {
   "cell_type": "code",
   "execution_count": 26,
   "metadata": {
    "execution": {
     "iopub.execute_input": "2025-07-29T09:18:34.482274Z",
     "iopub.status.busy": "2025-07-29T09:18:34.482003Z",
     "iopub.status.idle": "2025-07-29T09:18:34.485865Z",
     "shell.execute_reply": "2025-07-29T09:18:34.485269Z",
     "shell.execute_reply.started": "2025-07-29T09:18:34.482255Z"
    },
    "trusted": true
   },
   "outputs": [],
   "source": [
    " history = {\n",
    "        \"rounds\": [],\n",
    "        \"num_labeled\": [],\n",
    "        \"accuracy\": [],\n",
    "        \"avg_f1\": [],\n",
    "        \"f1s\": []\n",
    "    }"
   ]
  },
  {
   "cell_type": "markdown",
   "metadata": {},
   "source": [
    "<hr>"
   ]
  },
  {
   "cell_type": "markdown",
   "metadata": {},
   "source": [
    "## Training Loop"
   ]
  },
  {
   "cell_type": "code",
   "execution_count": 27,
   "metadata": {
    "execution": {
     "iopub.execute_input": "2025-07-29T09:18:35.322379Z",
     "iopub.status.busy": "2025-07-29T09:18:35.322115Z",
     "iopub.status.idle": "2025-07-29T09:18:35.327813Z",
     "shell.execute_reply": "2025-07-29T09:18:35.327220Z",
     "shell.execute_reply.started": "2025-07-29T09:18:35.322359Z"
    },
    "trusted": true
   },
   "outputs": [],
   "source": [
    "def train(backbone, fc, train_loader, device, epochs=5):\n",
    "    backbone.train()\n",
    "    fc.train()\n",
    "\n",
    "    optimizer = torch.optim.Adam(list(backbone.parameters()) + list(fc.parameters()), lr=1e-3)\n",
    "\n",
    "    for epoch in range(epochs):\n",
    "        total_loss = 0\n",
    "        for batch in train_loader:\n",
    "            xt = batch[\"x\"].to(device)\n",
    "            yt = batch[\"y\"].to(device)\n",
    "\n",
    "            optimizer.zero_grad()\n",
    "\n",
    "            features = backbone(xt)\n",
    "            outputs = fc(features)\n",
    "            loss = F.cross_entropy(outputs, yt)\n",
    "            loss.backward()\n",
    "            optimizer.step()\n",
    "\n",
    "            total_loss += loss.item()\n",
    "            \n",
    "        if (epoch+1)%5 == 0:\n",
    "            print(f\"Epoch {epoch+1}/{epochs}, Loss: {total_loss / len(train_loader):.4f}\")"
   ]
  },
  {
   "cell_type": "markdown",
   "metadata": {},
   "source": [
    "<hr>"
   ]
  },
  {
   "cell_type": "markdown",
   "metadata": {},
   "source": [
    "## AL Pipeline Loop"
   ]
  },
  {
   "cell_type": "code",
   "execution_count": 29,
   "metadata": {
    "execution": {
     "iopub.execute_input": "2025-07-29T09:19:47.000435Z",
     "iopub.status.busy": "2025-07-29T09:19:47.000157Z",
     "iopub.status.idle": "2025-07-29T09:32:21.399115Z",
     "shell.execute_reply": "2025-07-29T09:32:21.398431Z",
     "shell.execute_reply.started": "2025-07-29T09:19:47.000415Z"
    },
    "trusted": true
   },
   "outputs": [
    {
     "name": "stdout",
     "output_type": "stream",
     "text": [
      "\n",
      "--- Round 1 ---\n"
     ]
    },
    {
     "name": "stderr",
     "output_type": "stream",
     "text": [
      "MC Dropout Simulations: 100%|██████████| 30/30 [00:30<00:00,  1.03s/it]\n"
     ]
    },
    {
     "name": "stdout",
     "output_type": "stream",
     "text": [
      "Length of Labeled Pool: 200\n",
      "Length of Unlabeled Pool: 15800\n",
      "Epoch 5/50, Loss: 1.2298\n",
      "Epoch 10/50, Loss: 0.6255\n",
      "Epoch 15/50, Loss: 0.3177\n",
      "Epoch 20/50, Loss: 0.4846\n",
      "Epoch 25/50, Loss: 0.2910\n",
      "Epoch 30/50, Loss: 0.3393\n",
      "Epoch 35/50, Loss: 0.3119\n",
      "Epoch 40/50, Loss: 0.2753\n",
      "Epoch 45/50, Loss: 0.2255\n",
      "Epoch 50/50, Loss: 0.1762\n",
      "Per-class F1 scores: [0.72105635 0.         0.73810994]\n",
      "Overall Accuracy: 68.10%\n",
      "Average F1 Score: 0.4864\n",
      "\n",
      "--- Round 2 ---\n"
     ]
    },
    {
     "name": "stderr",
     "output_type": "stream",
     "text": [
      "MC Dropout Simulations: 100%|██████████| 30/30 [00:30<00:00,  1.00s/it]\n"
     ]
    },
    {
     "name": "stdout",
     "output_type": "stream",
     "text": [
      "Length of Labeled Pool: 400\n",
      "Length of Unlabeled Pool: 15600\n",
      "Epoch 5/50, Loss: 0.5379\n",
      "Epoch 10/50, Loss: 0.4476\n",
      "Epoch 15/50, Loss: 0.3715\n",
      "Epoch 20/50, Loss: 0.4001\n",
      "Epoch 25/50, Loss: 0.3352\n",
      "Epoch 30/50, Loss: 0.3455\n",
      "Epoch 35/50, Loss: 0.2915\n",
      "Epoch 40/50, Loss: 0.3136\n",
      "Epoch 45/50, Loss: 0.2698\n",
      "Epoch 50/50, Loss: 0.2318\n",
      "Per-class F1 scores: [0.74993522 0.28355958 0.79643473]\n",
      "Overall Accuracy: 73.15%\n",
      "Average F1 Score: 0.6100\n",
      "\n",
      "--- Round 3 ---\n"
     ]
    },
    {
     "name": "stderr",
     "output_type": "stream",
     "text": [
      "MC Dropout Simulations: 100%|██████████| 30/30 [00:29<00:00,  1.01it/s]\n"
     ]
    },
    {
     "name": "stdout",
     "output_type": "stream",
     "text": [
      "Length of Labeled Pool: 600\n",
      "Length of Unlabeled Pool: 15400\n",
      "Epoch 5/50, Loss: 0.3806\n",
      "Epoch 10/50, Loss: 0.3550\n",
      "Epoch 15/50, Loss: 0.3536\n",
      "Epoch 20/50, Loss: 0.3103\n",
      "Epoch 25/50, Loss: 0.2810\n",
      "Epoch 30/50, Loss: 0.2818\n",
      "Epoch 35/50, Loss: 0.2408\n",
      "Epoch 40/50, Loss: 0.3075\n",
      "Epoch 45/50, Loss: 0.2371\n",
      "Epoch 50/50, Loss: 0.2531\n",
      "Per-class F1 scores: [0.84190782 0.82791587 0.83240223]\n",
      "Overall Accuracy: 83.62%\n",
      "Average F1 Score: 0.8341\n",
      "\n",
      "--- Round 4 ---\n"
     ]
    },
    {
     "name": "stderr",
     "output_type": "stream",
     "text": [
      "MC Dropout Simulations: 100%|██████████| 30/30 [00:29<00:00,  1.02it/s]\n"
     ]
    },
    {
     "name": "stdout",
     "output_type": "stream",
     "text": [
      "Length of Labeled Pool: 800\n",
      "Length of Unlabeled Pool: 15200\n",
      "Epoch 5/50, Loss: 0.3798\n",
      "Epoch 10/50, Loss: 0.3777\n",
      "Epoch 15/50, Loss: 0.3827\n",
      "Epoch 20/50, Loss: 0.3377\n",
      "Epoch 25/50, Loss: 0.3124\n",
      "Epoch 30/50, Loss: 0.3189\n",
      "Epoch 35/50, Loss: 0.3143\n",
      "Epoch 40/50, Loss: 0.3117\n",
      "Epoch 45/50, Loss: 0.2819\n",
      "Epoch 50/50, Loss: 0.2580\n",
      "Per-class F1 scores: [0.86237514 0.87411883 0.86335586]\n",
      "Overall Accuracy: 86.42%\n",
      "Average F1 Score: 0.8666\n",
      "\n",
      "--- Round 5 ---\n"
     ]
    },
    {
     "name": "stderr",
     "output_type": "stream",
     "text": [
      "MC Dropout Simulations: 100%|██████████| 30/30 [00:28<00:00,  1.04it/s]\n"
     ]
    },
    {
     "name": "stdout",
     "output_type": "stream",
     "text": [
      "Length of Labeled Pool: 1000\n",
      "Length of Unlabeled Pool: 15000\n",
      "Epoch 5/50, Loss: 0.4548\n",
      "Epoch 10/50, Loss: 0.3870\n",
      "Epoch 15/50, Loss: 0.3804\n",
      "Epoch 20/50, Loss: 0.3557\n",
      "Epoch 25/50, Loss: 0.3560\n",
      "Epoch 30/50, Loss: 0.3335\n",
      "Epoch 35/50, Loss: 0.3588\n",
      "Epoch 40/50, Loss: 0.3703\n",
      "Epoch 45/50, Loss: 0.3365\n",
      "Epoch 50/50, Loss: 0.2719\n",
      "Per-class F1 scores: [0.87364238 0.88408644 0.86560649]\n",
      "Overall Accuracy: 87.17%\n",
      "Average F1 Score: 0.8744\n",
      "\n",
      "--- Round 6 ---\n"
     ]
    },
    {
     "name": "stderr",
     "output_type": "stream",
     "text": [
      "MC Dropout Simulations: 100%|██████████| 30/30 [00:28<00:00,  1.05it/s]\n"
     ]
    },
    {
     "name": "stdout",
     "output_type": "stream",
     "text": [
      "Length of Labeled Pool: 1200\n",
      "Length of Unlabeled Pool: 14800\n",
      "Epoch 5/50, Loss: 0.4121\n",
      "Epoch 10/50, Loss: 0.4285\n",
      "Epoch 15/50, Loss: 0.4148\n",
      "Epoch 20/50, Loss: 0.3905\n",
      "Epoch 25/50, Loss: 0.3634\n",
      "Epoch 30/50, Loss: 0.3526\n",
      "Epoch 35/50, Loss: 0.3356\n",
      "Epoch 40/50, Loss: 0.3419\n",
      "Epoch 45/50, Loss: 0.3733\n",
      "Epoch 50/50, Loss: 0.3346\n",
      "Per-class F1 scores: [0.87348735 0.88291747 0.871764  ]\n",
      "Overall Accuracy: 87.40%\n",
      "Average F1 Score: 0.8761\n",
      "\n",
      "--- Round 7 ---\n"
     ]
    },
    {
     "name": "stderr",
     "output_type": "stream",
     "text": [
      "MC Dropout Simulations: 100%|██████████| 30/30 [00:28<00:00,  1.07it/s]\n"
     ]
    },
    {
     "name": "stdout",
     "output_type": "stream",
     "text": [
      "Length of Labeled Pool: 1400\n",
      "Length of Unlabeled Pool: 14600\n",
      "Epoch 5/50, Loss: 0.4242\n",
      "Epoch 10/50, Loss: 0.4172\n",
      "Epoch 15/50, Loss: 0.4022\n",
      "Epoch 20/50, Loss: 0.3853\n",
      "Epoch 25/50, Loss: 0.3800\n",
      "Epoch 30/50, Loss: 0.3750\n",
      "Epoch 35/50, Loss: 0.3642\n",
      "Epoch 40/50, Loss: 0.3576\n",
      "Epoch 45/50, Loss: 0.3519\n",
      "Epoch 50/50, Loss: 0.3475\n",
      "Per-class F1 scores: [0.87765528 0.89103182 0.86991369]\n",
      "Overall Accuracy: 87.62%\n",
      "Average F1 Score: 0.8795\n",
      "\n",
      "--- Round 8 ---\n"
     ]
    },
    {
     "name": "stderr",
     "output_type": "stream",
     "text": [
      "MC Dropout Simulations: 100%|██████████| 30/30 [00:27<00:00,  1.08it/s]\n"
     ]
    },
    {
     "name": "stdout",
     "output_type": "stream",
     "text": [
      "Length of Labeled Pool: 1600\n",
      "Length of Unlabeled Pool: 14400\n",
      "Epoch 5/50, Loss: 0.3966\n",
      "Epoch 10/50, Loss: 0.4387\n",
      "Epoch 15/50, Loss: 0.4195\n",
      "Epoch 20/50, Loss: 0.3836\n",
      "Epoch 25/50, Loss: 0.3667\n",
      "Epoch 30/50, Loss: 0.3670\n",
      "Epoch 35/50, Loss: 0.3533\n",
      "Epoch 40/50, Loss: 0.3762\n",
      "Epoch 45/50, Loss: 0.3660\n",
      "Epoch 50/50, Loss: 0.3580\n",
      "Per-class F1 scores: [0.87533875 0.87725975 0.8695919 ]\n",
      "Overall Accuracy: 87.33%\n",
      "Average F1 Score: 0.8741\n",
      "\n",
      "--- Round 9 ---\n"
     ]
    },
    {
     "name": "stderr",
     "output_type": "stream",
     "text": [
      "MC Dropout Simulations: 100%|██████████| 30/30 [00:27<00:00,  1.10it/s]\n"
     ]
    },
    {
     "name": "stdout",
     "output_type": "stream",
     "text": [
      "Length of Labeled Pool: 1800\n",
      "Length of Unlabeled Pool: 14200\n",
      "Epoch 5/50, Loss: 0.4073\n",
      "Epoch 10/50, Loss: 0.3903\n",
      "Epoch 15/50, Loss: 0.4024\n",
      "Epoch 20/50, Loss: 0.3750\n",
      "Epoch 25/50, Loss: 0.3345\n",
      "Epoch 30/50, Loss: 0.3787\n",
      "Epoch 35/50, Loss: 0.3845\n",
      "Epoch 40/50, Loss: 0.3546\n",
      "Epoch 45/50, Loss: 0.3542\n",
      "Epoch 50/50, Loss: 0.3599\n",
      "Per-class F1 scores: [0.85563751 0.88697318 0.83607595]\n",
      "Overall Accuracy: 85.20%\n",
      "Average F1 Score: 0.8596\n",
      "\n",
      "--- Round 10 ---\n"
     ]
    },
    {
     "name": "stderr",
     "output_type": "stream",
     "text": [
      "MC Dropout Simulations: 100%|██████████| 30/30 [00:26<00:00,  1.11it/s]\n"
     ]
    },
    {
     "name": "stdout",
     "output_type": "stream",
     "text": [
      "Length of Labeled Pool: 2000\n",
      "Length of Unlabeled Pool: 14000\n",
      "Epoch 5/50, Loss: 0.3710\n",
      "Epoch 10/50, Loss: 0.3709\n",
      "Epoch 15/50, Loss: 0.3875\n",
      "Epoch 20/50, Loss: 0.3615\n",
      "Epoch 25/50, Loss: 0.3577\n",
      "Epoch 30/50, Loss: 0.3190\n",
      "Epoch 35/50, Loss: 0.3259\n",
      "Epoch 40/50, Loss: 0.3232\n",
      "Epoch 45/50, Loss: 0.3431\n",
      "Epoch 50/50, Loss: 0.3230\n",
      "Per-class F1 scores: [0.88846572 0.8895293  0.88455681]\n",
      "Overall Accuracy: 88.70%\n",
      "Average F1 Score: 0.8875\n",
      "\n",
      "--- Round 11 ---\n"
     ]
    },
    {
     "name": "stderr",
     "output_type": "stream",
     "text": [
      "MC Dropout Simulations: 100%|██████████| 30/30 [00:26<00:00,  1.13it/s]\n"
     ]
    },
    {
     "name": "stdout",
     "output_type": "stream",
     "text": [
      "Length of Labeled Pool: 2200\n",
      "Length of Unlabeled Pool: 13800\n",
      "Epoch 5/50, Loss: 0.3953\n",
      "Epoch 10/50, Loss: 0.3622\n",
      "Epoch 15/50, Loss: 0.3285\n",
      "Epoch 20/50, Loss: 0.3498\n",
      "Epoch 25/50, Loss: 0.3218\n",
      "Epoch 30/50, Loss: 0.3249\n",
      "Epoch 35/50, Loss: 0.3293\n",
      "Epoch 40/50, Loss: 0.3117\n",
      "Epoch 45/50, Loss: 0.3130\n",
      "Epoch 50/50, Loss: 0.2901\n",
      "Per-class F1 scores: [0.88496072 0.89390963 0.88589819]\n",
      "Overall Accuracy: 88.65%\n",
      "Average F1 Score: 0.8883\n",
      "\n",
      "--- Round 12 ---\n"
     ]
    },
    {
     "name": "stderr",
     "output_type": "stream",
     "text": [
      "MC Dropout Simulations: 100%|██████████| 30/30 [00:26<00:00,  1.14it/s]\n"
     ]
    },
    {
     "name": "stdout",
     "output_type": "stream",
     "text": [
      "Length of Labeled Pool: 2400\n",
      "Length of Unlabeled Pool: 13600\n",
      "Epoch 5/50, Loss: 0.3619\n",
      "Epoch 10/50, Loss: 0.3483\n",
      "Epoch 15/50, Loss: 0.3319\n",
      "Epoch 20/50, Loss: 0.3374\n",
      "Epoch 25/50, Loss: 0.3073\n",
      "Epoch 30/50, Loss: 0.3204\n",
      "Epoch 35/50, Loss: 0.3217\n",
      "Epoch 40/50, Loss: 0.3427\n",
      "Epoch 45/50, Loss: 0.3023\n",
      "Epoch 50/50, Loss: 0.2771\n",
      "Per-class F1 scores: [0.89273169 0.89254598 0.88426209]\n",
      "Overall Accuracy: 88.92%\n",
      "Average F1 Score: 0.8898\n",
      "\n",
      "--- Round 13 ---\n"
     ]
    },
    {
     "name": "stderr",
     "output_type": "stream",
     "text": [
      "MC Dropout Simulations: 100%|██████████| 30/30 [00:25<00:00,  1.16it/s]\n"
     ]
    },
    {
     "name": "stdout",
     "output_type": "stream",
     "text": [
      "Length of Labeled Pool: 2600\n",
      "Length of Unlabeled Pool: 13400\n",
      "Epoch 5/50, Loss: 0.3355\n",
      "Epoch 10/50, Loss: 0.3396\n",
      "Epoch 15/50, Loss: 0.3355\n",
      "Epoch 20/50, Loss: 0.3462\n",
      "Epoch 25/50, Loss: 0.3188\n",
      "Epoch 30/50, Loss: 0.3354\n",
      "Epoch 35/50, Loss: 0.3096\n",
      "Epoch 40/50, Loss: 0.3098\n",
      "Epoch 45/50, Loss: 0.3072\n",
      "Epoch 50/50, Loss: 0.3102\n",
      "Per-class F1 scores: [0.8949374  0.8905804  0.88732824]\n",
      "Overall Accuracy: 89.12%\n",
      "Average F1 Score: 0.8909\n",
      "\n",
      "--- Round 14 ---\n"
     ]
    },
    {
     "name": "stderr",
     "output_type": "stream",
     "text": [
      "MC Dropout Simulations: 100%|██████████| 30/30 [00:25<00:00,  1.18it/s]\n"
     ]
    },
    {
     "name": "stdout",
     "output_type": "stream",
     "text": [
      "Length of Labeled Pool: 2800\n",
      "Length of Unlabeled Pool: 13200\n",
      "Epoch 5/50, Loss: 0.3364\n",
      "Epoch 10/50, Loss: 0.3243\n",
      "Epoch 15/50, Loss: 0.3168\n",
      "Epoch 20/50, Loss: 0.3264\n",
      "Epoch 25/50, Loss: 0.3154\n",
      "Epoch 30/50, Loss: 0.2910\n",
      "Epoch 35/50, Loss: 0.3101\n",
      "Epoch 40/50, Loss: 0.2921\n",
      "Epoch 45/50, Loss: 0.2820\n",
      "Epoch 50/50, Loss: 0.2862\n",
      "Per-class F1 scores: [0.90345584 0.8995122  0.89816762]\n",
      "Overall Accuracy: 90.08%\n",
      "Average F1 Score: 0.9004\n",
      "\n",
      "--- Round 15 ---\n"
     ]
    },
    {
     "name": "stderr",
     "output_type": "stream",
     "text": [
      "MC Dropout Simulations: 100%|██████████| 30/30 [00:25<00:00,  1.20it/s]\n"
     ]
    },
    {
     "name": "stdout",
     "output_type": "stream",
     "text": [
      "Length of Labeled Pool: 3000\n",
      "Length of Unlabeled Pool: 13000\n",
      "Epoch 5/50, Loss: 0.3392\n",
      "Epoch 10/50, Loss: 0.3164\n",
      "Epoch 15/50, Loss: 0.3389\n",
      "Epoch 20/50, Loss: 0.3151\n",
      "Epoch 25/50, Loss: 0.3088\n",
      "Epoch 30/50, Loss: 0.2970\n",
      "Epoch 35/50, Loss: 0.2781\n",
      "Epoch 40/50, Loss: 0.2786\n",
      "Epoch 45/50, Loss: 0.2684\n",
      "Epoch 50/50, Loss: 0.3051\n",
      "Per-class F1 scores: [0.90008212 0.89296046 0.89244713]\n",
      "Overall Accuracy: 89.60%\n",
      "Average F1 Score: 0.8952\n"
     ]
    }
   ],
   "source": [
    "num_rounds = 15\n",
    "epochs = 50\n",
    "query_size = 200 \n",
    "sim = 30\n",
    "\n",
    "\n",
    "for round_num in range(1, num_rounds + 1):\n",
    "    print(f\"\\n--- Round {round_num} ---\")\n",
    "\n",
    "    # Cold start: Re-initialize model at every round\n",
    "    # backbone = cnn_dropout().to(device)\n",
    "    # fc = FC_dropout(1024).to(device)\n",
    "    # backbone.load_state_dict(backbone_state)\n",
    "    # fc.load_state_dict(fc_state)\n",
    "    \n",
    "    # 1. Query k samples\n",
    "    queried_indices = predictive_entropy_sampling(\n",
    "        X=X_train,\n",
    "        model_backbone=backbone,\n",
    "        model_fc=fc,\n",
    "        k=query_size,\n",
    "        device=device,\n",
    "        unlabeled_pool=unlabeled_pool,\n",
    "        sim = sim\n",
    "    )\n",
    "\n",
    "    # 2. Update pools\n",
    "    new_indices = set(queried_indices) - labeled_pool  # avoid duplication\n",
    "    labeled_pool.update(new_indices)\n",
    "    unlabeled_pool.difference_update(new_indices)\n",
    "    print('Length of Labeled Pool:', len(labeled_pool))\n",
    "    print('Length of Unlabeled Pool:', len(unlabeled_pool))\n",
    "    \n",
    "    # 3. Build train loader\n",
    "    train_dataset = SimpleDataset(X_train[list(labeled_pool)], y_train[list(labeled_pool)])\n",
    "    train_loader = DataLoader(train_dataset, batch_size=32, shuffle=True)\n",
    "\n",
    "    # 4. Train + Evaluate\n",
    "    train(backbone, fc, train_loader, device, epochs=epochs)\n",
    "    f1s, acc, avg_f1 = eval_perf(val_dataloader, backbone, fc, device)\n",
    "    \n",
    "    print(\"Per-class F1 scores:\", f1s)\n",
    "    print(f\"Overall Accuracy: {acc * 100:.2f}%\")\n",
    "    print(f\"Average F1 Score: {avg_f1:.4f}\")\n",
    "\n",
    "    # 5. Update history\n",
    "    history[\"rounds\"].append(round_num)\n",
    "    history[\"num_labeled\"].append(len(labeled_pool))\n",
    "    history[\"accuracy\"].append(acc)\n",
    "    history[\"avg_f1\"].append(avg_f1)\n",
    "    history[\"f1s\"].append(f1s.tolist())"
   ]
  },
  {
   "cell_type": "code",
   "execution_count": 30,
   "metadata": {
    "execution": {
     "iopub.execute_input": "2025-07-29T09:32:21.400489Z",
     "iopub.status.busy": "2025-07-29T09:32:21.400084Z",
     "iopub.status.idle": "2025-07-29T09:32:21.543542Z",
     "shell.execute_reply": "2025-07-29T09:32:21.542706Z",
     "shell.execute_reply.started": "2025-07-29T09:32:21.400470Z"
    },
    "trusted": true
   },
   "outputs": [
    {
     "data": {
      "image/png": "[encoded data removed]",
      "text/plain": [
       "<Figure size 640x480 with 1 Axes>"
      ]
     },
     "metadata": {},
     "output_type": "display_data"
    }
   ],
   "source": [
    "plt.plot(history[\"num_labeled\"], [a * 100 for a in history[\"accuracy\"]], marker=\"o\")\n",
    "plt.title(\"Active Learning Accuracy vs. Labeled Data Size\")\n",
    "plt.xlabel(\"Number of Labeled Samples\")\n",
    "plt.ylabel(\"Accuracy (%)\")\n",
    "plt.grid()\n",
    "plt.show()"
   ]
  },
  {
   "cell_type": "markdown",
   "metadata": {},
   "source": [
    "<hr>"
   ]
  }
 ],
 "metadata": {
  "kaggle": {
   "accelerator": "gpu",
   "dataSources": [
    {
     "datasetId": 7956648,
     "sourceId": 12597357,
     "sourceType": "datasetVersion"
    }
   ],
   "dockerImageVersionId": 31090,
   "isGpuEnabled": true,
   "isInternetEnabled": true,
   "language": "python",
   "sourceType": "notebook"
  },
  "kernelspec": {
   "display_name": "Python 3",
   "language": "python",
   "name": "python3"
  },
  "language_info": {
   "codemirror_mode": {
    "name": "ipython",
    "version": 3
   },
   "file_extension": ".py",
   "mimetype": "text/x-python",
   "name": "python",
   "nbconvert_exporter": "python",
   "pygments_lexer": "ipython3",
   "version": "3.11.13"
  }
 },
 "nbformat": 4,
 "nbformat_minor": 4
}
