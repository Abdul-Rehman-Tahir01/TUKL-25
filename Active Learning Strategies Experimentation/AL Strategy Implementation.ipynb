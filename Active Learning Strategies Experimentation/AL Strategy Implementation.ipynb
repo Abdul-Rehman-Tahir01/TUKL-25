{
 "cells": [
  {
   "cell_type": "markdown",
   "metadata": {},
   "source": [
    "## Imports"
   ]
  },
  {
   "cell_type": "code",
   "execution_count": null,
   "metadata": {
    "_cell_guid": "b1076dfc-b9ad-4769-8c92-a6c4dae69d19",
    "_uuid": "8f2839f25d086af736a60e9eeb907d3b93b6e0e5",
    "execution": {
     "iopub.execute_input": "2025-07-28T10:25:42.507799Z",
     "iopub.status.busy": "2025-07-28T10:25:42.507265Z",
     "iopub.status.idle": "2025-07-28T10:25:47.080587Z",
     "shell.execute_reply": "2025-07-28T10:25:47.079789Z",
     "shell.execute_reply.started": "2025-07-28T10:25:42.507776Z"
    },
    "trusted": true
   },
   "outputs": [],
   "source": [
    "import numpy as np\n",
    "import matplotlib.pyplot as plt\n",
    "import torch\n",
    "import torch.nn as nn\n",
    "import torch.nn.functional as F\n",
    "from torch.utils.data import Dataset, DataLoader\n",
    "from collections import OrderedDict\n",
    "\n",
    "\n",
    "device = torch.device(\"cuda\" if torch.cuda.is_available() else \"cpu\")"
   ]
  },
  {
   "cell_type": "markdown",
   "metadata": {},
   "source": [
    "<hr>"
   ]
  },
  {
   "cell_type": "markdown",
   "metadata": {},
   "source": [
    "## Loading Files"
   ]
  },
  {
   "cell_type": "code",
   "execution_count": 2,
   "metadata": {
    "execution": {
     "iopub.execute_input": "2025-07-28T10:25:50.981589Z",
     "iopub.status.busy": "2025-07-28T10:25:50.980917Z",
     "iopub.status.idle": "2025-07-28T10:25:51.546850Z",
     "shell.execute_reply": "2025-07-28T10:25:51.546248Z",
     "shell.execute_reply.started": "2025-07-28T10:25:50.981567Z"
    },
    "trusted": true
   },
   "outputs": [
    {
     "name": "stdout",
     "output_type": "stream",
     "text": [
      "(20000, 6, 28) (20000,)\n"
     ]
    }
   ],
   "source": [
    "X = np.load('/kaggle/input/active-learning-subset/tar_image_subset.npy')\n",
    "y = np.load('/kaggle/input/active-learning-subset/label_target_subset.npy')\n",
    "\n",
    "print(X.shape, y.shape)"
   ]
  },
  {
   "cell_type": "markdown",
   "metadata": {},
   "source": [
    "<hr>"
   ]
  },
  {
   "cell_type": "markdown",
   "metadata": {},
   "source": [
    "## Dataset class"
   ]
  },
  {
   "cell_type": "code",
   "execution_count": 3,
   "metadata": {
    "execution": {
     "iopub.execute_input": "2025-07-28T10:25:51.730278Z",
     "iopub.status.busy": "2025-07-28T10:25:51.730032Z",
     "iopub.status.idle": "2025-07-28T10:25:51.735142Z",
     "shell.execute_reply": "2025-07-28T10:25:51.734430Z",
     "shell.execute_reply.started": "2025-07-28T10:25:51.730260Z"
    },
    "trusted": true
   },
   "outputs": [],
   "source": [
    "class SimpleDataset(Dataset):\n",
    "    def __init__(self, images, labels):\n",
    "        self.images = images.astype(np.float32)\n",
    "        self.labels = labels.astype(np.int64)\n",
    "\n",
    "    def __len__(self):\n",
    "        return len(self.images)\n",
    "\n",
    "    def __getitem__(self, idx):\n",
    "        x = torch.tensor(self.images[idx])  # shape: (6, 28)\n",
    "        y = torch.tensor(self.labels[idx])\n",
    "        return {\"x\": x, \"y\": y}"
   ]
  },
  {
   "cell_type": "code",
   "execution_count": 23,
   "metadata": {
    "execution": {
     "iopub.execute_input": "2025-07-28T10:30:28.508424Z",
     "iopub.status.busy": "2025-07-28T10:30:28.508136Z",
     "iopub.status.idle": "2025-07-28T10:30:28.518265Z",
     "shell.execute_reply": "2025-07-28T10:30:28.517503Z",
     "shell.execute_reply.started": "2025-07-28T10:30:28.508403Z"
    },
    "trusted": true
   },
   "outputs": [],
   "source": [
    "full_dataset = SimpleDataset(X, y)\n",
    "full_dataloader = DataLoader(full_dataset, batch_size=64, shuffle=False)"
   ]
  },
  {
   "cell_type": "markdown",
   "metadata": {},
   "source": [
    "<hr>"
   ]
  },
  {
   "cell_type": "markdown",
   "metadata": {},
   "source": [
    "## Model"
   ]
  },
  {
   "cell_type": "code",
   "execution_count": 4,
   "metadata": {
    "execution": {
     "iopub.execute_input": "2025-07-28T10:25:53.857873Z",
     "iopub.status.busy": "2025-07-28T10:25:53.857311Z",
     "iopub.status.idle": "2025-07-28T10:25:53.864339Z",
     "shell.execute_reply": "2025-07-28T10:25:53.863678Z",
     "shell.execute_reply.started": "2025-07-28T10:25:53.857851Z"
    },
    "trusted": true
   },
   "outputs": [],
   "source": [
    "################ CNN Backbone\n",
    "def conv_block(in_channels: int, out_channels: int) -> nn.Module:\n",
    "    return nn.Sequential(\n",
    "        nn.Conv1d(in_channels, out_channels, 5,padding='same'),\n",
    "        nn.BatchNorm1d(out_channels),\n",
    "        nn.ReLU(),\n",
    "    )\n",
    " \n",
    " \n",
    "class cnn(nn.Module):\n",
    "    def __init__(self):\n",
    "        super(cnn, self).__init__()\n",
    "        self.conv1 = conv_block(6, 64)\n",
    "        self.conv2 = conv_block(64, 128)\n",
    "        self.conv3 = conv_block(128, 256)\n",
    "        self.conv4 = conv_block(256, 512)\n",
    "        self.conv5 = conv_block(512, 1024)\n",
    "\n",
    "        self.global_pool = nn.AdaptiveAvgPool1d((1))\n",
    " \n",
    "    def forward(self, x):\n",
    "        x = self.conv1(x)\n",
    "        x = self.conv2(x)\n",
    "        x = self.conv3(x)\n",
    "        x = self.conv4(x)\n",
    "        x = self.conv5(x)\n",
    " \n",
    "        x=self.global_pool(x)\n",
    "\n",
    "        x = x.view(x.size(0), -1)\n",
    "\n",
    "        return x\n",
    " \n",
    " \n",
    "################ Fully connected network\n",
    "class FC(nn.Module):\n",
    "    def __init__(self,input_dim):\n",
    "        super(FC, self).__init__()\n",
    "        self.fco = nn.Linear(input_dim, 3)\n",
    "\n",
    "    def forward(self, x):\n",
    "        x=self.fco(x)\n",
    "        return x"
   ]
  },
  {
   "cell_type": "code",
   "execution_count": 5,
   "metadata": {
    "execution": {
     "iopub.execute_input": "2025-07-28T10:25:55.334602Z",
     "iopub.status.busy": "2025-07-28T10:25:55.334083Z",
     "iopub.status.idle": "2025-07-28T10:25:55.792642Z",
     "shell.execute_reply": "2025-07-28T10:25:55.791905Z",
     "shell.execute_reply.started": "2025-07-28T10:25:55.334575Z"
    },
    "trusted": true
   },
   "outputs": [
    {
     "data": {
      "text/plain": [
       "<All keys matched successfully>"
      ]
     },
     "execution_count": 5,
     "metadata": {},
     "output_type": "execute_result"
    }
   ],
   "source": [
    "# Loading model weights\n",
    "backbone_state = torch.load('/kaggle/input/active-learning-subset/backboneSiteA2019.pth')\n",
    "fc_state = torch.load('/kaggle/input/active-learning-subset/fcSiteA2019.pth')\n",
    "\n",
    "backbone_state = OrderedDict((k.replace('module.', ''), v) for k, v in backbone_state.items())\n",
    "fc_state = OrderedDict((k.replace('module.', ''), v) for k, v in fc_state.items())\n",
    "\n",
    "# Initialize and load models\n",
    "backbone = cnn()\n",
    "backbone.to(device)\n",
    "\n",
    "fc = FC(1024)\n",
    "fc.to(device)\n",
    "\n",
    "backbone.load_state_dict(backbone_state)\n",
    "fc.load_state_dict(fc_state)"
   ]
  },
  {
   "cell_type": "markdown",
   "metadata": {},
   "source": [
    "<hr>"
   ]
  },
  {
   "cell_type": "markdown",
   "metadata": {},
   "source": [
    "## Evaluation Function"
   ]
  },
  {
   "cell_type": "code",
   "execution_count": 6,
   "metadata": {
    "execution": {
     "iopub.execute_input": "2025-07-28T10:25:58.036598Z",
     "iopub.status.busy": "2025-07-28T10:25:58.035887Z",
     "iopub.status.idle": "2025-07-28T10:25:58.042136Z",
     "shell.execute_reply": "2025-07-28T10:25:58.041325Z",
     "shell.execute_reply.started": "2025-07-28T10:25:58.036572Z"
    },
    "trusted": true
   },
   "outputs": [],
   "source": [
    "def eval_perf(dataloader, backbone, fc, device):\n",
    "    backbone.eval()\n",
    "    fc.eval()\n",
    "\n",
    "    pred=[]\n",
    "    gt=[]\n",
    "\n",
    "    with torch.no_grad():\n",
    "        for batch in dataloader:\n",
    "            xt, yt = batch[\"x\"].to(device), batch[\"y\"].to(device)\n",
    "\n",
    "            # Forward pass through backbone and FC head\n",
    "            features = backbone(xt)\n",
    "            outputs = fc(features)\n",
    "            \n",
    "            yt_pred = torch.argmax(outputs, dim=1)\n",
    "            pred.extend(yt_pred.cpu().numpy())\n",
    "            gt.extend(yt.cpu().numpy())\n",
    "\n",
    "    # Convert to numpy arrays\n",
    "    pred = np.array(pred)\n",
    "    gt = np.array(gt)\n",
    "\n",
    "    # Computing metrics\n",
    "    f1s = sklearn.metrics.f1_score(gt, pred, average=None)\n",
    "    acc = np.mean(pred == gt)\n",
    "    avg_f1 = f1s.mean()\n",
    "\n",
    "    # Set models back to train mode\n",
    "    backbone.train()\n",
    "    fc.train()\n",
    "\n",
    "    return f1s, acc, avg_f1"
   ]
  },
  {
   "cell_type": "markdown",
   "metadata": {},
   "source": [
    "## Query Sampler"
   ]
  },
  {
   "cell_type": "code",
   "execution_count": 15,
   "metadata": {
    "execution": {
     "iopub.execute_input": "2025-07-28T10:28:23.847641Z",
     "iopub.status.busy": "2025-07-28T10:28:23.846917Z",
     "iopub.status.idle": "2025-07-28T10:28:23.854847Z",
     "shell.execute_reply": "2025-07-28T10:28:23.854030Z",
     "shell.execute_reply.started": "2025-07-28T10:28:23.847618Z"
    },
    "trusted": true
   },
   "outputs": [],
   "source": [
    "# Initialize pools\n",
    "labeled_pool = set()\n",
    "unlabeled_pool = set(range(len(X)))  # {0, 1, ..., 19999}\n",
    "\n",
    "def query_least_confident(X, model_backbone, model_fc, k, device, unlabeled_pool):\n",
    "    model_backbone.eval()\n",
    "    model_fc.eval()\n",
    "\n",
    "    X = np.array(X)  # ensure indexing works\n",
    "    all_probs = []\n",
    "    idx_list = sorted(list(unlabeled_pool))\n",
    "    \n",
    "    with torch.no_grad():\n",
    "        for i in range(0, len(idx_list), 64):\n",
    "            batch_indices = idx_list[i:i+64]\n",
    "            batch = torch.tensor(X[batch_indices], dtype=torch.float32).to(device)\n",
    "            feats = model_backbone(batch)\n",
    "            out = model_fc(feats)\n",
    "            probs = torch.nn.functional.softmax(out, dim=1)\n",
    "            max_confidence = torch.max(probs, dim=1)[0]\n",
    "            all_probs.extend(zip(batch_indices, max_confidence.cpu().numpy()))\n",
    "\n",
    "    # Sort by lowest confidence (most uncertain)\n",
    "    sorted_by_conf = sorted(all_probs, key=lambda x: x[1])\n",
    "    queried = [idx for idx, conf in sorted_by_conf[:k]]\n",
    "\n",
    "    return queried"
   ]
  },
  {
   "cell_type": "markdown",
   "metadata": {},
   "source": [
    "<hr>"
   ]
  },
  {
   "cell_type": "markdown",
   "metadata": {},
   "source": [
    "## Training Loop"
   ]
  },
  {
   "cell_type": "code",
   "execution_count": 31,
   "metadata": {
    "execution": {
     "iopub.execute_input": "2025-07-28T10:42:01.451696Z",
     "iopub.status.busy": "2025-07-28T10:42:01.451113Z",
     "iopub.status.idle": "2025-07-28T10:42:01.455500Z",
     "shell.execute_reply": "2025-07-28T10:42:01.454732Z",
     "shell.execute_reply.started": "2025-07-28T10:42:01.451673Z"
    },
    "trusted": true
   },
   "outputs": [],
   "source": [
    "history = {\n",
    "    \"rounds\": [],\n",
    "    \"num_labeled\": [],\n",
    "    \"accuracy\": [],\n",
    "    \"avg_f1\": [],\n",
    "    \"f1s\": [],\n",
    "}"
   ]
  },
  {
   "cell_type": "code",
   "execution_count": 28,
   "metadata": {
    "execution": {
     "iopub.execute_input": "2025-07-28T10:31:09.267519Z",
     "iopub.status.busy": "2025-07-28T10:31:09.266730Z",
     "iopub.status.idle": "2025-07-28T10:31:09.272723Z",
     "shell.execute_reply": "2025-07-28T10:31:09.271912Z",
     "shell.execute_reply.started": "2025-07-28T10:31:09.267494Z"
    },
    "trusted": true
   },
   "outputs": [],
   "source": [
    "def train(backbone, fc, train_loader, device, epochs=15):\n",
    "    backbone.train()\n",
    "    fc.train()\n",
    "\n",
    "    optimizer = torch.optim.Adam(list(backbone.parameters()) + list(fc.parameters()), lr=1e-3)\n",
    "\n",
    "    for epoch in range(epochs):\n",
    "        total_loss = 0\n",
    "        for batch in train_loader:\n",
    "            xt = batch[\"x\"].to(device)\n",
    "            yt = batch[\"y\"].to(device)\n",
    "\n",
    "            optimizer.zero_grad()\n",
    "\n",
    "            features = backbone(xt)\n",
    "            outputs = fc(features)\n",
    "            loss = F.cross_entropy(outputs, yt)\n",
    "            loss.backward()\n",
    "            optimizer.step()\n",
    "\n",
    "            total_loss += loss.item()\n",
    "\n",
    "        print(f\"Epoch {epoch+1}/{epochs}, Loss: {total_loss / len(train_loader):.4f}\")"
   ]
  },
  {
   "cell_type": "markdown",
   "metadata": {},
   "source": [
    "<hr>"
   ]
  },
  {
   "cell_type": "markdown",
   "metadata": {},
   "source": [
    "## AL Pipeline Loop"
   ]
  },
  {
   "cell_type": "code",
   "execution_count": 32,
   "metadata": {
    "execution": {
     "iopub.execute_input": "2025-07-28T10:43:15.911219Z",
     "iopub.status.busy": "2025-07-28T10:43:15.910588Z",
     "iopub.status.idle": "2025-07-28T10:43:45.015713Z",
     "shell.execute_reply": "2025-07-28T10:43:45.015058Z",
     "shell.execute_reply.started": "2025-07-28T10:43:15.911187Z"
    },
    "trusted": true
   },
   "outputs": [
    {
     "name": "stdout",
     "output_type": "stream",
     "text": [
      "\n",
      "--- Active Learning Round 1 ---\n",
      "Labeled Pool: 220\n",
      "Unlabeled Pool: 19780\n",
      "Epoch 1/5, Loss: 0.8425\n",
      "Epoch 2/5, Loss: 0.6387\n",
      "Epoch 3/5, Loss: 0.6005\n",
      "Epoch 4/5, Loss: 0.3422\n",
      "Epoch 5/5, Loss: 0.2636\n",
      "Per-class F1 scores: [0.78364159 0.74162445 0.73063973]\n",
      "Overall Accuracy: 75.67%\n",
      "Average F1 Score: 0.7520\n",
      "\n",
      "--- Active Learning Round 2 ---\n",
      "Labeled Pool: 320\n",
      "Unlabeled Pool: 19680\n",
      "Epoch 1/5, Loss: 0.5951\n",
      "Epoch 2/5, Loss: 0.4209\n",
      "Epoch 3/5, Loss: 0.2984\n",
      "Epoch 4/5, Loss: 0.2235\n",
      "Epoch 5/5, Loss: 0.1930\n",
      "Per-class F1 scores: [0.65500418 0.84539598 0.76263866]\n",
      "Overall Accuracy: 73.50%\n",
      "Average F1 Score: 0.7543\n",
      "\n",
      "--- Active Learning Round 3 ---\n",
      "Labeled Pool: 420\n",
      "Unlabeled Pool: 19580\n",
      "Epoch 1/5, Loss: 0.3736\n",
      "Epoch 2/5, Loss: 0.3643\n",
      "Epoch 3/5, Loss: 0.3308\n",
      "Epoch 4/5, Loss: 0.3563\n",
      "Epoch 5/5, Loss: 0.3470\n",
      "Per-class F1 scores: [0.77611758 0.46052991 0.75905842]\n",
      "Overall Accuracy: 73.87%\n",
      "Average F1 Score: 0.6652\n",
      "\n",
      "--- Active Learning Round 4 ---\n",
      "Labeled Pool: 520\n",
      "Unlabeled Pool: 19480\n",
      "Epoch 1/5, Loss: 0.4304\n",
      "Epoch 2/5, Loss: 0.3153\n",
      "Epoch 3/5, Loss: 0.2847\n",
      "Epoch 4/5, Loss: 0.2378\n",
      "Epoch 5/5, Loss: 0.2640\n",
      "Per-class F1 scores: [0.81020827 0.81939733 0.82779759]\n",
      "Overall Accuracy: 81.92%\n",
      "Average F1 Score: 0.8191\n",
      "\n",
      "--- Active Learning Round 5 ---\n",
      "Labeled Pool: 620\n",
      "Unlabeled Pool: 19380\n",
      "Epoch 1/5, Loss: 0.5164\n",
      "Epoch 2/5, Loss: 0.3610\n",
      "Epoch 3/5, Loss: 0.2741\n",
      "Epoch 4/5, Loss: 0.2269\n",
      "Epoch 5/5, Loss: 0.2961\n",
      "Per-class F1 scores: [0.8337691  0.84437475 0.84728897]\n",
      "Overall Accuracy: 84.11%\n",
      "Average F1 Score: 0.8418\n",
      "\n",
      "--- Active Learning Round 6 ---\n",
      "Labeled Pool: 720\n",
      "Unlabeled Pool: 19280\n",
      "Epoch 1/5, Loss: 0.5111\n",
      "Epoch 2/5, Loss: 0.3412\n",
      "Epoch 3/5, Loss: 0.2827\n",
      "Epoch 4/5, Loss: 0.2398\n",
      "Epoch 5/5, Loss: 0.2748\n",
      "Per-class F1 scores: [0.86019964 0.85919911 0.85226167]\n",
      "Overall Accuracy: 85.68%\n",
      "Average F1 Score: 0.8572\n",
      "\n",
      "--- Active Learning Round 7 ---\n",
      "Labeled Pool: 820\n",
      "Unlabeled Pool: 19180\n",
      "Epoch 1/5, Loss: 0.4516\n",
      "Epoch 2/5, Loss: 0.3103\n",
      "Epoch 3/5, Loss: 0.2926\n",
      "Epoch 4/5, Loss: 0.2316\n",
      "Epoch 5/5, Loss: 0.2454\n",
      "Per-class F1 scores: [0.83735399 0.84297521 0.84621751]\n",
      "Overall Accuracy: 84.20%\n",
      "Average F1 Score: 0.8422\n",
      "\n",
      "--- Active Learning Round 8 ---\n",
      "Labeled Pool: 920\n",
      "Unlabeled Pool: 19080\n",
      "Epoch 1/5, Loss: 0.3422\n",
      "Epoch 2/5, Loss: 0.2171\n",
      "Epoch 3/5, Loss: 0.1646\n",
      "Epoch 4/5, Loss: 0.2586\n",
      "Epoch 5/5, Loss: 0.2615\n",
      "Per-class F1 scores: [0.85991836 0.87609274 0.83236919]\n",
      "Overall Accuracy: 85.15%\n",
      "Average F1 Score: 0.8561\n",
      "\n",
      "--- Active Learning Round 9 ---\n",
      "Labeled Pool: 1020\n",
      "Unlabeled Pool: 18980\n",
      "Epoch 1/5, Loss: 0.4167\n",
      "Epoch 2/5, Loss: 0.2618\n",
      "Epoch 3/5, Loss: 0.2100\n",
      "Epoch 4/5, Loss: 0.1969\n",
      "Epoch 5/5, Loss: 0.1785\n",
      "Per-class F1 scores: [0.8322503  0.88236387 0.85382521]\n",
      "Overall Accuracy: 84.87%\n",
      "Average F1 Score: 0.8561\n",
      "\n",
      "--- Active Learning Round 10 ---\n",
      "Labeled Pool: 1120\n",
      "Unlabeled Pool: 18880\n",
      "Epoch 1/5, Loss: 0.2822\n",
      "Epoch 2/5, Loss: 0.2189\n",
      "Epoch 3/5, Loss: 0.2114\n",
      "Epoch 4/5, Loss: 0.1496\n",
      "Epoch 5/5, Loss: 0.2035\n",
      "Per-class F1 scores: [0.87517684 0.89320777 0.86561241]\n",
      "Overall Accuracy: 87.34%\n",
      "Average F1 Score: 0.8780\n"
     ]
    }
   ],
   "source": [
    "num_rounds = 10\n",
    "\n",
    "for round_num in range(1, num_rounds+1):\n",
    "    print(f\"\\n--- Active Learning Round {round_num} ---\")\n",
    "    \n",
    "    # 1. Query k samples\n",
    "    queried_indices = query_least_confident(\n",
    "        X=X,\n",
    "        model_backbone=backbone,\n",
    "        model_fc=fc,\n",
    "        k=100,\n",
    "        device=device,\n",
    "        unlabeled_pool=unlabeled_pool\n",
    "    )\n",
    "\n",
    "    # 2. Update pools\n",
    "    labeled_pool.update(queried_indices)\n",
    "    unlabeled_pool.difference_update(queried_indices)\n",
    "    print(f'Labeled Pool: {len(labeled_pool)}')\n",
    "    print(f'Unlabeled Pool: {len(unlabeled_pool)}')\n",
    "\n",
    "    # 3. Build train loader\n",
    "    train_dataset = SimpleDataset(X[list(labeled_pool)], y[list(labeled_pool)])\n",
    "    train_loader = DataLoader(train_dataset, batch_size=32, shuffle=True)\n",
    "\n",
    "    # 4. Train + Evaluate\n",
    "    train(backbone, fc, train_loader, device, epochs=5)\n",
    "    f1s, acc, avg_f1 = eval_perf(full_dataloader, backbone, fc, device)\n",
    "\n",
    "    print(\"Per-class F1 scores:\", f1s)\n",
    "    print(f\"Overall Accuracy: {acc * 100:.2f}%\")\n",
    "    print(f\"Average F1 Score: {avg_f1:.4f}\")\n",
    "\n",
    "    # 6. Update history\n",
    "    history[\"rounds\"].append(round_num)\n",
    "    history[\"num_labeled\"].append(len(labeled_pool))\n",
    "    history[\"accuracy\"].append(acc)\n",
    "    history[\"avg_f1\"].append(avg_f1)\n",
    "    history[\"f1s\"].append(f1s.tolist())"
   ]
  },
  {
   "cell_type": "code",
   "execution_count": 33,
   "metadata": {
    "execution": {
     "iopub.execute_input": "2025-07-28T10:44:06.176067Z",
     "iopub.status.busy": "2025-07-28T10:44:06.175342Z",
     "iopub.status.idle": "2025-07-28T10:44:06.388962Z",
     "shell.execute_reply": "2025-07-28T10:44:06.388348Z",
     "shell.execute_reply.started": "2025-07-28T10:44:06.176041Z"
    },
    "trusted": true
   },
   "outputs": [
    {
     "data": {
      "image/png": "[encoded data removed]",
      "text/plain": [
       "<Figure size 640x480 with 1 Axes>"
      ]
     },
     "metadata": {},
     "output_type": "display_data"
    }
   ],
   "source": [
    "plt.plot(history[\"num_labeled\"], [a * 100 for a in history[\"accuracy\"]], marker=\"o\")\n",
    "plt.title(\"Active Learning Accuracy vs. Labeled Data Size\")\n",
    "plt.xlabel(\"Number of Labeled Samples\")\n",
    "plt.ylabel(\"Accuracy (%)\")\n",
    "plt.grid()\n",
    "plt.show()"
   ]
  }
 ],
 "metadata": {
  "kaggle": {
   "accelerator": "gpu",
   "dataSources": [
    {
     "datasetId": 7956648,
     "sourceId": 12597357,
     "sourceType": "datasetVersion"
    }
   ],
   "dockerImageVersionId": 31090,
   "isGpuEnabled": true,
   "isInternetEnabled": true,
   "language": "python",
   "sourceType": "notebook"
  },
  "kernelspec": {
   "display_name": "Python 3",
   "language": "python",
   "name": "python3"
  },
  "language_info": {
   "codemirror_mode": {
    "name": "ipython",
    "version": 3
   },
   "file_extension": ".py",
   "mimetype": "text/x-python",
   "name": "python",
   "nbconvert_exporter": "python",
   "pygments_lexer": "ipython3",
   "version": "3.11.13"
  }
 },
 "nbformat": 4,
 "nbformat_minor": 4
}
