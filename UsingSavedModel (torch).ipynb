{
 "cells": [
  {
   "cell_type": "code",
   "execution_count": 6,
   "id": "03d1cb8d",
   "metadata": {},
   "outputs": [],
   "source": [
    "# Importing Libraries\n",
    "import torch\n",
    "import torchvision\n",
    "import matplotlib.pyplot as plt"
   ]
  },
  {
   "cell_type": "code",
   "execution_count": 2,
   "id": "2f99d070",
   "metadata": {},
   "outputs": [],
   "source": [
    "# Define the LeNet-5 model architecture again\n",
    "lenet_5_loaded = torch.nn.Sequential(\n",
    "    torch.nn.Conv2d(1, 6, kernel_size=5),\n",
    "    torch.nn.Tanh(),\n",
    "    torch.nn.AvgPool2d(kernel_size=2, stride=2),\n",
    "    \n",
    "    torch.nn.Conv2d(6, 16, kernel_size=5),\n",
    "    torch.nn.Tanh(),\n",
    "    torch.nn.AvgPool2d(kernel_size=2, stride=2),\n",
    "    \n",
    "    torch.nn.Flatten(),\n",
    "    torch.nn.Linear(5*5*16, 120),\n",
    "    torch.nn.Tanh(),\n",
    "    torch.nn.Linear(120, 84),\n",
    "    torch.nn.Tanh(),\n",
    "    torch.nn.Linear(84, 10)\n",
    ")"
   ]
  },
  {
   "cell_type": "code",
   "execution_count": 5,
   "id": "ca3c1c57",
   "metadata": {},
   "outputs": [
    {
     "data": {
      "text/plain": [
       "Sequential(\n",
       "  (0): Conv2d(1, 6, kernel_size=(5, 5), stride=(1, 1))\n",
       "  (1): Tanh()\n",
       "  (2): AvgPool2d(kernel_size=2, stride=2, padding=0)\n",
       "  (3): Conv2d(6, 16, kernel_size=(5, 5), stride=(1, 1))\n",
       "  (4): Tanh()\n",
       "  (5): AvgPool2d(kernel_size=2, stride=2, padding=0)\n",
       "  (6): Flatten(start_dim=1, end_dim=-1)\n",
       "  (7): Linear(in_features=400, out_features=120, bias=True)\n",
       "  (8): Tanh()\n",
       "  (9): Linear(in_features=120, out_features=84, bias=True)\n",
       "  (10): Tanh()\n",
       "  (11): Linear(in_features=84, out_features=10, bias=True)\n",
       ")"
      ]
     },
     "execution_count": 5,
     "metadata": {},
     "output_type": "execute_result"
    }
   ],
   "source": [
    "device = torch.device('cuda' if torch.cuda.is_available() else 'cpu')\n",
    "lenet_5_loaded.to(device)\n",
    "\n",
    "# Load the saved state dict\n",
    "lenet_5_loaded.load_state_dict(torch.load('models/lenet5_mnist.pth', map_location=device))\n",
    "lenet_5_loaded.eval()  # Set to evaluation mode"
   ]
  },
  {
   "cell_type": "code",
   "execution_count": 7,
   "id": "5691b90f",
   "metadata": {},
   "outputs": [
    {
     "data": {
      "image/png": "[encoded data removed]",
      "text/plain": [
       "<Figure size 640x480 with 1 Axes>"
      ]
     },
     "metadata": {},
     "output_type": "display_data"
    }
   ],
   "source": [
    "transform = torchvision.transforms.Compose([\n",
    "    torchvision.transforms.Pad(2),\n",
    "    torchvision.transforms.ToTensor()\n",
    "])\n",
    "\n",
    "# Load a sample image from the test dataset\n",
    "test_dataset = torchvision.datasets.MNIST(root='./data', train=False, download=True, transform=transform)\n",
    "sample_img, label = test_dataset[179]\n",
    "\n",
    "plt.imshow(sample_img.squeeze(), cmap='gray')\n",
    "plt.title(f'True Label: {label}')\n",
    "plt.show()"
   ]
  },
  {
   "cell_type": "code",
   "execution_count": 8,
   "id": "a73be6d3",
   "metadata": {},
   "outputs": [
    {
     "name": "stdout",
     "output_type": "stream",
     "text": [
      "Softmax Probabilities: [[3.2994234e-05 1.8448685e-03 7.0555792e-03 5.3113647e-04 1.9532811e-06\n",
      "  4.6566263e-05 4.2799511e-05 5.4479992e-06 9.9042165e-01 1.6884092e-05]]\n",
      "Predicted Digit: 8\n"
     ]
    }
   ],
   "source": [
    "# Predict\n",
    "with torch.no_grad():\n",
    "    sample_img = sample_img.unsqueeze(0).to(device)\n",
    "    output = lenet_5_loaded(sample_img)\n",
    "    prob = torch.nn.functional.softmax(output, dim=1)\n",
    "    print(f\"Softmax Probabilities: {prob.cpu().numpy()}\")\n",
    "    print(f\"Predicted Digit: {torch.argmax(prob).item()}\")"
   ]
  },
  {
   "cell_type": "markdown",
   "id": "66172315",
   "metadata": {},
   "source": [
    "<hr>"
   ]
  }
 ],
 "metadata": {
  "kernelspec": {
   "display_name": "Python 3",
   "language": "python",
   "name": "python3"
  },
  "language_info": {
   "codemirror_mode": {
    "name": "ipython",
    "version": 3
   },
   "file_extension": ".py",
   "mimetype": "text/x-python",
   "name": "python",
   "nbconvert_exporter": "python",
   "pygments_lexer": "ipython3",
   "version": "3.12.3"
  }
 },
 "nbformat": 4,
 "nbformat_minor": 5
}
