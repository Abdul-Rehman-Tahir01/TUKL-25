{
 "cells": [
  {
   "cell_type": "code",
   "execution_count": 1,
   "metadata": {
    "execution": {
     "iopub.execute_input": "2025-07-17T07:41:27.808862Z",
     "iopub.status.busy": "2025-07-17T07:41:27.808438Z",
     "iopub.status.idle": "2025-07-17T07:41:34.704665Z",
     "shell.execute_reply": "2025-07-17T07:41:34.703764Z",
     "shell.execute_reply.started": "2025-07-17T07:41:27.808832Z"
    },
    "trusted": true
   },
   "outputs": [
    {
     "name": "stdout",
     "output_type": "stream",
     "text": [
      "\u001b[2K   \u001b[90m━━━━━━━━━━━━━━━━━━━━━━━━━━━━━━━━━━━━━━━━\u001b[0m \u001b[32m22.2/22.2 MB\u001b[0m \u001b[31m79.4 MB/s\u001b[0m eta \u001b[36m0:00:00\u001b[0m:00:01\u001b[0m00:01\u001b[0m\n",
      "\u001b[?25h"
     ]
    }
   ],
   "source": [
    "!pip install -q rasterio  # -q is for quiet installation, non-verbose"
   ]
  },
  {
   "cell_type": "markdown",
   "metadata": {},
   "source": [
    "## Imports"
   ]
  },
  {
   "cell_type": "code",
   "execution_count": 2,
   "metadata": {
    "_cell_guid": "b1076dfc-b9ad-4769-8c92-a6c4dae69d19",
    "_uuid": "8f2839f25d086af736a60e9eeb907d3b93b6e0e5",
    "execution": {
     "iopub.execute_input": "2025-07-17T07:41:34.706663Z",
     "iopub.status.busy": "2025-07-17T07:41:34.705657Z",
     "iopub.status.idle": "2025-07-17T07:41:42.078979Z",
     "shell.execute_reply": "2025-07-17T07:41:42.078340Z",
     "shell.execute_reply.started": "2025-07-17T07:41:34.706624Z"
    },
    "trusted": true
   },
   "outputs": [],
   "source": [
    "import os\n",
    "import torch\n",
    "import numpy as np\n",
    "import rasterio\n",
    "import glob\n",
    "from tqdm import tqdm\n",
    "import random\n",
    "from sklearn.model_selection import train_test_split\n",
    "import matplotlib.pyplot as plt"
   ]
  },
  {
   "cell_type": "markdown",
   "metadata": {},
   "source": [
    "## Parameters"
   ]
  },
  {
   "cell_type": "code",
   "execution_count": 3,
   "metadata": {
    "execution": {
     "iopub.execute_input": "2025-07-17T07:41:42.080926Z",
     "iopub.status.busy": "2025-07-17T07:41:42.080570Z",
     "iopub.status.idle": "2025-07-17T07:41:42.085420Z",
     "shell.execute_reply": "2025-07-17T07:41:42.084615Z",
     "shell.execute_reply.started": "2025-07-17T07:41:42.080907Z"
    },
    "trusted": true
   },
   "outputs": [],
   "source": [
    "base_path = '/kaggle/input/sentinel2-crop-mapping'\n",
    "regions = ['lombardia', 'lombardia2']  # Lombardia3 is not being used for training and validation\n",
    "years = ['data2016', 'data2017', 'data2018']  # data2019 is not being used for training and validation\n",
    "\n",
    "num_timesteps = 32  # Due to variable timesteps in each year, in each region, only first 32 timesteps are taken\n",
    "batch_size = 64"
   ]
  },
  {
   "cell_type": "markdown",
   "metadata": {},
   "source": [
    "## Dataset Preprocessing and Loading"
   ]
  },
  {
   "cell_type": "code",
   "execution_count": 4,
   "metadata": {
    "execution": {
     "iopub.execute_input": "2025-07-17T07:41:42.086712Z",
     "iopub.status.busy": "2025-07-17T07:41:42.086427Z",
     "iopub.status.idle": "2025-07-17T07:41:42.109112Z",
     "shell.execute_reply": "2025-07-17T07:41:42.108422Z",
     "shell.execute_reply.started": "2025-07-17T07:41:42.086687Z"
    },
    "trusted": true
   },
   "outputs": [],
   "source": [
    "class Sentinel2Dataset(torch.utils.data.Dataset):\n",
    "    def __init__(self, tile_dirs, num_timesteps=32, transform=None):\n",
    "        \"\"\"\n",
    "            Args:\n",
    "                tile_dirs (list of str): List of paths to tile folders\n",
    "                num_timestpes (int): Number of timesteps to use (e.g, 32)\n",
    "                transform: Optional transform to apply to input and mask\n",
    "        \"\"\"\n",
    "\n",
    "        self.tile_dirs = tile_dirs\n",
    "        self.num_timesteps = num_timesteps\n",
    "        self.transform = transform\n",
    "\n",
    "    def __len__(self):\n",
    "        return len(self.tile_dirs)\n",
    "\n",
    "    def __getitem__(self, idx):\n",
    "        tile_dir = self.tile_dirs[idx]\n",
    "\n",
    "        # List all .tif files that are not MSAVI or y.tif\n",
    "        tif_files = sorted([\n",
    "            f for f in os.listdir(tile_dir)\n",
    "            if f.endswith('.tif') and '_MSAVI' not in f and f!='y.tif'\n",
    "        ])\n",
    "\n",
    "        # Take the first num_timesteps\n",
    "        selected_files = tif_files[:self.num_timesteps]\n",
    "\n",
    "        # Load and stack all 9 band images\n",
    "        img_stack = []\n",
    "        for fname in selected_files:\n",
    "            with rasterio.open(os.path.join(tile_dir, fname)) as src:\n",
    "                img = src.read()  # Shape: (9, 48, 48)\n",
    "                img_stack.append(img)\n",
    "\n",
    "        # Stack into shape (9, 32, 48, 48) and then reshape to (9x32, 48, 48)\n",
    "        img_tensor = np.stack(img_stack, axis=1)     # (Band, T, H, W)\n",
    "        img_tensor = img_tensor.reshape(-1, 48, 48)  # (Band*T, H, W)\n",
    "\n",
    "        # Load the ground-truth mask (y.tif)\n",
    "        with rasterio.open(os.path.join(tile_dir, 'y.tif')) as src:\n",
    "            mask = src.read(1)  # Shape: (1, 48, 48), since single channel\n",
    "\n",
    "        # Convert to torch tensor\n",
    "        img_tensor = torch.tensor(img_tensor, dtype=torch.float32)\n",
    "        mask_tensor = torch.tensor(mask, dtype=torch.long)\n",
    "        mask_tensor[mask_tensor >= 20] = 255  # Mark invalid classes\n",
    "\n",
    "        if self.transform:\n",
    "            img_tensor, mask_tensor = self.transform(img_tensor, mask_tensor)\n",
    "\n",
    "        return img_tensor, mask_tensor"
   ]
  },
  {
   "cell_type": "code",
   "execution_count": 5,
   "metadata": {
    "execution": {
     "iopub.execute_input": "2025-07-17T07:41:42.110154Z",
     "iopub.status.busy": "2025-07-17T07:41:42.109878Z",
     "iopub.status.idle": "2025-07-17T07:41:42.355995Z",
     "shell.execute_reply": "2025-07-17T07:41:42.355443Z",
     "shell.execute_reply.started": "2025-07-17T07:41:42.110129Z"
    },
    "trusted": true
   },
   "outputs": [
    {
     "name": "stdout",
     "output_type": "stream",
     "text": [
      "Total tiles: 19969\n",
      "Train tiles: 15975\n",
      "Val tiles:   3994\n",
      "Length of Train Dataset: 15975\n",
      "Length of Val Dataset: 3994\n"
     ]
    }
   ],
   "source": [
    "# Collect all tile folder paths from regions/years\n",
    "tile_dirs = []\n",
    "for region in regions:\n",
    "    for year in years:\n",
    "        tile_dirs += glob.glob(os.path.join(base_path, region, year, '*'))\n",
    "\n",
    "# Shuffle and split\n",
    "train_tile_dirs, val_tile_dirs = train_test_split(\n",
    "    tile_dirs,\n",
    "    test_size = 0.2,\n",
    "    random_state = 42\n",
    ")\n",
    "\n",
    "# Print lengths\n",
    "print(f\"Total tiles: {len(tile_dirs)}\")\n",
    "print(f\"Train tiles: {len(train_tile_dirs)}\")\n",
    "print(f\"Val tiles:   {len(val_tile_dirs)}\")\n",
    "\n",
    "# Create dataset\n",
    "train_dataset = Sentinel2Dataset(train_tile_dirs, num_timesteps = num_timesteps)\n",
    "val_dataset = Sentinel2Dataset(val_tile_dirs, num_timesteps = num_timesteps)\n",
    "\n",
    "print(f'Length of Train Dataset: {len(train_dataset)}')\n",
    "print(f'Length of Val Dataset: {len(val_dataset)}')\n",
    "\n",
    "# Create dataloader\n",
    "train_dataloader = torch.utils.data.DataLoader(train_dataset, batch_size = batch_size, shuffle = True,\n",
    "                                              num_workers=4, pin_memory=True, prefetch_factor=2, persistent_workers=True)\n",
    "val_dataloader = torch.utils.data.DataLoader(val_dataset, batch_size = batch_size, shuffle = True,\n",
    "                                             num_workers=4, pin_memory=True, prefetch_factor=2, persistent_workers=True)"
   ]
  },
  {
   "cell_type": "markdown",
   "metadata": {},
   "source": [
    "-> Shape of the input is (9*32, 48, 48) and of output is (48, 48) with batch size of 8."
   ]
  },
  {
   "cell_type": "code",
   "execution_count": 6,
   "metadata": {
    "execution": {
     "iopub.execute_input": "2025-07-17T07:41:42.356815Z",
     "iopub.status.busy": "2025-07-17T07:41:42.356575Z",
     "iopub.status.idle": "2025-07-17T07:41:44.027195Z",
     "shell.execute_reply": "2025-07-17T07:41:44.026513Z",
     "shell.execute_reply.started": "2025-07-17T07:41:42.356799Z"
    },
    "trusted": true
   },
   "outputs": [
    {
     "name": "stdout",
     "output_type": "stream",
     "text": [
      "Train Sample:\n",
      "x_train shape: torch.Size([288, 48, 48])\n",
      "y_train shape: torch.Size([48, 48])\n",
      "x_train dtype: torch.float32\n",
      "y_train unique labels: tensor([  2,   7,   9,  11,  17, 255])\n"
     ]
    },
    {
     "name": "stderr",
     "output_type": "stream",
     "text": [
      "/tmp/ipykernel_36/2134571626.py:5: RuntimeWarning: invalid value encountered in divide\n",
      "  return np.clip((band - p2) / (p98 - p2), 0, 1)\n",
      "/usr/local/lib/python3.11/dist-packages/matplotlib/cm.py:478: RuntimeWarning: invalid value encountered in cast\n",
      "  xx = (xx * 255).astype(np.uint8)\n"
     ]
    },
    {
     "data": {
      "image/png": "[encoded data removed]",
      "text/plain": [
       "<Figure size 640x480 with 1 Axes>"
      ]
     },
     "metadata": {},
     "output_type": "display_data"
    },
    {
     "data": {
      "image/png": "[encoded data removed]",
      "text/plain": [
       "<Figure size 640x480 with 2 Axes>"
      ]
     },
     "metadata": {},
     "output_type": "display_data"
    },
    {
     "name": "stdout",
     "output_type": "stream",
     "text": [
      "\n",
      "Validation Sample:\n",
      "x_val shape: torch.Size([288, 48, 48])\n",
      "y_val shape: torch.Size([48, 48])\n",
      "x_val dtype: torch.float32\n",
      "y_val unique labels: tensor([  7,   9,  11,  17, 255])\n"
     ]
    },
    {
     "data": {
      "image/png": "[encoded data removed]",
      "text/plain": [
       "<Figure size 640x480 with 1 Axes>"
      ]
     },
     "metadata": {},
     "output_type": "display_data"
    },
    {
     "data": {
      "image/png": "[encoded data removed]",
      "text/plain": [
       "<Figure size 640x480 with 2 Axes>"
      ]
     },
     "metadata": {},
     "output_type": "display_data"
    }
   ],
   "source": [
    "# Visualizing the images (rgb composite for multispectral input)\n",
    "def normalize_band(band):\n",
    "    \"\"\"Contrast stretch to 2–98 percentile\"\"\"\n",
    "    p2, p98 = np.percentile(band, (2, 98))\n",
    "    return np.clip((band - p2) / (p98 - p2), 0, 1)\n",
    "    \n",
    "\n",
    "# Print from train dataset\n",
    "x_train, y_train = train_dataset[0]\n",
    "print(\"Train Sample:\")\n",
    "print(f\"x_train shape: {x_train.shape}\")  # Expected: (288, 48, 48)\n",
    "print(f\"y_train shape: {y_train.shape}\")  # Expected: (48, 48)\")\n",
    "print(f\"x_train dtype: {x_train.dtype}\")\n",
    "print(f\"y_train unique labels: {torch.unique(y_train)}\")  # Sanity check\n",
    "\n",
    "# Extract bands 4, 3, 2 from timestep 1\n",
    "b2 = 1   # Blue\n",
    "b3 = 2   # Green\n",
    "b4 = 3   # Red\n",
    "\n",
    "rgb = x_train[[b4, b3, b2]]  # Shape: (3, 48, 48)\n",
    "\n",
    "r = normalize_band(rgb[0].numpy())\n",
    "g = normalize_band(rgb[1].numpy())\n",
    "b = normalize_band(rgb[2].numpy())\n",
    "\n",
    "rgb_normalized = np.stack([r, g, b], axis=-1)\n",
    "\n",
    "# Show corrected image\n",
    "plt.imshow(rgb_normalized)\n",
    "plt.title(\"RGB Composite (Timestep 1, Normalized) - Train Sample\")\n",
    "plt.axis(\"off\")\n",
    "plt.show()\n",
    "\n",
    "# Show mask\n",
    "plt.imshow(y_train, cmap='tab20')\n",
    "plt.title(\"Ground Truth Mask - Train Sample\")\n",
    "plt.colorbar()\n",
    "plt.show()\n",
    "\n",
    "\n",
    "\n",
    "# Print from val dataset\n",
    "x_val, y_val = val_dataset[0]\n",
    "print(\"\\nValidation Sample:\")\n",
    "print(f\"x_val shape: {x_val.shape}\")  # Expected: (288, 48, 48)\n",
    "print(f\"y_val shape: {y_val.shape}\")  # Expected: (48, 48)\")\n",
    "print(f\"x_val dtype: {x_val.dtype}\")\n",
    "print(f\"y_val unique labels: {torch.unique(y_val)}\")\n",
    "\n",
    "\n",
    "# For Val data\n",
    "rgb = x_val[[b4, b3, b2]]  # Shape: (3, 48, 48)\n",
    "\n",
    "r = normalize_band(rgb[0].numpy())\n",
    "g = normalize_band(rgb[1].numpy())\n",
    "b = normalize_band(rgb[2].numpy())\n",
    "\n",
    "rgb_normalized = np.stack([r, g, b], axis=-1)\n",
    "\n",
    "# Show corrected image\n",
    "plt.imshow(rgb_normalized)\n",
    "plt.title(\"RGB Composite (Timestep 1, Normalized) - Val Sample\")\n",
    "plt.axis(\"off\")\n",
    "plt.show()\n",
    "\n",
    "# Show mask\n",
    "plt.imshow(y_val, cmap='tab20')\n",
    "plt.title(\"Ground Truth Mask - Val Sample\")\n",
    "plt.colorbar()\n",
    "plt.show()"
   ]
  },
  {
   "cell_type": "markdown",
   "metadata": {},
   "source": [
    "## 2D-CNN Model "
   ]
  },
  {
   "cell_type": "code",
   "execution_count": 7,
   "metadata": {
    "execution": {
     "iopub.execute_input": "2025-07-17T07:41:44.028089Z",
     "iopub.status.busy": "2025-07-17T07:41:44.027879Z",
     "iopub.status.idle": "2025-07-17T07:41:44.042424Z",
     "shell.execute_reply": "2025-07-17T07:41:44.041865Z",
     "shell.execute_reply.started": "2025-07-17T07:41:44.028073Z"
    },
    "trusted": true
   },
   "outputs": [
    {
     "name": "stdout",
     "output_type": "stream",
     "text": [
      "Sequential(\n",
      "  (0): Conv2d(288, 6, kernel_size=(5, 5), stride=(1, 1), padding=(2, 2))\n",
      "  (1): Tanh()\n",
      "  (2): AvgPool2d(kernel_size=2, stride=2, padding=0)\n",
      "  (3): Conv2d(6, 16, kernel_size=(5, 5), stride=(1, 1), padding=(2, 2))\n",
      "  (4): Tanh()\n",
      "  (5): AvgPool2d(kernel_size=2, stride=2, padding=0)\n",
      "  (6): Conv2d(16, 20, kernel_size=(1, 1), stride=(1, 1))\n",
      "  (7): Upsample(size=(48, 48), mode='bilinear')\n",
      ")\n"
     ]
    }
   ],
   "source": [
    "in_channels = 288  # 9*32\n",
    "num_classes = 20\n",
    "\n",
    "lenet_5 = torch.nn.Sequential(\n",
    "    torch.nn.Conv2d(in_channels, 6, kernel_size=5, padding=2), # C1: Conv (5x5), 6 filters:  (288 → 6), output: (6, 44, 44)\n",
    "    torch.nn.Tanh(),\n",
    "    torch.nn.AvgPool2d(kernel_size=2, stride=2),    # S1: Avg Pooling (2x2): output: (6, 22, 22)\n",
    "\n",
    "    torch.nn.Conv2d(6, 16, kernel_size=5, padding=2),          # C2: Conv (5x5), 16 filters: output: (16, 18, 18)\n",
    "    torch.nn.Tanh(),\n",
    "    torch.nn.AvgPool2d(kernel_size=2, stride=2),    # S2: Avg Pooling (2x2): output: (16, 9, 9)\n",
    "\n",
    "    torch.nn.Conv2d(16, num_classes, kernel_size=1),        # output: (20, 9, 9) — segmentation logits\n",
    "    torch.nn.Upsample(size=(48, 48), mode='bilinear', align_corners=False)  # Upsample to (48, 48)\n",
    ")\n",
    "\n",
    "print(lenet_5)"
   ]
  },
  {
   "cell_type": "markdown",
   "metadata": {},
   "source": [
    "-> The FC layers are removed and instead a Conv2D layer is used since we want the 2D segmentation map and FC layers flatten the 2d in 1d."
   ]
  },
  {
   "cell_type": "code",
   "execution_count": 8,
   "metadata": {
    "execution": {
     "iopub.execute_input": "2025-07-17T07:41:44.043342Z",
     "iopub.status.busy": "2025-07-17T07:41:44.043070Z",
     "iopub.status.idle": "2025-07-17T07:41:47.472299Z",
     "shell.execute_reply": "2025-07-17T07:41:47.471770Z",
     "shell.execute_reply.started": "2025-07-17T07:41:44.043318Z"
    },
    "trusted": true
   },
   "outputs": [
    {
     "name": "stdout",
     "output_type": "stream",
     "text": [
      "Using device: cuda\n"
     ]
    }
   ],
   "source": [
    "device = torch.device(\"cuda\" if torch.cuda.is_available() else \"cpu\")\n",
    "print(f\"Using device: {device}\")\n",
    "model = lenet_5.to(device)\n",
    "\n",
    "criterion = torch.nn.CrossEntropyLoss(ignore_index=255)\n",
    "optimizer = torch.optim.SGD(lenet_5.parameters(), lr=0.01)"
   ]
  },
  {
   "cell_type": "code",
   "execution_count": null,
   "metadata": {
    "execution": {
     "iopub.execute_input": "2025-07-17T07:41:47.474215Z",
     "iopub.status.busy": "2025-07-17T07:41:47.473909Z",
     "iopub.status.idle": "2025-07-17T07:41:47.481375Z",
     "shell.execute_reply": "2025-07-17T07:41:47.480646Z",
     "shell.execute_reply.started": "2025-07-17T07:41:47.474191Z"
    },
    "trusted": true
   },
   "outputs": [],
   "source": [
    "def calculate_pixel_accuracy(pred, target):\n",
    "    \"\"\"\n",
    "    Calculating pixel-wise accuracy by comparing the predicted class per pixel with the \n",
    "    ground truth and compute how many pixels were correctly classified.\n",
    "    \n",
    "    pred: tensor of shape (B, C, H, W) - raw logits\n",
    "    target: tensor of shape (B, H, W) - class labels \n",
    "    \"\"\"\n",
    "\n",
    "    with torch.no_grad():\n",
    "        pred_labels = torch.argmax(pred, dim=1)  # (B, H, W)\n",
    "        correct = (pred_labels == target).float()\n",
    "        accuracy = correct.sum() / correct.numel()\n",
    "        return accuracy.item()\n",
    "\n",
    "\n",
    "# Training step\n",
    "def train_one_epoch(model, loader, optimizer, criterion):\n",
    "    model.train()\n",
    "    running_loss = 0.0\n",
    "    running_accuracy = 0.0\n",
    "\n",
    "    for x, y in tqdm(loader, desc='Training'):\n",
    "        x, y = x.to(device), y.to(device)\n",
    "\n",
    "        optimizer.zero_grad()\n",
    "        out = model(x)  # (B, 20, 48, 48)\n",
    "        \n",
    "        loss = criterion(out, y)\n",
    "        loss.backward()\n",
    "        optimizer.step()\n",
    "\n",
    "        running_loss += loss.item()\n",
    "        running_accuracy += calculate_pixel_accuracy(out, y)\n",
    "\n",
    "    avg_loss = running_loss / len(loader)\n",
    "    avg_accuracy = running_accuracy / len(loader)\n",
    "\n",
    "    return avg_loss, avg_accuracy\n",
    "\n",
    "\n",
    "# Validation step\n",
    "def validate_one_epoch(model, loader, criterion):\n",
    "    model.eval()\n",
    "    running_loss = 0.0\n",
    "    running_accuracy = 0.0\n",
    "\n",
    "    with torch.no_grad():\n",
    "        for x, y in tqdm(loader, desc='Validating'):\n",
    "            x, y = x.to(device), y.to(device)\n",
    "\n",
    "            out = model(x)\n",
    "            loss = criterion(out, y)\n",
    "            \n",
    "            running_loss += loss.item()\n",
    "            running_accuracy = calculate_pixel_accuracy(out, y)\n",
    "\n",
    "    avg_loss = running_loss / len(loader)\n",
    "    avg_accuracy = running_accuracy / len(loader)\n",
    "\n",
    "    return avg_loss, avg_accuracy"
   ]
  },
  {
   "cell_type": "code",
   "execution_count": 12,
   "metadata": {
    "execution": {
     "iopub.execute_input": "2025-07-17T08:24:22.536662Z",
     "iopub.status.busy": "2025-07-17T08:24:22.536371Z",
     "iopub.status.idle": "2025-07-17T08:25:11.695006Z",
     "shell.execute_reply": "2025-07-17T08:25:11.693141Z",
     "shell.execute_reply.started": "2025-07-17T08:24:22.536641Z"
    },
    "trusted": true
   },
   "outputs": [
    {
     "name": "stderr",
     "output_type": "stream",
     "text": [
      "Training:   4%|▍         | 11/250 [00:49<17:47,  4.47s/it] \n"
     ]
    },
    {
     "ename": "NotADirectoryError",
     "evalue": "Caught NotADirectoryError in DataLoader worker process 3.\nOriginal Traceback (most recent call last):\n  File \"/usr/local/lib/python3.11/dist-packages/torch/utils/data/_utils/worker.py\", line 349, in _worker_loop\n    data = fetcher.fetch(index)  # type: ignore[possibly-undefined]\n           ^^^^^^^^^^^^^^^^^^^^\n  File \"/usr/local/lib/python3.11/dist-packages/torch/utils/data/_utils/fetch.py\", line 52, in fetch\n    data = [self.dataset[idx] for idx in possibly_batched_index]\n           ^^^^^^^^^^^^^^^^^^^^^^^^^^^^^^^^^^^^^^^^^^^^^^^^^^^^^\n  File \"/usr/local/lib/python3.11/dist-packages/torch/utils/data/_utils/fetch.py\", line 52, in <listcomp>\n    data = [self.dataset[idx] for idx in possibly_batched_index]\n            ~~~~~~~~~~~~^^^^^\n  File \"/tmp/ipykernel_36/3788693029.py\", line 22, in __getitem__\n    f for f in os.listdir(tile_dir)\n               ^^^^^^^^^^^^^^^^^^^^\nNotADirectoryError: [Errno 20] Not a directory: '/kaggle/input/sentinel2-crop-mapping/lombardia/data2018/tmplist2'\n",
     "output_type": "error",
     "traceback": [
      "\u001b[0;31m---------------------------------------------------------------------------\u001b[0m",
      "\u001b[0;31mNotADirectoryError\u001b[0m                        Traceback (most recent call last)",
      "\u001b[0;32m/tmp/ipykernel_36/2281654291.py\u001b[0m in \u001b[0;36m<cell line: 0>\u001b[0;34m()\u001b[0m\n\u001b[1;32m      3\u001b[0m \u001b[0;34m\u001b[0m\u001b[0m\n\u001b[1;32m      4\u001b[0m \u001b[0;32mfor\u001b[0m \u001b[0mepoch\u001b[0m \u001b[0;32min\u001b[0m \u001b[0mrange\u001b[0m\u001b[0;34m(\u001b[0m\u001b[0mnum_epochs\u001b[0m\u001b[0;34m)\u001b[0m\u001b[0;34m:\u001b[0m\u001b[0;34m\u001b[0m\u001b[0;34m\u001b[0m\u001b[0m\n\u001b[0;32m----> 5\u001b[0;31m     \u001b[0mtrain_loss\u001b[0m\u001b[0;34m,\u001b[0m \u001b[0mtrain_acc\u001b[0m \u001b[0;34m=\u001b[0m \u001b[0mtrain_one_epoch\u001b[0m\u001b[0;34m(\u001b[0m\u001b[0mmodel\u001b[0m\u001b[0;34m,\u001b[0m \u001b[0mtrain_dataloader\u001b[0m\u001b[0;34m,\u001b[0m \u001b[0moptimizer\u001b[0m\u001b[0;34m,\u001b[0m \u001b[0mcriterion\u001b[0m\u001b[0;34m)\u001b[0m\u001b[0;34m\u001b[0m\u001b[0;34m\u001b[0m\u001b[0m\n\u001b[0m\u001b[1;32m      6\u001b[0m     \u001b[0mval_loss\u001b[0m\u001b[0;34m,\u001b[0m \u001b[0mval_acc\u001b[0m \u001b[0;34m=\u001b[0m \u001b[0mvalidate_one_epoch\u001b[0m\u001b[0;34m(\u001b[0m\u001b[0mmodel\u001b[0m\u001b[0;34m,\u001b[0m \u001b[0mval_dataloader\u001b[0m\u001b[0;34m,\u001b[0m \u001b[0mcriterion\u001b[0m\u001b[0;34m)\u001b[0m\u001b[0;34m\u001b[0m\u001b[0;34m\u001b[0m\u001b[0m\n\u001b[1;32m      7\u001b[0m \u001b[0;34m\u001b[0m\u001b[0m\n",
      "\u001b[0;32m/tmp/ipykernel_36/161216035.py\u001b[0m in \u001b[0;36mtrain_one_epoch\u001b[0;34m(model, loader, optimizer, criterion)\u001b[0m\n\u001b[1;32m     21\u001b[0m     \u001b[0mrunning_accuracy\u001b[0m \u001b[0;34m=\u001b[0m \u001b[0;36m0.0\u001b[0m\u001b[0;34m\u001b[0m\u001b[0;34m\u001b[0m\u001b[0m\n\u001b[1;32m     22\u001b[0m \u001b[0;34m\u001b[0m\u001b[0m\n\u001b[0;32m---> 23\u001b[0;31m     \u001b[0;32mfor\u001b[0m \u001b[0mx\u001b[0m\u001b[0;34m,\u001b[0m \u001b[0my\u001b[0m \u001b[0;32min\u001b[0m \u001b[0mtqdm\u001b[0m\u001b[0;34m(\u001b[0m\u001b[0mloader\u001b[0m\u001b[0;34m,\u001b[0m \u001b[0mdesc\u001b[0m\u001b[0;34m=\u001b[0m\u001b[0;34m'Training'\u001b[0m\u001b[0;34m)\u001b[0m\u001b[0;34m:\u001b[0m\u001b[0;34m\u001b[0m\u001b[0;34m\u001b[0m\u001b[0m\n\u001b[0m\u001b[1;32m     24\u001b[0m         \u001b[0mx\u001b[0m\u001b[0;34m,\u001b[0m \u001b[0my\u001b[0m \u001b[0;34m=\u001b[0m \u001b[0mx\u001b[0m\u001b[0;34m.\u001b[0m\u001b[0mto\u001b[0m\u001b[0;34m(\u001b[0m\u001b[0mdevice\u001b[0m\u001b[0;34m)\u001b[0m\u001b[0;34m,\u001b[0m \u001b[0my\u001b[0m\u001b[0;34m.\u001b[0m\u001b[0mto\u001b[0m\u001b[0;34m(\u001b[0m\u001b[0mdevice\u001b[0m\u001b[0;34m)\u001b[0m\u001b[0;34m\u001b[0m\u001b[0;34m\u001b[0m\u001b[0m\n\u001b[1;32m     25\u001b[0m \u001b[0;34m\u001b[0m\u001b[0m\n",
      "\u001b[0;32m/usr/local/lib/python3.11/dist-packages/tqdm/std.py\u001b[0m in \u001b[0;36m__iter__\u001b[0;34m(self)\u001b[0m\n\u001b[1;32m   1179\u001b[0m \u001b[0;34m\u001b[0m\u001b[0m\n\u001b[1;32m   1180\u001b[0m         \u001b[0;32mtry\u001b[0m\u001b[0;34m:\u001b[0m\u001b[0;34m\u001b[0m\u001b[0;34m\u001b[0m\u001b[0m\n\u001b[0;32m-> 1181\u001b[0;31m             \u001b[0;32mfor\u001b[0m \u001b[0mobj\u001b[0m \u001b[0;32min\u001b[0m \u001b[0miterable\u001b[0m\u001b[0;34m:\u001b[0m\u001b[0;34m\u001b[0m\u001b[0;34m\u001b[0m\u001b[0m\n\u001b[0m\u001b[1;32m   1182\u001b[0m                 \u001b[0;32myield\u001b[0m \u001b[0mobj\u001b[0m\u001b[0;34m\u001b[0m\u001b[0;34m\u001b[0m\u001b[0m\n\u001b[1;32m   1183\u001b[0m                 \u001b[0;31m# Update and possibly print the progressbar.\u001b[0m\u001b[0;34m\u001b[0m\u001b[0;34m\u001b[0m\u001b[0m\n",
      "\u001b[0;32m/usr/local/lib/python3.11/dist-packages/torch/utils/data/dataloader.py\u001b[0m in \u001b[0;36m__next__\u001b[0;34m(self)\u001b[0m\n\u001b[1;32m    706\u001b[0m                 \u001b[0;31m# TODO(https://github.com/pytorch/pytorch/issues/76750)\u001b[0m\u001b[0;34m\u001b[0m\u001b[0;34m\u001b[0m\u001b[0m\n\u001b[1;32m    707\u001b[0m                 \u001b[0mself\u001b[0m\u001b[0;34m.\u001b[0m\u001b[0m_reset\u001b[0m\u001b[0;34m(\u001b[0m\u001b[0;34m)\u001b[0m  \u001b[0;31m# type: ignore[call-arg]\u001b[0m\u001b[0;34m\u001b[0m\u001b[0;34m\u001b[0m\u001b[0m\n\u001b[0;32m--> 708\u001b[0;31m             \u001b[0mdata\u001b[0m \u001b[0;34m=\u001b[0m \u001b[0mself\u001b[0m\u001b[0;34m.\u001b[0m\u001b[0m_next_data\u001b[0m\u001b[0;34m(\u001b[0m\u001b[0;34m)\u001b[0m\u001b[0;34m\u001b[0m\u001b[0;34m\u001b[0m\u001b[0m\n\u001b[0m\u001b[1;32m    709\u001b[0m             \u001b[0mself\u001b[0m\u001b[0;34m.\u001b[0m\u001b[0m_num_yielded\u001b[0m \u001b[0;34m+=\u001b[0m \u001b[0;36m1\u001b[0m\u001b[0;34m\u001b[0m\u001b[0;34m\u001b[0m\u001b[0m\n\u001b[1;32m    710\u001b[0m             if (\n",
      "\u001b[0;32m/usr/local/lib/python3.11/dist-packages/torch/utils/data/dataloader.py\u001b[0m in \u001b[0;36m_next_data\u001b[0;34m(self)\u001b[0m\n\u001b[1;32m   1453\u001b[0m                 \u001b[0mdata\u001b[0m \u001b[0;34m=\u001b[0m \u001b[0mself\u001b[0m\u001b[0;34m.\u001b[0m\u001b[0m_task_info\u001b[0m\u001b[0;34m.\u001b[0m\u001b[0mpop\u001b[0m\u001b[0;34m(\u001b[0m\u001b[0mself\u001b[0m\u001b[0;34m.\u001b[0m\u001b[0m_rcvd_idx\u001b[0m\u001b[0;34m)\u001b[0m\u001b[0;34m[\u001b[0m\u001b[0;36m1\u001b[0m\u001b[0;34m]\u001b[0m\u001b[0;34m\u001b[0m\u001b[0;34m\u001b[0m\u001b[0m\n\u001b[1;32m   1454\u001b[0m                 \u001b[0mself\u001b[0m\u001b[0;34m.\u001b[0m\u001b[0m_rcvd_idx\u001b[0m \u001b[0;34m+=\u001b[0m \u001b[0;36m1\u001b[0m\u001b[0;34m\u001b[0m\u001b[0;34m\u001b[0m\u001b[0m\n\u001b[0;32m-> 1455\u001b[0;31m                 \u001b[0;32mreturn\u001b[0m \u001b[0mself\u001b[0m\u001b[0;34m.\u001b[0m\u001b[0m_process_data\u001b[0m\u001b[0;34m(\u001b[0m\u001b[0mdata\u001b[0m\u001b[0;34m)\u001b[0m\u001b[0;34m\u001b[0m\u001b[0;34m\u001b[0m\u001b[0m\n\u001b[0m\u001b[1;32m   1456\u001b[0m \u001b[0;34m\u001b[0m\u001b[0m\n\u001b[1;32m   1457\u001b[0m             \u001b[0;32massert\u001b[0m \u001b[0;32mnot\u001b[0m \u001b[0mself\u001b[0m\u001b[0;34m.\u001b[0m\u001b[0m_shutdown\u001b[0m \u001b[0;32mand\u001b[0m \u001b[0mself\u001b[0m\u001b[0;34m.\u001b[0m\u001b[0m_tasks_outstanding\u001b[0m \u001b[0;34m>\u001b[0m \u001b[0;36m0\u001b[0m\u001b[0;34m\u001b[0m\u001b[0;34m\u001b[0m\u001b[0m\n",
      "\u001b[0;32m/usr/local/lib/python3.11/dist-packages/torch/utils/data/dataloader.py\u001b[0m in \u001b[0;36m_process_data\u001b[0;34m(self, data)\u001b[0m\n\u001b[1;32m   1503\u001b[0m         \u001b[0mself\u001b[0m\u001b[0;34m.\u001b[0m\u001b[0m_try_put_index\u001b[0m\u001b[0;34m(\u001b[0m\u001b[0;34m)\u001b[0m\u001b[0;34m\u001b[0m\u001b[0;34m\u001b[0m\u001b[0m\n\u001b[1;32m   1504\u001b[0m         \u001b[0;32mif\u001b[0m \u001b[0misinstance\u001b[0m\u001b[0;34m(\u001b[0m\u001b[0mdata\u001b[0m\u001b[0;34m,\u001b[0m \u001b[0mExceptionWrapper\u001b[0m\u001b[0;34m)\u001b[0m\u001b[0;34m:\u001b[0m\u001b[0;34m\u001b[0m\u001b[0;34m\u001b[0m\u001b[0m\n\u001b[0;32m-> 1505\u001b[0;31m             \u001b[0mdata\u001b[0m\u001b[0;34m.\u001b[0m\u001b[0mreraise\u001b[0m\u001b[0;34m(\u001b[0m\u001b[0;34m)\u001b[0m\u001b[0;34m\u001b[0m\u001b[0;34m\u001b[0m\u001b[0m\n\u001b[0m\u001b[1;32m   1506\u001b[0m         \u001b[0;32mreturn\u001b[0m \u001b[0mdata\u001b[0m\u001b[0;34m\u001b[0m\u001b[0;34m\u001b[0m\u001b[0m\n\u001b[1;32m   1507\u001b[0m \u001b[0;34m\u001b[0m\u001b[0m\n",
      "\u001b[0;32m/usr/local/lib/python3.11/dist-packages/torch/_utils.py\u001b[0m in \u001b[0;36mreraise\u001b[0;34m(self)\u001b[0m\n\u001b[1;32m    731\u001b[0m             \u001b[0;31m# instantiate since we don't know how to\u001b[0m\u001b[0;34m\u001b[0m\u001b[0;34m\u001b[0m\u001b[0m\n\u001b[1;32m    732\u001b[0m             \u001b[0;32mraise\u001b[0m \u001b[0mRuntimeError\u001b[0m\u001b[0;34m(\u001b[0m\u001b[0mmsg\u001b[0m\u001b[0;34m)\u001b[0m \u001b[0;32mfrom\u001b[0m \u001b[0;32mNone\u001b[0m\u001b[0;34m\u001b[0m\u001b[0;34m\u001b[0m\u001b[0m\n\u001b[0;32m--> 733\u001b[0;31m         \u001b[0;32mraise\u001b[0m \u001b[0mexception\u001b[0m\u001b[0;34m\u001b[0m\u001b[0;34m\u001b[0m\u001b[0m\n\u001b[0m\u001b[1;32m    734\u001b[0m \u001b[0;34m\u001b[0m\u001b[0m\n\u001b[1;32m    735\u001b[0m \u001b[0;34m\u001b[0m\u001b[0m\n",
      "\u001b[0;31mNotADirectoryError\u001b[0m: Caught NotADirectoryError in DataLoader worker process 3.\nOriginal Traceback (most recent call last):\n  File \"/usr/local/lib/python3.11/dist-packages/torch/utils/data/_utils/worker.py\", line 349, in _worker_loop\n    data = fetcher.fetch(index)  # type: ignore[possibly-undefined]\n           ^^^^^^^^^^^^^^^^^^^^\n  File \"/usr/local/lib/python3.11/dist-packages/torch/utils/data/_utils/fetch.py\", line 52, in fetch\n    data = [self.dataset[idx] for idx in possibly_batched_index]\n           ^^^^^^^^^^^^^^^^^^^^^^^^^^^^^^^^^^^^^^^^^^^^^^^^^^^^^\n  File \"/usr/local/lib/python3.11/dist-packages/torch/utils/data/_utils/fetch.py\", line 52, in <listcomp>\n    data = [self.dataset[idx] for idx in possibly_batched_index]\n            ~~~~~~~~~~~~^^^^^\n  File \"/tmp/ipykernel_36/3788693029.py\", line 22, in __getitem__\n    f for f in os.listdir(tile_dir)\n               ^^^^^^^^^^^^^^^^^^^^\nNotADirectoryError: [Errno 20] Not a directory: '/kaggle/input/sentinel2-crop-mapping/lombardia/data2018/tmplist2'\n"
     ]
    }
   ],
   "source": [
    "# Train loop\n",
    "num_epochs = 10\n",
    "\n",
    "for epoch in range(num_epochs):\n",
    "    train_loss, train_acc = train_one_epoch(model, train_dataloader, optimizer, criterion)\n",
    "    val_loss, val_acc = validate_one_epoch(model, val_dataloader, criterion)\n",
    "\n",
    "    print(f\"\\nEpoch {epoch+1}/{num_epochs}\")\n",
    "    print(f\"Train Loss: {train_loss:.4f}, Accuracy: {train_acc:.4f}\")\n",
    "    print(f\"Val   Loss: {val_loss:.4f}, Accuracy: {val_acc:.4f}\")"
   ]
  },
  {
   "cell_type": "code",
   "execution_count": null,
   "metadata": {
    "trusted": true
   },
   "outputs": [],
   "source": [
    "def visualize_prediction(model, dataset, idx=0):\n",
    "    model.eval()\n",
    "    x, y = dataset[idx]\n",
    "    x = x.unsqueeze(0).to(device)  # Add batch dim\n",
    "\n",
    "    with torch.no_grad():\n",
    "        pred = model(x)  # (1, 20, 48, 48)\n",
    "        pred_mask = pred.argmax(dim=1).squeeze().cpu()  # (48, 48)\n",
    "\n",
    "    # Plot\n",
    "    fig, axs = plt.subplots(1, 2, figsize=(8, 4))\n",
    "    axs[0].imshow(y, cmap='tab20')\n",
    "    axs[0].set_title(\"Ground Truth\")\n",
    "    axs[1].imshow(pred_mask, cmap='tab20')\n",
    "    axs[1].set_title(\"Predicted Mask\")\n",
    "    for ax in axs:\n",
    "        ax.axis(\"off\")\n",
    "    plt.tight_layout()\n",
    "    plt.show()\n",
    "\n",
    "# Try on train and val\n",
    "visualize_prediction(model, train_dataset, idx=0)\n",
    "visualize_prediction(model, val_dataset, idx=0)"
   ]
  },
  {
   "cell_type": "markdown",
   "metadata": {},
   "source": [
    "<hr>"
   ]
  }
 ],
 "metadata": {
  "kaggle": {
   "accelerator": "nvidiaTeslaT4",
   "dataSources": [
    {
     "datasetId": 2134482,
     "sourceId": 3549868,
     "sourceType": "datasetVersion"
    }
   ],
   "dockerImageVersionId": 31089,
   "isGpuEnabled": true,
   "isInternetEnabled": true,
   "language": "python",
   "sourceType": "notebook"
  },
  "kernelspec": {
   "display_name": "Python 3",
   "language": "python",
   "name": "python3"
  },
  "language_info": {
   "codemirror_mode": {
    "name": "ipython",
    "version": 3
   },
   "file_extension": ".py",
   "mimetype": "text/x-python",
   "name": "python",
   "nbconvert_exporter": "python",
   "pygments_lexer": "ipython3",
   "version": "3.11.13"
  }
 },
 "nbformat": 4,
 "nbformat_minor": 4
}
